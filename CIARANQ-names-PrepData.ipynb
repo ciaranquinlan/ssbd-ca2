{
 "cells": [
  {
   "cell_type": "markdown",
   "id": "31095069",
   "metadata": {},
   "source": [
    "#  CA2-Storage Solutions for Big Data, Data Visualization Techniques\n",
    "## Programme Title: HDip #AI Concepts - Feb 2023 - SB+HCI cohort\n",
    "## Assignment Title: Integrated Continuous Assessment 2\n",
    "## Lecturer(s): Muhammad Iqbal, James Garza\n",
    "\n",
    "#### Student Full Name:\tCiaran Quinlan, Student Number: sbs23098, sbs23098@student.cct.ie\n",
    "#### Submission Deadline Date: 26th Nov 2023\n"
   ]
  },
  {
   "cell_type": "code",
   "execution_count": 1,
   "id": "8d40a1bd",
   "metadata": {
    "scrolled": true
   },
   "outputs": [],
   "source": [
    "# DATA PREPARATION NOTEBOOK\n",
    "## this notebook is to prepare the datasets that I am using for the SSD CA2\n"
   ]
  },
  {
   "cell_type": "code",
   "execution_count": 2,
   "id": "e28ff2ea",
   "metadata": {},
   "outputs": [],
   "source": [
    "# IMPORT the pandas the library\n",
    "import pandas as pd\n",
    "\n",
    "# import the warnings file so we can supress unnecessary warnings when running code\n",
    "import warnings\n",
    "warnings.filterwarnings('ignore')   # The object 'warnings' is used to call the method 'filterwarnings' and ignore the warnings"
   ]
  },
  {
   "cell_type": "code",
   "execution_count": 3,
   "id": "25029636",
   "metadata": {},
   "outputs": [],
   "source": [
    "# FUNCTIONS - I wrote this for a CA in semester 1.\n",
    "# This function will rename Columns headings in a given DataFrame, \n",
    "# this is easy to use when you have a lot of re-naming or duplicate df's you want to apply same changes to\n",
    "# call the function with df (target DataFrame), name of columns you want to target,  new columns names\n",
    "def rename_columns(df, current_names, new_names):\n",
    "    if len(current_names) != len(new_names):\n",
    "        raise ValueError(\"current_names and new_names should have the same length\")\n",
    "    \n",
    "    mapping = dict(zip(current_names, new_names))\n",
    "    df = df.rename(columns=mapping)\n",
    "    return df"
   ]
  },
  {
   "cell_type": "code",
   "execution_count": 4,
   "id": "c2e75e82",
   "metadata": {},
   "outputs": [],
   "source": [
    "# FUNCTIONS - I wrote this for a CA in semester 1.\n",
    "# This function will Rename row data in given column in a given DataFrame, \n",
    "# this is easy to use when you have an array of data for the new colum, ie from a formula \n",
    "# call the function with df (target pandas DataFrame), # col_name of column you want to target,  new columns names array \n",
    "def rename_row_data(df, col_name, changes):\n",
    "    for old_val, new_val in changes.items():\n",
    "        df.loc[df[col_name] == old_val, col_name] = new_val\n",
    "# FUNCTIONS - I wrote this for a CA in semester 1.\n",
    "# This function will move a given column in a given DataFrame, to a new position\n",
    "def move_column(dataframe, column_name, position):\n",
    "    col = dataframe.pop(column_name)\n",
    "    dataframe.insert(position, column_name, col)"
   ]
  },
  {
   "cell_type": "code",
   "execution_count": 5,
   "id": "38142db9",
   "metadata": {},
   "outputs": [],
   "source": [
    "## I am going to import the irish and USA baby name datasets, \n",
    "## normalise the file and write out a merged csv file that i will use for the plots.\n",
    "## ignore the test lines of code that are commeneted out"
   ]
  },
  {
   "cell_type": "code",
   "execution_count": 14,
   "id": "437dba93",
   "metadata": {},
   "outputs": [],
   "source": [
    "# import the  data file for Irish baby names\n",
    "df_irish_names = pd.read_csv('../Irish_baby_names_count_and_rank.csv')\n",
    "# import the file for USA baby names\n",
    "df_usa_names = pd.read_csv('../usa_states_baby_names_count_and_rank.csv')\n"
   ]
  },
  {
   "cell_type": "code",
   "execution_count": 15,
   "id": "4114778c",
   "metadata": {},
   "outputs": [],
   "source": [
    "# TESTING CODE get the number of rows\n",
    "#num_rows_ire=len(df_irish_names)\n",
    "#num_rows_ire = \"{:,}\".format(num_rows_ire)\n",
    "# print(f\"The number of rows in the dataframe 'df_irish_names' is '{num_rows_ire}'\")\n",
    "# get the number of usa rows\n",
    "#num_rows_usa=len(df_usa_names)\n",
    "#num_rows_usa = \"{:,}\".format(num_rows_usa)\n",
    "#print(f\"The number of rows in the dataframe 'df_usa_names' is '{num_rows_usa}'\")"
   ]
  },
  {
   "cell_type": "code",
   "execution_count": 16,
   "id": "cd661dbc",
   "metadata": {},
   "outputs": [
    {
     "name": "stdout",
     "output_type": "stream",
     "text": [
      "The number of rows in the dataframe 'df_irish_names' is '346,898'\n",
      "The number of rows in the dataframe 'df_usa_names' is '6,337,734'\n"
     ]
    }
   ],
   "source": [
    "# Removing all rows that contain at least one NaN value\n",
    "# The Irish dataset had a lot of NaNs as the name is recorded as blank if less that 3 people anot being used in that year as a blank\n",
    "#df_irish_names = df_irish_names.dropna()  # not going to drop the NANs, going to make the zero\n",
    "#df_usa_names = df_usa_names.dropna()\n",
    "\n",
    "# Rather than delete the years i will make them zero, filling nan with zero\n",
    "df_irish_names[['Count', 'Rank']] = df_irish_names[['Count', 'Rank']].fillna(0)\n",
    "# \n",
    "# get the number of rows\n",
    "num_rows_ire=len(df_irish_names)\n",
    "num_rows_ire = \"{:,}\".format(num_rows_ire)\n",
    "\n",
    "print(f\"The number of rows in the dataframe 'df_irish_names' is '{num_rows_ire}'\")\n",
    "# get the number of usa rows\n",
    "num_rows_usa=len(df_usa_names)\n",
    "num_rows_usa = \"{:,}\".format(num_rows_usa)\n",
    "print(f\"The number of rows in the dataframe 'df_usa_names' is '{num_rows_usa}'\")"
   ]
  },
  {
   "cell_type": "code",
   "execution_count": 17,
   "id": "c0b83960",
   "metadata": {},
   "outputs": [],
   "source": [
    "# The irish data is 1964 to 2021\n",
    "# the usa data is 1910 to 2021\n",
    "# I am going to remove the usa data from 1910 to 1964 for CA2 so it will be easier to plot.\n",
    "\n",
    "df_usa_names.drop(df_usa_names[(df_usa_names['Year'] >= 1900) & (df_usa_names['Year'] <= 1963)].index, inplace=True)\n"
   ]
  },
  {
   "cell_type": "code",
   "execution_count": 18,
   "id": "4dcab910",
   "metadata": {},
   "outputs": [],
   "source": [
    "# I need to get both datasets into this format \n",
    "# Year, \n",
    "# Names,\n",
    "# Sex, \n",
    "# Count (Number of times the name was given for that year and sex.)/Same as USA Count, \n",
    "# Ire-Rank (of the name, including ties. Ireland Only)\n",
    "# USA-State-Total for the State/Gender/Year\n",
    "# Country (USA or Ireland)\n",
    "# State (US State or IRE for Ireland )\n",
    " "
   ]
  },
  {
   "cell_type": "code",
   "execution_count": 19,
   "id": "d54dac2f",
   "metadata": {},
   "outputs": [
    {
     "data": {
      "text/html": [
       "<div>\n",
       "<style scoped>\n",
       "    .dataframe tbody tr th:only-of-type {\n",
       "        vertical-align: middle;\n",
       "    }\n",
       "\n",
       "    .dataframe tbody tr th {\n",
       "        vertical-align: top;\n",
       "    }\n",
       "\n",
       "    .dataframe thead th {\n",
       "        text-align: right;\n",
       "    }\n",
       "</style>\n",
       "<table border=\"1\" class=\"dataframe\">\n",
       "  <thead>\n",
       "    <tr style=\"text-align: right;\">\n",
       "      <th></th>\n",
       "      <th>Year</th>\n",
       "      <th>Names</th>\n",
       "      <th>Sex</th>\n",
       "      <th>Count</th>\n",
       "      <th>Rank</th>\n",
       "    </tr>\n",
       "  </thead>\n",
       "  <tbody>\n",
       "    <tr>\n",
       "      <th>0</th>\n",
       "      <td>1964</td>\n",
       "      <td>Jack</td>\n",
       "      <td>M</td>\n",
       "      <td>0.0</td>\n",
       "      <td>0.0</td>\n",
       "    </tr>\n",
       "    <tr>\n",
       "      <th>1</th>\n",
       "      <td>1964</td>\n",
       "      <td>Sean</td>\n",
       "      <td>M</td>\n",
       "      <td>171.0</td>\n",
       "      <td>38.0</td>\n",
       "    </tr>\n",
       "    <tr>\n",
       "      <th>2</th>\n",
       "      <td>1964</td>\n",
       "      <td>Conor</td>\n",
       "      <td>M</td>\n",
       "      <td>97.0</td>\n",
       "      <td>56.0</td>\n",
       "    </tr>\n",
       "    <tr>\n",
       "      <th>3</th>\n",
       "      <td>1964</td>\n",
       "      <td>Daniel</td>\n",
       "      <td>M</td>\n",
       "      <td>395.0</td>\n",
       "      <td>19.0</td>\n",
       "    </tr>\n",
       "    <tr>\n",
       "      <th>4</th>\n",
       "      <td>1964</td>\n",
       "      <td>James</td>\n",
       "      <td>M</td>\n",
       "      <td>1554.0</td>\n",
       "      <td>5.0</td>\n",
       "    </tr>\n",
       "  </tbody>\n",
       "</table>\n",
       "</div>"
      ],
      "text/plain": [
       "   Year   Names Sex   Count  Rank\n",
       "0  1964    Jack   M     0.0   0.0\n",
       "1  1964    Sean   M   171.0  38.0\n",
       "2  1964   Conor   M    97.0  56.0\n",
       "3  1964  Daniel   M   395.0  19.0\n",
       "4  1964   James   M  1554.0   5.0"
      ]
     },
     "execution_count": 19,
     "metadata": {},
     "output_type": "execute_result"
    }
   ],
   "source": [
    "# IRELAND DATA PREP\n",
    "# Display first 5 records\n",
    "df_irish_names.head()"
   ]
  },
  {
   "cell_type": "code",
   "execution_count": 20,
   "id": "3ee5cc2d",
   "metadata": {},
   "outputs": [],
   "source": [
    "# Rename the columns in the Irish Dataframe \n",
    "# df_irish_names.rename(columns = ({'Sex': 'Gender'}), inplace=True)\n",
    "df_irish_names = rename_columns(df_irish_names, \n",
    "                            ['Rank', 'Names'], \n",
    "                            ['IRE-Rank','Name'])"
   ]
  },
  {
   "cell_type": "code",
   "execution_count": 21,
   "id": "1dafe454",
   "metadata": {},
   "outputs": [
    {
     "name": "stdout",
     "output_type": "stream",
     "text": [
      "        Year     Name Sex   Count  IRE-Rank  USA-State-Total  Country State\n",
      "0       1964     Jack   M     0.0       0.0                0  Ireland   IRE\n",
      "1       1964     Sean   M   171.0      38.0                0  Ireland   IRE\n",
      "2       1964    Conor   M    97.0      56.0                0  Ireland   IRE\n",
      "3       1964   Daniel   M   395.0      19.0                0  Ireland   IRE\n",
      "4       1964    James   M  1554.0       5.0                0  Ireland   IRE\n",
      "...      ...      ...  ..     ...       ...              ...      ...   ...\n",
      "346893  2021    Vaeda   F     4.0     764.0                0  Ireland   IRE\n",
      "346894  2021  Viviana   F     3.0     883.0                0  Ireland   IRE\n",
      "346895  2021   Zariah   F     3.0     883.0                0  Ireland   IRE\n",
      "346896  2021      Zia   F     3.0     883.0                0  Ireland   IRE\n",
      "346897  2021     Zoha   F     3.0     883.0                0  Ireland   IRE\n",
      "\n",
      "[346898 rows x 8 columns]\n"
     ]
    }
   ],
   "source": [
    "# Insert the new columns to match it with USA table \n",
    "df_irish_names['USA-State-Total'] = 0\n",
    "df_irish_names['Country'] = 'Ireland'\n",
    "df_irish_names['State'] = 'IRE'\n",
    "\n",
    "# Print the result\n",
    "print(df_irish_names)"
   ]
  },
  {
   "cell_type": "code",
   "execution_count": 22,
   "id": "588a2c3d",
   "metadata": {},
   "outputs": [
    {
     "data": {
      "text/html": [
       "<div>\n",
       "<style scoped>\n",
       "    .dataframe tbody tr th:only-of-type {\n",
       "        vertical-align: middle;\n",
       "    }\n",
       "\n",
       "    .dataframe tbody tr th {\n",
       "        vertical-align: top;\n",
       "    }\n",
       "\n",
       "    .dataframe thead th {\n",
       "        text-align: right;\n",
       "    }\n",
       "</style>\n",
       "<table border=\"1\" class=\"dataframe\">\n",
       "  <thead>\n",
       "    <tr style=\"text-align: right;\">\n",
       "      <th></th>\n",
       "      <th>State</th>\n",
       "      <th>Sex</th>\n",
       "      <th>Year</th>\n",
       "      <th>Name</th>\n",
       "      <th>Count</th>\n",
       "      <th>Total</th>\n",
       "      <th>Count_Normalized</th>\n",
       "    </tr>\n",
       "  </thead>\n",
       "  <tbody>\n",
       "    <tr>\n",
       "      <th>15010</th>\n",
       "      <td>OR</td>\n",
       "      <td>F</td>\n",
       "      <td>1964</td>\n",
       "      <td>Lisa</td>\n",
       "      <td>422</td>\n",
       "      <td>13718</td>\n",
       "      <td>0.030763</td>\n",
       "    </tr>\n",
       "    <tr>\n",
       "      <th>15011</th>\n",
       "      <td>OR</td>\n",
       "      <td>F</td>\n",
       "      <td>1964</td>\n",
       "      <td>Julie</td>\n",
       "      <td>252</td>\n",
       "      <td>13718</td>\n",
       "      <td>0.018370</td>\n",
       "    </tr>\n",
       "    <tr>\n",
       "      <th>15012</th>\n",
       "      <td>OR</td>\n",
       "      <td>F</td>\n",
       "      <td>1964</td>\n",
       "      <td>Mary</td>\n",
       "      <td>251</td>\n",
       "      <td>13718</td>\n",
       "      <td>0.018297</td>\n",
       "    </tr>\n",
       "    <tr>\n",
       "      <th>15013</th>\n",
       "      <td>OR</td>\n",
       "      <td>F</td>\n",
       "      <td>1964</td>\n",
       "      <td>Susan</td>\n",
       "      <td>247</td>\n",
       "      <td>13718</td>\n",
       "      <td>0.018006</td>\n",
       "    </tr>\n",
       "    <tr>\n",
       "      <th>15014</th>\n",
       "      <td>OR</td>\n",
       "      <td>F</td>\n",
       "      <td>1964</td>\n",
       "      <td>Karen</td>\n",
       "      <td>232</td>\n",
       "      <td>13718</td>\n",
       "      <td>0.016912</td>\n",
       "    </tr>\n",
       "  </tbody>\n",
       "</table>\n",
       "</div>"
      ],
      "text/plain": [
       "      State Sex  Year   Name  Count  Total  Count_Normalized\n",
       "15010    OR   F  1964   Lisa    422  13718          0.030763\n",
       "15011    OR   F  1964  Julie    252  13718          0.018370\n",
       "15012    OR   F  1964   Mary    251  13718          0.018297\n",
       "15013    OR   F  1964  Susan    247  13718          0.018006\n",
       "15014    OR   F  1964  Karen    232  13718          0.016912"
      ]
     },
     "execution_count": 22,
     "metadata": {},
     "output_type": "execute_result"
    }
   ],
   "source": [
    "# USA DATA PREP\n",
    "# Display first 5 records\n",
    "df_usa_names.head()"
   ]
  },
  {
   "cell_type": "code",
   "execution_count": 23,
   "id": "8d99ab60",
   "metadata": {},
   "outputs": [
    {
     "name": "stdout",
     "output_type": "stream",
     "text": [
      "         Year    Name Sex  Count  IRE-Rank  USA-State-Total Country State\n",
      "15010    1964    Lisa   F    422         0            13718     USA    OR\n",
      "15011    1964   Julie   F    252         0            13718     USA    OR\n",
      "15012    1964    Mary   F    251         0            13718     USA    OR\n",
      "15013    1964   Susan   F    247         0            13718     USA    OR\n",
      "15014    1964   Karen   F    232         0            13718     USA    OR\n",
      "...       ...     ...  ..    ...       ...              ...     ...   ...\n",
      "6337729  2021  Yeshua   M      5         0             6808     USA    PR\n",
      "6337730  2021    Zael   M      5         0             6808     USA    PR\n",
      "6337731  2021   Zahid   M      5         0             6808     USA    PR\n",
      "6337732  2021  Zariel   M      5         0             6808     USA    PR\n",
      "6337733  2021    Zyan   M      5         0             6808     USA    PR\n",
      "\n",
      "[4229781 rows x 8 columns]\n"
     ]
    }
   ],
   "source": [
    "#USA COLUMN PREP\n",
    "# Deleting the 'Count_Normalized' column\n",
    "del df_usa_names['Count_Normalized']\n",
    "# add the IRE Rank\n",
    "df_usa_names['IRE-Rank'] = 0\n",
    "# Rename the columns in the USA Dataframe \n",
    "df_usa_names = rename_columns(df_usa_names, \n",
    "                            ['Total',], \n",
    "                            ['USA-State-Total'])\n",
    "# ADD THE COUNTRY\n",
    "df_usa_names['Country'] = 'USA'\n",
    "\n",
    "# Move columns to # Year, # Names,# Sex, # Count, # Ire-Rank, # USA-State-Total, # Country, # State (US State or IRE for Ireland )\n",
    "\n",
    "# Move column \n",
    "move_column(df_usa_names, 'Year', 0)\n",
    "move_column(df_usa_names, 'Name', 1)\n",
    "move_column(df_usa_names, 'Sex', 2)\n",
    "move_column(df_usa_names, 'Count', 3)\n",
    "\n",
    "\n",
    "# Add the IRE-rank column\n",
    "# Insert the new columns to match it with USA table \n",
    "df_usa_names['IRE-Rank'] = 0\n",
    "move_column(df_usa_names, 'IRE-Rank', 4)\n",
    "\n",
    "# Rename the columns in the USA Dataframe \n",
    "df_usa_names = rename_columns(df_usa_names, \n",
    "                            ['Total',], \n",
    "                            ['USA-State-Total'])\n",
    "move_column(df_usa_names, 'USA-State-Total', 5) \n",
    "\n",
    "move_column(df_usa_names, 'Country', 6)\n",
    "move_column(df_usa_names, 'State', 7)\n",
    "print(df_usa_names)\n"
   ]
  },
  {
   "cell_type": "code",
   "execution_count": 24,
   "id": "1127893c",
   "metadata": {},
   "outputs": [
    {
     "name": "stdout",
     "output_type": "stream",
     "text": [
      "         Year    Name Sex  Count  IRE-Rank  USA-State-Total Country State\n",
      "15010    1964    Lisa   F    422         0            13718     USA    OR\n",
      "15011    1964   Julie   F    252         0            13718     USA    OR\n",
      "15012    1964    Mary   F    251         0            13718     USA    OR\n",
      "15013    1964   Susan   F    247         0            13718     USA    OR\n",
      "15014    1964   Karen   F    232         0            13718     USA    OR\n",
      "...       ...     ...  ..    ...       ...              ...     ...   ...\n",
      "6337729  2021  Yeshua   M      5         0             6808     USA    PR\n",
      "6337730  2021    Zael   M      5         0             6808     USA    PR\n",
      "6337731  2021   Zahid   M      5         0             6808     USA    PR\n",
      "6337732  2021  Zariel   M      5         0             6808     USA    PR\n",
      "6337733  2021    Zyan   M      5         0             6808     USA    PR\n",
      "\n",
      "[4229781 rows x 8 columns]\n",
      "Year                int32\n",
      "Name               object\n",
      "Sex                object\n",
      "Count               int32\n",
      "IRE-Rank            int32\n",
      "USA-State-Total     int32\n",
      "Country            object\n",
      "State              object\n",
      "dtype: object\n"
     ]
    }
   ],
   "source": [
    "# Convert the year, count, rank and us state total column to int\n",
    "df_irish_names['Year'] = df_irish_names['Year'].astype(int)\n",
    "df_irish_names['Count'] = df_irish_names['Count'].astype(int)\n",
    "df_irish_names['IRE-Rank'] = df_irish_names['IRE-Rank'].astype(int)\n",
    "df_irish_names['USA-State-Total'] = df_irish_names['USA-State-Total'].astype(int)\n",
    "df_usa_names['Year'] = df_usa_names['Year'].astype(int)\n",
    "df_usa_names['Count'] = df_usa_names['Count'].astype(int)\n",
    "df_usa_names['IRE-Rank'] = df_usa_names['IRE-Rank'].astype(int)\n",
    "df_usa_names['USA-State-Total'] = df_usa_names['USA-State-Total'].astype(int)\n",
    "\n",
    "print(df_usa_names)\n",
    "print(df_usa_names.dtypes)"
   ]
  },
  {
   "cell_type": "code",
   "execution_count": 30,
   "id": "fbc380b8",
   "metadata": {},
   "outputs": [
    {
     "name": "stdout",
     "output_type": "stream",
     "text": [
      "The DataFrames have the same columns in the same order\n"
     ]
    }
   ],
   "source": [
    "# All ready now to merge both datasets\n",
    "# first i will check if i can proceed\n",
    "if list(df_irish_names.columns) == list(df_usa_names.columns):\n",
    "    print(\"The DataFrames have the same columns in the same order\")\n",
    "else:\n",
    "    print(\"The DataFrames have different columns or different order\")\n"
   ]
  },
  {
   "cell_type": "code",
   "execution_count": 31,
   "id": "bfd570bd",
   "metadata": {
    "scrolled": true
   },
   "outputs": [
    {
     "name": "stdout",
     "output_type": "stream",
     "text": [
      "The number of rows in the dataframe 'df_irish_names' is '346,898'\n",
      "The number of rows in the dataframe 'df_usa_names' is '6,337,734'\n",
      "The number of rows in the Merged dataframe 'ca2_dataset_df' is '4,576,679'\n"
     ]
    }
   ],
   "source": [
    "# Appending USA to IRE\n",
    "ca2_dataset_df = pd.concat([df_usa_names, df_irish_names], ignore_index=True)\n",
    "# get the number of rows\n",
    "num_rows=len(ca2_dataset_df)\n",
    "num_rows = \"{:,}\".format(num_rows)\n",
    "\n",
    "print(f\"The number of rows in the dataframe 'df_irish_names' is '{num_rows_ire}'\")\n",
    "print(f\"The number of rows in the dataframe 'df_usa_names' is '{num_rows_usa}'\")\n",
    "print(f\"The number of rows in the Merged dataframe 'ca2_dataset_df' is '{num_rows}'\")\n",
    "\n"
   ]
  },
  {
   "cell_type": "code",
   "execution_count": 32,
   "id": "417829d2",
   "metadata": {},
   "outputs": [],
   "source": [
    "# writing the updated Irish and USA datasetd\n",
    "df_irish_names.to_csv('../irish_names.csv', index=False)\n",
    "df_usa_names.to_csv('../usa_names.csv', index=False)\n",
    "\n",
    "# Writing the Merged DataFrame to a CSV file\n",
    "ca2_dataset_df.to_csv('../ca2_merged_dataset.csv', index=False)"
   ]
  },
  {
   "cell_type": "code",
   "execution_count": 33,
   "id": "204c4e0c",
   "metadata": {},
   "outputs": [],
   "source": [
    "# all done dataset is merged and ready to be used"
   ]
  },
  {
   "cell_type": "code",
   "execution_count": 34,
   "id": "9d044944",
   "metadata": {},
   "outputs": [],
   "source": [
    "# I have kept the dataset extra large to comply with the requirement of the assignment to use a large dataset\n",
    "# Because of the dataset size running on my PC it slows down the processing of pyspark notebooks."
   ]
  },
  {
   "cell_type": "code",
   "execution_count": 36,
   "id": "65f63b50",
   "metadata": {},
   "outputs": [
    {
     "name": "stdout",
     "output_type": "stream",
     "text": [
      "Number of unique values in the 'country' column: 2\n",
      "Number of unique values in the 'State' column: 54\n"
     ]
    }
   ],
   "source": [
    "num_unique_names = ca2_dataset_df['Country'].nunique()\n",
    "print(\"Number of unique values in the 'country' column:\", num_unique_names)\n",
    "num_unique_names = ca2_dataset_df['State'].nunique()\n",
    "print(\"Number of unique values in the 'State' column:\", num_unique_names)\n"
   ]
  },
  {
   "cell_type": "code",
   "execution_count": null,
   "id": "78139783",
   "metadata": {},
   "outputs": [],
   "source": []
  }
 ],
 "metadata": {
  "kernelspec": {
   "display_name": "Python 3 (ipykernel)",
   "language": "python",
   "name": "python3"
  },
  "language_info": {
   "codemirror_mode": {
    "name": "ipython",
    "version": 3
   },
   "file_extension": ".py",
   "mimetype": "text/x-python",
   "name": "python",
   "nbconvert_exporter": "python",
   "pygments_lexer": "ipython3",
   "version": "3.9.13"
  }
 },
 "nbformat": 4,
 "nbformat_minor": 5
}

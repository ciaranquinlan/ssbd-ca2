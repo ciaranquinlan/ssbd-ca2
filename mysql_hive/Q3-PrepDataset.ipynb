{
 "cells": [
  {
   "cell_type": "markdown",
   "id": "31095069",
   "metadata": {},
   "source": [
    "# CIARAN QUINLAN - CA2-Storage Solutions for Big Data - 20TH NOV 2023\n",
    "### Programme Title/Year:\tHigher Diploma in Data Analytics for Business \n",
    "### Module Title(s):\tStorage Solutions for Big Data\n",
    "### Lecturer Name(s)\tDr. Muhammad Iqbal\n",
    "#### Student Full Name:\tCiaran Quinlan, Student Number: sbs23098, sbs23098@student.cct.ie\n"
   ]
  },
  {
   "cell_type": "code",
   "execution_count": 1,
   "id": "8d40a1bd",
   "metadata": {
    "scrolled": true
   },
   "outputs": [],
   "source": [
    "# DATA PREPARATION NOTEBOOK\n",
    "## this notebook is to prepare the datasets that I am using for the SSD CA2\n",
    "# for loading into mysql and hive "
   ]
  },
  {
   "cell_type": "code",
   "execution_count": 2,
   "id": "e28ff2ea",
   "metadata": {},
   "outputs": [],
   "source": [
    "# IMPORT the pandas the library\n",
    "import pandas as pd\n",
    "\n",
    "# import the warnings file so we can supress unnecessary warnings when running code\n",
    "import warnings\n",
    "warnings.filterwarnings('ignore')   # The object 'warnings' is used to call the method 'filterwarnings' and ignore the warnings"
   ]
  },
  {
   "cell_type": "code",
   "execution_count": 17,
   "id": "437dba93",
   "metadata": {
    "scrolled": true
   },
   "outputs": [
    {
     "name": "stdout",
     "output_type": "stream",
     "text": [
      "The number of rows in the dataframe 'df_irish_names' is '346,898'\n"
     ]
    }
   ],
   "source": [
    "# import the file for Irish baby names\n",
    "df_irish_names = pd.read_csv('./Irish_baby_names_count_and_rank.csv')\n",
    "\n",
    "num_rows_ire=len(df_irish_names)\n",
    "num_rows_ire = \"{:,}\".format(num_rows_ire)\n",
    "print(f\"The number of rows in the dataframe 'df_irish_names' is '{num_rows_ire}'\")\n"
   ]
  },
  {
   "cell_type": "code",
   "execution_count": 21,
   "id": "eb6e2f5f",
   "metadata": {},
   "outputs": [],
   "source": [
    "# Renaming the columns, rank give a mysql erroor\n",
    "df_irish_names .rename(columns={'Rank': 'Ranks'}, inplace=True)\n"
   ]
  },
  {
   "cell_type": "code",
   "execution_count": 22,
   "id": "e8bcdd0e",
   "metadata": {},
   "outputs": [
    {
     "name": "stdout",
     "output_type": "stream",
     "text": [
      "\n",
      "DataFrame after dropping rows from 1950 to 2000:\n"
     ]
    },
    {
     "data": {
      "text/plain": [
       "<bound method NDFrame.describe of         Year    Names Sex  Count  Ranks\n",
       "130780  2016     Jack   M  684.0    2.0\n",
       "130781  2016     Sean   M  501.0    5.0\n",
       "130782  2016    Conor   M  558.0    3.0\n",
       "130783  2016   Daniel   M  558.0    3.0\n",
       "130784  2016    James   M  688.0    1.0\n",
       "...      ...      ...  ..    ...    ...\n",
       "346893  2021    Vaeda   F    4.0  764.0\n",
       "346894  2021  Viviana   F    3.0  883.0\n",
       "346895  2021   Zariah   F    3.0  883.0\n",
       "346896  2021      Zia   F    3.0  883.0\n",
       "346897  2021     Zoha   F    3.0  883.0\n",
       "\n",
       "[35886 rows x 5 columns]>"
      ]
     },
     "execution_count": 22,
     "metadata": {},
     "output_type": "execute_result"
    }
   ],
   "source": [
    "# Dropping rows where 'Year' is between 1950 and 2015\n",
    "df_q3= df_irish_names[~((df_irish_names['Year'] >= 1950) & (df_irish_names['Year'] <= 2015))]\n",
    "\n",
    "print(\"\\nDataFrame after dropping rows from 1950 to 2000:\")\n",
    "df_q3.describe"
   ]
  },
  {
   "cell_type": "code",
   "execution_count": 23,
   "id": "417829d2",
   "metadata": {},
   "outputs": [],
   "source": [
    "# writing the updated Irish and USA datasetd\n",
    "df_q3.to_csv('./irish_names_q3.csv', index=False)\n"
   ]
  },
  {
   "cell_type": "code",
   "execution_count": 24,
   "id": "204c4e0c",
   "metadata": {},
   "outputs": [],
   "source": [
    "# all done dataset is exported  and ready to be uploaded to mysql and hive"
   ]
  },
  {
   "cell_type": "code",
   "execution_count": null,
   "id": "65f63b50",
   "metadata": {},
   "outputs": [],
   "source": []
  },
  {
   "cell_type": "code",
   "execution_count": null,
   "id": "680e6bd3",
   "metadata": {},
   "outputs": [],
   "source": []
  }
 ],
 "metadata": {
  "kernelspec": {
   "display_name": "Python 3 (ipykernel)",
   "language": "python",
   "name": "python3"
  },
  "language_info": {
   "codemirror_mode": {
    "name": "ipython",
    "version": 3
   },
   "file_extension": ".py",
   "mimetype": "text/x-python",
   "name": "python",
   "nbconvert_exporter": "python",
   "pygments_lexer": "ipython3",
   "version": "3.10.12"
  }
 },
 "nbformat": 4,
 "nbformat_minor": 5
}

{
 "cells": [
  {
   "cell_type": "markdown",
   "id": "31095069",
   "metadata": {},
   "source": [
    "# CIARAN QUINLAN - CA2-25TH NOV 2023\n",
    "### Programme Title/Year:\tHigher Diploma in Data Analytics for Business \n",
    "### Module Title(s):\tDataViz\n",
    "### Lecturer Name(s)\tJames Garza\n",
    "#### Student Full Name:\tCiaran Quinlan, Student Number: sbs23098, sbs23098@student.cct.ie\n"
   ]
  },
  {
   "cell_type": "code",
   "execution_count": 39,
   "id": "8d40a1bd",
   "metadata": {
    "scrolled": true
   },
   "outputs": [],
   "source": [
    "# DATA PREPARATION NOTEBOOK\n",
    "## this notebook is to prepare the datasets that I am using for the SSD CA2\n"
   ]
  },
  {
   "cell_type": "code",
   "execution_count": 40,
   "id": "e28ff2ea",
   "metadata": {},
   "outputs": [],
   "source": [
    "# IMPORT the pandas the library\n",
    "import pandas as pd\n",
    "\n",
    "# import the warnings file so we can supress unnecessary warnings when running code\n",
    "import warnings\n",
    "warnings.filterwarnings('ignore')   # The object 'warnings' is used to call the method 'filterwarnings' and ignore the warnings"
   ]
  },
  {
   "cell_type": "code",
   "execution_count": 41,
   "id": "25029636",
   "metadata": {},
   "outputs": [],
   "source": [
    "# FUNCTIONS - I wrote this for a CA in semester 1.\n",
    "# This function will rename Columns headings in a given DataFrame, \n",
    "# this is easy to use when you have a lot of re-naming or duplicate df's you want to apply same changes to\n",
    "# call the function with df (target DataFrame), name of columns you want to target,  new columns names\n",
    "def rename_columns(df, current_names, new_names):\n",
    "    if len(current_names) != len(new_names):\n",
    "        raise ValueError(\"current_names and new_names should have the same length\")\n",
    "    \n",
    "    mapping = dict(zip(current_names, new_names))\n",
    "    df = df.rename(columns=mapping)\n",
    "    return df"
   ]
  },
  {
   "cell_type": "code",
   "execution_count": 42,
   "id": "c2e75e82",
   "metadata": {},
   "outputs": [],
   "source": [
    "# FUNCTIONS - I wrote this for a CA in semester 1.\n",
    "# This function will Rename row data in given column in a given DataFrame, \n",
    "# this is easy to use when you have an array of data for the new colum, ie from a formula \n",
    "# call the function with df (target pandas DataFrame), # col_name of column you want to target,  new columns names array \n",
    "def rename_row_data(df, col_name, changes):\n",
    "    for old_val, new_val in changes.items():\n",
    "        df.loc[df[col_name] == old_val, col_name] = new_val"
   ]
  },
  {
   "cell_type": "code",
   "execution_count": 43,
   "id": "38142db9",
   "metadata": {},
   "outputs": [],
   "source": [
    "# FUNCTIONS - I wrote this for a CA in semester 1.\n",
    "# This function will move a given column in a given DataFrame, to a new position\n",
    "def move_column(dataframe, column_name, position):\n",
    "    col = dataframe.pop(column_name)\n",
    "    dataframe.insert(position, column_name, col)"
   ]
  },
  {
   "cell_type": "code",
   "execution_count": 44,
   "id": "437dba93",
   "metadata": {},
   "outputs": [
    {
     "name": "stdout",
     "output_type": "stream",
     "text": [
      "The number of rows in the dataframe 'df_irish_names' is '346,898'\n",
      "The number of rows in the dataframe 'df_usa_names' is '6,337,734'\n"
     ]
    }
   ],
   "source": [
    "# import the file for Irish baby names\n",
    "df_irish_names = pd.read_csv('./Irish_baby_names_count_and_rank.csv')\n",
    "# import the file for USA baby names, ***** this is kept outside of the git repo\n",
    "# because of its size 300mb\n",
    "df_usa_names = pd.read_csv('../../usa_states_baby_names_count_and_rank.csv')\n",
    "# get the number of rows\n",
    "num_rows_ire=len(df_irish_names)\n",
    "num_rows_ire = \"{:,}\".format(num_rows_ire)\n",
    "print(f\"The number of rows in the dataframe 'df_irish_names' is '{num_rows_ire}'\")\n",
    "# get the number of usa rows\n",
    "num_rows_usa=len(df_usa_names)\n",
    "num_rows_usa = \"{:,}\".format(num_rows_usa)\n",
    "print(f\"The number of rows in the dataframe 'df_usa_names' is '{num_rows_usa}'\")"
   ]
  },
  {
   "cell_type": "code",
   "execution_count": 45,
   "id": "cd661dbc",
   "metadata": {},
   "outputs": [
    {
     "name": "stdout",
     "output_type": "stream",
     "text": [
      "The number of rows in the dataframe 'df_irish_names' is '74,360'\n",
      "The number of rows in the dataframe 'df_usa_names' is '6,337,734'\n"
     ]
    }
   ],
   "source": [
    "# Removing all rows that contain at least one NaN value\n",
    "# The dataset had a lot of NaNs as the name is recorded as not being used in that year as a blank\n",
    "df_irish_names = df_irish_names.dropna()\n",
    "df_usa_names = df_usa_names.dropna()\n",
    "# get the number of rows\n",
    "num_rows_ire=len(df_irish_names)\n",
    "num_rows_ire = \"{:,}\".format(num_rows_ire)\n",
    "print(f\"The number of rows in the dataframe 'df_irish_names' is '{num_rows_ire}'\")\n",
    "# get the number of usa rows\n",
    "num_rows_usa=len(df_usa_names)\n",
    "num_rows_usa = \"{:,}\".format(num_rows_usa)\n",
    "print(f\"The number of rows in the dataframe 'df_usa_names' is '{num_rows_usa}'\")"
   ]
  },
  {
   "cell_type": "code",
   "execution_count": 46,
   "id": "4dcab910",
   "metadata": {},
   "outputs": [],
   "source": [
    "# I need to get both datasets into this format \n",
    "# Year, \n",
    "# Names,\n",
    "# Sex, \n",
    "# Count (Number of times the name was given for that year and sex.)/Same as USA Count, \n",
    "# Ire-Rank (of the name, including ties. Ireland Only)\n",
    "# USA-State-Total for the State/Gender/Year\n",
    "# Country (USA or Ireland)\n",
    "# State (US State or IRE for Ireland )\n",
    " "
   ]
  },
  {
   "cell_type": "code",
   "execution_count": 47,
   "id": "d54dac2f",
   "metadata": {},
   "outputs": [
    {
     "data": {
      "text/html": [
       "<div>\n",
       "<style scoped>\n",
       "    .dataframe tbody tr th:only-of-type {\n",
       "        vertical-align: middle;\n",
       "    }\n",
       "\n",
       "    .dataframe tbody tr th {\n",
       "        vertical-align: top;\n",
       "    }\n",
       "\n",
       "    .dataframe thead th {\n",
       "        text-align: right;\n",
       "    }\n",
       "</style>\n",
       "<table border=\"1\" class=\"dataframe\">\n",
       "  <thead>\n",
       "    <tr style=\"text-align: right;\">\n",
       "      <th></th>\n",
       "      <th>Year</th>\n",
       "      <th>Names</th>\n",
       "      <th>Sex</th>\n",
       "      <th>Count</th>\n",
       "      <th>Rank</th>\n",
       "    </tr>\n",
       "  </thead>\n",
       "  <tbody>\n",
       "    <tr>\n",
       "      <th>1</th>\n",
       "      <td>1964</td>\n",
       "      <td>Sean</td>\n",
       "      <td>M</td>\n",
       "      <td>171.0</td>\n",
       "      <td>38.0</td>\n",
       "    </tr>\n",
       "    <tr>\n",
       "      <th>2</th>\n",
       "      <td>1964</td>\n",
       "      <td>Conor</td>\n",
       "      <td>M</td>\n",
       "      <td>97.0</td>\n",
       "      <td>56.0</td>\n",
       "    </tr>\n",
       "    <tr>\n",
       "      <th>3</th>\n",
       "      <td>1964</td>\n",
       "      <td>Daniel</td>\n",
       "      <td>M</td>\n",
       "      <td>395.0</td>\n",
       "      <td>19.0</td>\n",
       "    </tr>\n",
       "    <tr>\n",
       "      <th>4</th>\n",
       "      <td>1964</td>\n",
       "      <td>James</td>\n",
       "      <td>M</td>\n",
       "      <td>1554.0</td>\n",
       "      <td>5.0</td>\n",
       "    </tr>\n",
       "    <tr>\n",
       "      <th>7</th>\n",
       "      <td>1964</td>\n",
       "      <td>Luke</td>\n",
       "      <td>M</td>\n",
       "      <td>26.0</td>\n",
       "      <td>105.0</td>\n",
       "    </tr>\n",
       "  </tbody>\n",
       "</table>\n",
       "</div>"
      ],
      "text/plain": [
       "   Year   Names Sex   Count   Rank\n",
       "1  1964    Sean   M   171.0   38.0\n",
       "2  1964   Conor   M    97.0   56.0\n",
       "3  1964  Daniel   M   395.0   19.0\n",
       "4  1964   James   M  1554.0    5.0\n",
       "7  1964    Luke   M    26.0  105.0"
      ]
     },
     "execution_count": 47,
     "metadata": {},
     "output_type": "execute_result"
    }
   ],
   "source": [
    "# IRELAND DATA PREP\n",
    "# Display first 5 records\n",
    "df_irish_names.head()"
   ]
  },
  {
   "cell_type": "code",
   "execution_count": 48,
   "id": "3ee5cc2d",
   "metadata": {},
   "outputs": [],
   "source": [
    "# Rename the columns in the Irish Dataframe \n",
    "# df_irish_names.rename(columns = ({'Sex': 'Gender'}), inplace=True)\n",
    "df_irish_names = rename_columns(df_irish_names, \n",
    "                            ['Rank', 'Names'], \n",
    "                            ['IRE-Rank','Name'])"
   ]
  },
  {
   "cell_type": "code",
   "execution_count": 49,
   "id": "1dafe454",
   "metadata": {},
   "outputs": [
    {
     "name": "stdout",
     "output_type": "stream",
     "text": [
      "        Year     Name Sex   Count  IRE-Rank  USA-State-Total  Country State\n",
      "1       1964     Sean   M   171.0      38.0                0  Ireland   IRE\n",
      "2       1964    Conor   M    97.0      56.0                0  Ireland   IRE\n",
      "3       1964   Daniel   M   395.0      19.0                0  Ireland   IRE\n",
      "4       1964    James   M  1554.0       5.0                0  Ireland   IRE\n",
      "7       1964     Luke   M    26.0     105.0                0  Ireland   IRE\n",
      "...      ...      ...  ..     ...       ...              ...      ...   ...\n",
      "346893  2021    Vaeda   F     4.0     764.0                0  Ireland   IRE\n",
      "346894  2021  Viviana   F     3.0     883.0                0  Ireland   IRE\n",
      "346895  2021   Zariah   F     3.0     883.0                0  Ireland   IRE\n",
      "346896  2021      Zia   F     3.0     883.0                0  Ireland   IRE\n",
      "346897  2021     Zoha   F     3.0     883.0                0  Ireland   IRE\n",
      "\n",
      "[74360 rows x 8 columns]\n"
     ]
    }
   ],
   "source": [
    "# Insert the new columns to match it with USA table \n",
    "df_irish_names['USA-State-Total'] = 0\n",
    "df_irish_names['Country'] = 'Ireland'\n",
    "df_irish_names['State'] = 'IRE'\n",
    "\n",
    "# Print the result\n",
    "print(df_irish_names)"
   ]
  },
  {
   "cell_type": "code",
   "execution_count": 50,
   "id": "588a2c3d",
   "metadata": {},
   "outputs": [
    {
     "data": {
      "text/html": [
       "<div>\n",
       "<style scoped>\n",
       "    .dataframe tbody tr th:only-of-type {\n",
       "        vertical-align: middle;\n",
       "    }\n",
       "\n",
       "    .dataframe tbody tr th {\n",
       "        vertical-align: top;\n",
       "    }\n",
       "\n",
       "    .dataframe thead th {\n",
       "        text-align: right;\n",
       "    }\n",
       "</style>\n",
       "<table border=\"1\" class=\"dataframe\">\n",
       "  <thead>\n",
       "    <tr style=\"text-align: right;\">\n",
       "      <th></th>\n",
       "      <th>State</th>\n",
       "      <th>Sex</th>\n",
       "      <th>Year</th>\n",
       "      <th>Name</th>\n",
       "      <th>Count</th>\n",
       "      <th>Total</th>\n",
       "      <th>Count_Normalized</th>\n",
       "    </tr>\n",
       "  </thead>\n",
       "  <tbody>\n",
       "    <tr>\n",
       "      <th>0</th>\n",
       "      <td>OR</td>\n",
       "      <td>F</td>\n",
       "      <td>1910</td>\n",
       "      <td>Dorothy</td>\n",
       "      <td>57</td>\n",
       "      <td>1373</td>\n",
       "      <td>0.041515</td>\n",
       "    </tr>\n",
       "    <tr>\n",
       "      <th>1</th>\n",
       "      <td>OR</td>\n",
       "      <td>F</td>\n",
       "      <td>1910</td>\n",
       "      <td>Mary</td>\n",
       "      <td>54</td>\n",
       "      <td>1373</td>\n",
       "      <td>0.039330</td>\n",
       "    </tr>\n",
       "    <tr>\n",
       "      <th>2</th>\n",
       "      <td>OR</td>\n",
       "      <td>F</td>\n",
       "      <td>1910</td>\n",
       "      <td>Helen</td>\n",
       "      <td>48</td>\n",
       "      <td>1373</td>\n",
       "      <td>0.034960</td>\n",
       "    </tr>\n",
       "    <tr>\n",
       "      <th>3</th>\n",
       "      <td>OR</td>\n",
       "      <td>F</td>\n",
       "      <td>1910</td>\n",
       "      <td>Ruth</td>\n",
       "      <td>46</td>\n",
       "      <td>1373</td>\n",
       "      <td>0.033503</td>\n",
       "    </tr>\n",
       "    <tr>\n",
       "      <th>4</th>\n",
       "      <td>OR</td>\n",
       "      <td>F</td>\n",
       "      <td>1910</td>\n",
       "      <td>Margaret</td>\n",
       "      <td>43</td>\n",
       "      <td>1373</td>\n",
       "      <td>0.031318</td>\n",
       "    </tr>\n",
       "  </tbody>\n",
       "</table>\n",
       "</div>"
      ],
      "text/plain": [
       "  State Sex  Year      Name  Count  Total  Count_Normalized\n",
       "0    OR   F  1910   Dorothy     57   1373          0.041515\n",
       "1    OR   F  1910      Mary     54   1373          0.039330\n",
       "2    OR   F  1910     Helen     48   1373          0.034960\n",
       "3    OR   F  1910      Ruth     46   1373          0.033503\n",
       "4    OR   F  1910  Margaret     43   1373          0.031318"
      ]
     },
     "execution_count": 50,
     "metadata": {},
     "output_type": "execute_result"
    }
   ],
   "source": [
    "# USA DATA PREP\n",
    "# Display first 5 records\n",
    "df_usa_names.head()"
   ]
  },
  {
   "cell_type": "code",
   "execution_count": 51,
   "id": "8d99ab60",
   "metadata": {},
   "outputs": [
    {
     "name": "stdout",
     "output_type": "stream",
     "text": [
      "         Year      Name Sex  Count  IRE-Rank  USA-State-Total Country State\n",
      "0        1910   Dorothy   F     57         0             1373     USA    OR\n",
      "1        1910      Mary   F     54         0             1373     USA    OR\n",
      "2        1910     Helen   F     48         0             1373     USA    OR\n",
      "3        1910      Ruth   F     46         0             1373     USA    OR\n",
      "4        1910  Margaret   F     43         0             1373     USA    OR\n",
      "...       ...       ...  ..    ...       ...              ...     ...   ...\n",
      "6337729  2021    Yeshua   M      5         0             6808     USA    PR\n",
      "6337730  2021      Zael   M      5         0             6808     USA    PR\n",
      "6337731  2021     Zahid   M      5         0             6808     USA    PR\n",
      "6337732  2021    Zariel   M      5         0             6808     USA    PR\n",
      "6337733  2021      Zyan   M      5         0             6808     USA    PR\n",
      "\n",
      "[6337734 rows x 8 columns]\n"
     ]
    }
   ],
   "source": [
    "#USA COLUMN PREP\n",
    "# Deleting the 'Count_Normalized' column\n",
    "del df_usa_names['Count_Normalized']\n",
    "# add the IRE Rank\n",
    "df_usa_names['IRE-Rank'] = 0\n",
    "# Rename the columns in the USA Dataframe \n",
    "df_usa_names = rename_columns(df_usa_names, \n",
    "                            ['Total',], \n",
    "                            ['USA-State-Total'])\n",
    "# ADD THE COUNTRY\n",
    "df_usa_names['Country'] = 'USA'\n",
    "\n",
    "# Move columns to # Year, # Names,# Sex, # Count, # Ire-Rank, # USA-State-Total, # Country, # State (US State or IRE for Ireland )\n",
    "\n",
    "# Move column \n",
    "move_column(df_usa_names, 'Year', 0)\n",
    "move_column(df_usa_names, 'Name', 1)\n",
    "move_column(df_usa_names, 'Sex', 2)\n",
    "move_column(df_usa_names, 'Count', 3)\n",
    "\n",
    "\n",
    "# Add the IRE-rank column\n",
    "# Insert the new columns to match it with USA table \n",
    "df_usa_names['IRE-Rank'] = 0\n",
    "move_column(df_usa_names, 'IRE-Rank', 4)\n",
    "\n",
    "# Rename the columns in the USA Dataframe \n",
    "df_usa_names = rename_columns(df_usa_names, \n",
    "                            ['Total',], \n",
    "                            ['USA-State-Total'])\n",
    "move_column(df_usa_names, 'USA-State-Total', 5) \n",
    "\n",
    "move_column(df_usa_names, 'Country', 6)\n",
    "move_column(df_usa_names, 'State', 7)\n",
    "print(df_usa_names)\n"
   ]
  },
  {
   "cell_type": "code",
   "execution_count": 52,
   "id": "1127893c",
   "metadata": {},
   "outputs": [
    {
     "name": "stdout",
     "output_type": "stream",
     "text": [
      "         Year      Name Sex  Count  IRE-Rank  USA-State-Total Country State\n",
      "0        1910   Dorothy   F     57         0             1373     USA    OR\n",
      "1        1910      Mary   F     54         0             1373     USA    OR\n",
      "2        1910     Helen   F     48         0             1373     USA    OR\n",
      "3        1910      Ruth   F     46         0             1373     USA    OR\n",
      "4        1910  Margaret   F     43         0             1373     USA    OR\n",
      "...       ...       ...  ..    ...       ...              ...     ...   ...\n",
      "6337729  2021    Yeshua   M      5         0             6808     USA    PR\n",
      "6337730  2021      Zael   M      5         0             6808     USA    PR\n",
      "6337731  2021     Zahid   M      5         0             6808     USA    PR\n",
      "6337732  2021    Zariel   M      5         0             6808     USA    PR\n",
      "6337733  2021      Zyan   M      5         0             6808     USA    PR\n",
      "\n",
      "[6337734 rows x 8 columns]\n",
      "Year                int64\n",
      "Name               object\n",
      "Sex                object\n",
      "Count               int64\n",
      "IRE-Rank            int64\n",
      "USA-State-Total     int64\n",
      "Country            object\n",
      "State              object\n",
      "dtype: object\n"
     ]
    }
   ],
   "source": [
    "# Convert the year, count, rank and us state total column to int\n",
    "df_irish_names['Year'] = df_irish_names['Year'].astype(int)\n",
    "df_irish_names['Count'] = df_irish_names['Count'].astype(int)\n",
    "df_irish_names['IRE-Rank'] = df_irish_names['IRE-Rank'].astype(int)\n",
    "df_irish_names['USA-State-Total'] = df_irish_names['USA-State-Total'].astype(int)\n",
    "df_usa_names['Year'] = df_usa_names['Year'].astype(int)\n",
    "df_usa_names['Count'] = df_usa_names['Count'].astype(int)\n",
    "df_usa_names['IRE-Rank'] = df_usa_names['IRE-Rank'].astype(int)\n",
    "df_usa_names['USA-State-Total'] = df_usa_names['USA-State-Total'].astype(int)\n",
    "\n",
    "print(df_usa_names)\n",
    "print(df_usa_names.dtypes)"
   ]
  },
  {
   "cell_type": "code",
   "execution_count": 53,
   "id": "fbc380b8",
   "metadata": {},
   "outputs": [
    {
     "name": "stdout",
     "output_type": "stream",
     "text": [
      "The DataFrames have the same columns in the same order\n"
     ]
    }
   ],
   "source": [
    "# All ready now to merge both datasets\n",
    "# first i will check if i can proceed\n",
    "if list(df_irish_names.columns) == list(df_usa_names.columns):\n",
    "    print(\"The DataFrames have the same columns in the same order\")\n",
    "else:\n",
    "    print(\"The DataFrames have different columns or different order\")\n"
   ]
  },
  {
   "cell_type": "code",
   "execution_count": 54,
   "id": "bfd570bd",
   "metadata": {
    "scrolled": true
   },
   "outputs": [
    {
     "name": "stdout",
     "output_type": "stream",
     "text": [
      "The number of rows in the dataframe 'df_irish_names' is '74,360'\n",
      "The number of rows in the dataframe 'df_usa_names' is '6,337,734'\n",
      "The number of rows in the Merged dataframe 'ssd_ca_dataset_df' is '6,412,094'\n"
     ]
    }
   ],
   "source": [
    "# Appending USA to IRE\n",
    "ssd_ca_dataset_df = pd.concat([df_usa_names, df_irish_names], ignore_index=True)\n",
    "# get the number of usa rows\n",
    "num_rows=len(ssd_ca_dataset_df)\n",
    "num_rows = \"{:,}\".format(num_rows)\n",
    "\n",
    "print(f\"The number of rows in the dataframe 'df_irish_names' is '{num_rows_ire}'\")\n",
    "print(f\"The number of rows in the dataframe 'df_usa_names' is '{num_rows_usa}'\")\n",
    "print(f\"The number of rows in the Merged dataframe 'ssd_ca_dataset_df' is '{num_rows}'\")\n",
    "\n"
   ]
  },
  {
   "cell_type": "code",
   "execution_count": 67,
   "id": "d5846cde",
   "metadata": {
    "scrolled": true
   },
   "outputs": [
    {
     "name": "stdout",
     "output_type": "stream",
     "text": [
      "\n",
      "DataFrame after dropping rows from 1950 to 2000:\n"
     ]
    },
    {
     "data": {
      "text/plain": [
       "<bound method NDFrame.describe of          Year      Name Sex  Count  IRE-Rank  USA-State-Total  Country State\n",
       "25143    1985   Jessica   F    528         0            15645      USA    OR\n",
       "25144    1985  Jennifer   F    429         0            15645      USA    OR\n",
       "25145    1985    Amanda   F    428         0            15645      USA    OR\n",
       "25146    1985    Ashley   F    421         0            15645      USA    OR\n",
       "25147    1985     Sarah   F    356         0            15645      USA    OR\n",
       "...       ...       ...  ..    ...       ...              ...      ...   ...\n",
       "6412089  2021     Vaeda   F      4       764                0  Ireland   IRE\n",
       "6412090  2021   Viviana   F      3       883                0  Ireland   IRE\n",
       "6412091  2021    Zariah   F      3       883                0  Ireland   IRE\n",
       "6412092  2021       Zia   F      3       883                0  Ireland   IRE\n",
       "6412093  2021      Zoha   F      3       883                0  Ireland   IRE\n",
       "\n",
       "[3126787 rows x 8 columns]>"
      ]
     },
     "execution_count": 67,
     "metadata": {},
     "output_type": "execute_result"
    }
   ],
   "source": [
    "# To do the graphing I will have to make them for the same year range. \n",
    "# I dropped all rows from 1964 but the file was still 140mb so for eases of use\n",
    "# I going to drop anything before 1985 to get a file that will fit in my repo <100mb\n",
    "#Dropping rows where 'Year' is before 1985, 36 years of data. 3.2 Million rows\n",
    "\n",
    "df_dataviz = ssd_ca_dataset_df[ssd_ca_dataset_df['Year'] >= 1985]\n",
    "\n",
    "print(\"\\nDataFrame after dropping rows from 1950 to 2000:\")\n",
    "df_dataviz.describe"
   ]
  },
  {
   "cell_type": "code",
   "execution_count": 68,
   "id": "9b65cfb5",
   "metadata": {},
   "outputs": [
    {
     "name": "stdout",
     "output_type": "stream",
     "text": [
      "The number of rows in the Merged dataframe 'df_dataviz' is '3,126,787'\n"
     ]
    }
   ],
   "source": [
    "num_rows=len(df_dataviz)\n",
    "num_rows = \"{:,}\".format(num_rows)\n",
    "print(f\"The number of rows in the Merged dataframe 'df_dataviz' is '{num_rows}'\")"
   ]
  },
  {
   "cell_type": "code",
   "execution_count": 69,
   "id": "417829d2",
   "metadata": {},
   "outputs": [],
   "source": [
    "# writing the updated Irish and USA datasetd\n",
    "df_irish_names.to_csv('./irish_names.csv', index=False)\n",
    "df_usa_names.to_csv('../../usa_names.csv', index=False)\n",
    "\n",
    "# Writing the Merged DataFrame to a CSV file, this file is still 200mb so will keep two levels above dataviz directory\n",
    "\n",
    "df_dataviz.to_csv('./df_ca2_dataviz.csv', index=False)"
   ]
  },
  {
   "cell_type": "code",
   "execution_count": 70,
   "id": "204c4e0c",
   "metadata": {},
   "outputs": [],
   "source": [
    "# all done dataset is merged and ready to be used for data viz"
   ]
  },
  {
   "cell_type": "code",
   "execution_count": null,
   "id": "9d044944",
   "metadata": {},
   "outputs": [],
   "source": []
  },
  {
   "cell_type": "code",
   "execution_count": null,
   "id": "65f63b50",
   "metadata": {},
   "outputs": [],
   "source": []
  }
 ],
 "metadata": {
  "kernelspec": {
   "display_name": "Python 3 (ipykernel)",
   "language": "python",
   "name": "python3"
  },
  "language_info": {
   "codemirror_mode": {
    "name": "ipython",
    "version": 3
   },
   "file_extension": ".py",
   "mimetype": "text/x-python",
   "name": "python",
   "nbconvert_exporter": "python",
   "pygments_lexer": "ipython3",
   "version": "3.10.12"
  }
 },
 "nbformat": 4,
 "nbformat_minor": 5
}

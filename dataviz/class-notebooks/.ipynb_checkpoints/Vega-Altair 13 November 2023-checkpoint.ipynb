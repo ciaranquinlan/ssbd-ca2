{
 "cells": [
  {
   "cell_type": "code",
   "execution_count": null,
   "id": "b5cbfd25",
   "metadata": {},
   "outputs": [],
   "source": [
    "#pip install sklearn"
   ]
  },
  {
   "cell_type": "code",
   "execution_count": null,
   "id": "8d6f2211",
   "metadata": {},
   "outputs": [],
   "source": [
    "import warnings\n",
    "warnings.filterwarnings('ignore')\n",
    "\n",
    "import altair as alt\n",
    "import pandas as pd\n",
    "import numpy as np\n",
    "import panel as pn\n",
    "\n",
    "from sklearn import datasets, linear_model\n",
    "from sklearn.metrics import r2_score"
   ]
  },
  {
   "cell_type": "code",
   "execution_count": null,
   "id": "83f866f1",
   "metadata": {},
   "outputs": [],
   "source": [
    "pn.extension('vega')"
   ]
  },
  {
   "cell_type": "code",
   "execution_count": null,
   "id": "91556773",
   "metadata": {},
   "outputs": [],
   "source": [
    "data = datasets.load_diabetes()\n",
    "df = pd.DataFrame(data.data, columns=data.feature_names)\n",
    "df['Target'] = data.target\n",
    "df.head()"
   ]
  },
  {
   "cell_type": "code",
   "execution_count": null,
   "id": "56460080",
   "metadata": {
    "scrolled": true
   },
   "outputs": [],
   "source": [
    "X = df.drop('Target', axis=1)\n",
    "y = df.Target"
   ]
  },
  {
   "cell_type": "code",
   "execution_count": null,
   "id": "b2b71819",
   "metadata": {},
   "outputs": [],
   "source": [
    "lr = linear_model.LinearRegression()\n",
    "lr.fit(X, y)\n",
    "\n",
    "y_pred = lr.predict(X)\n",
    "r2 = r2_score(y, y_pred)\n",
    "r2"
   ]
  },
  {
   "cell_type": "code",
   "execution_count": null,
   "id": "94357435",
   "metadata": {},
   "outputs": [],
   "source": [
    "def get_regression_line(df):\n",
    "    lr = linear_model.LinearRegression()\n",
    "    lr.fit(X, y)\n",
    "    coef = lr.coef_\n",
    "    intercept = lr.intercept_\n",
    "    \n",
    "    scatter_plot = alt.Chart(df).mark_circle().encode(\n",
    "        x='bmi',\n",
    "        y='Target',\n",
    "        tooltip=['bmi', 'Target'])\n",
    "    \n",
    "    line_plot = alt.Chart(pd.DataFrame({'bmi': [df['bmi'].min(), \n",
    "                                    df['bmi'].max()], 'Target': [df['bmi'].min() * coef[2] + intercept, \n",
    "                                    df['bmi'].max() * coef[2] + intercept]})).mark_line(color='red').encode(\n",
    "        x='bmi', y='Target')\n",
    "    return scatter_plot + line_plot"
   ]
  },
  {
   "cell_type": "code",
   "execution_count": null,
   "id": "7bd38621",
   "metadata": {},
   "outputs": [],
   "source": [
    "get_regression_line(df)"
   ]
  },
  {
   "cell_type": "code",
   "execution_count": null,
   "id": "4aa1f1c9",
   "metadata": {},
   "outputs": [],
   "source": [
    "def create_box_plot(df):\n",
    "    return alt.Chart(df).mark_boxplot().encode(\n",
    "    x=alt.X('key:N', title='Feature'),\n",
    "    y=alt.Y('value:Q', title='Value'),).transform_fold(list(df.columns[:-1]),\n",
    "                                                    as_=['key','value']).interactive()"
   ]
  },
  {
   "cell_type": "code",
   "execution_count": null,
   "id": "c6527353",
   "metadata": {},
   "outputs": [],
   "source": [
    "create_box_plot(df)"
   ]
  },
  {
   "cell_type": "code",
   "execution_count": null,
   "id": "af88b666",
   "metadata": {},
   "outputs": [],
   "source": [
    "def create_scatter_plot(df):\n",
    "    return alt.Chart(df).mark_circle().encode(x='bmi', y='Target', tooltip=['bmi','Target'])\n",
    "\n",
    "def scatter_plot(x_feature, y_feature):\n",
    "    chart = alt.Chart(df).mark_circle(size=60).encode(\n",
    "    x=x_feature, y=y_feature, color='Target',\n",
    "    tooltip=[x_feature, y_feature, 'Target']).properties(width=600, height=400)\n",
    "    return chart"
   ]
  },
  {
   "cell_type": "code",
   "execution_count": null,
   "id": "06f8c56d",
   "metadata": {},
   "outputs": [],
   "source": [
    "x_select = pn.widgets.Select(options=list(df.columns), name='X-axis')\n",
    "y_select = pn.widgets.Select(options=list(df.columns), name='Y-axis')\n",
    "\n",
    "@pn.depends(x_select.param.value, y_select.param.value)\n",
    "def update_plot(x_feature, y_feature):\n",
    "    return scatter_plot(x_feature, y_feature)"
   ]
  },
  {
   "cell_type": "code",
   "execution_count": null,
   "id": "256c8f60",
   "metadata": {},
   "outputs": [],
   "source": [
    "dashboard = pn.Column(\n",
    "    pn.pane.Markdown('# Diabetes Regression Analysis Dashboard'),\n",
    "    pn.Row(get_regression_line(df), create_box_plot(df)),\n",
    "    pn.Column(x_select, y_select), update_plot)"
   ]
  },
  {
   "cell_type": "code",
   "execution_count": null,
   "id": "67e8534d",
   "metadata": {},
   "outputs": [],
   "source": [
    "dashboard"
   ]
  },
  {
   "cell_type": "code",
   "execution_count": null,
   "id": "e4f299b3",
   "metadata": {},
   "outputs": [],
   "source": []
  },
  {
   "cell_type": "code",
   "execution_count": null,
   "id": "e834aa79",
   "metadata": {},
   "outputs": [],
   "source": [
    "# Create the Altair charts\n",
    "boxplot = alt.Chart(df).mark_boxplot().encode(\n",
    "    x=alt.X('key:N', title='Feature'),\n",
    "    y=alt.Y('value:Q', title='Value'),\n",
    ").transform_fold(\n",
    "    list(df.columns[:-1]),\n",
    "    as_=['key', 'value']\n",
    ").interactive()\n",
    "\n",
    "scatterplot = alt.Chart(df).mark_circle().encode(\n",
    "    x=alt.X(alt.repeat(\"column\"), type='quantitative'),\n",
    "    y=alt.Y('target:Q'),\n",
    "    tooltip=list(df.columns)\n",
    ").properties(width=150, height=150).repeat(column=list(df.columns[:-1])).interactive()\n",
    "\n",
    "linear_regression = alt.Chart(pd.DataFrame({'y': y, 'y_pred': y_pred})).mark_point().encode(\n",
    "    x=alt.X('y:Q', title='True Target Values'),\n",
    "    y=alt.Y('y_pred:Q', title='Predicted Target Values'),\n",
    "    tooltip=['y', 'y_pred']\n",
    ").interactive()\n",
    "\n"
   ]
  },
  {
   "cell_type": "code",
   "execution_count": null,
   "id": "ab084321",
   "metadata": {},
   "outputs": [],
   "source": [
    "dashboard2 = pn.Column(\n",
    "    pn.pane.Markdown('# Diabetes Regression Dashboard'),\n",
    "    pn.Row(boxplot, scatterplot),\n",
    "    pn.Row(linear_regression),\n",
    "    pn.Row(r2),)"
   ]
  },
  {
   "cell_type": "code",
   "execution_count": null,
   "id": "536e55a7",
   "metadata": {},
   "outputs": [],
   "source": [
    "dashboard2.servable()"
   ]
  },
  {
   "cell_type": "code",
   "execution_count": null,
   "id": "da2d3d85",
   "metadata": {},
   "outputs": [],
   "source": []
  },
  {
   "cell_type": "code",
   "execution_count": null,
   "id": "96237562",
   "metadata": {},
   "outputs": [],
   "source": []
  }
 ],
 "metadata": {
  "kernelspec": {
   "display_name": "Python 3 (ipykernel)",
   "language": "python",
   "name": "python3"
  },
  "language_info": {
   "codemirror_mode": {
    "name": "ipython",
    "version": 3
   },
   "file_extension": ".py",
   "mimetype": "text/x-python",
   "name": "python",
   "nbconvert_exporter": "python",
   "pygments_lexer": "ipython3",
   "version": "3.10.12"
  }
 },
 "nbformat": 4,
 "nbformat_minor": 5
}

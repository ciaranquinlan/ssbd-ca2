{
 "cells": [
  {
   "cell_type": "code",
   "execution_count": 1,
   "id": "81abc1b8",
   "metadata": {
    "ExecuteTime": {
     "end_time": "2023-10-06T16:28:16.978595Z",
     "start_time": "2023-10-06T16:28:13.870863Z"
    }
   },
   "outputs": [
    {
     "ename": "AttributeError",
     "evalue": "'NoneType' object has no attribute 'split'",
     "output_type": "error",
     "traceback": [
      "\u001b[1;31m---------------------------------------------------------------------------\u001b[0m",
      "\u001b[1;31mAttributeError\u001b[0m                            Traceback (most recent call last)",
      "\u001b[1;32m~\\AppData\\Local\\Temp\\ipykernel_16580\\157690872.py\u001b[0m in \u001b[0;36m<module>\u001b[1;34m\u001b[0m\n\u001b[0;32m      4\u001b[0m \u001b[1;33m\u001b[0m\u001b[0m\n\u001b[0;32m      5\u001b[0m \u001b[1;32mimport\u001b[0m \u001b[0mpandas\u001b[0m \u001b[1;32mas\u001b[0m \u001b[0mpd\u001b[0m\u001b[1;33m\u001b[0m\u001b[1;33m\u001b[0m\u001b[0m\n\u001b[1;32m----> 6\u001b[1;33m \u001b[1;32mimport\u001b[0m \u001b[0mpanel\u001b[0m \u001b[1;32mas\u001b[0m \u001b[0mpn\u001b[0m\u001b[1;33m\u001b[0m\u001b[1;33m\u001b[0m\u001b[0m\n\u001b[0m\u001b[0;32m      7\u001b[0m \u001b[0mpn\u001b[0m\u001b[1;33m.\u001b[0m\u001b[0mextension\u001b[0m\u001b[1;33m(\u001b[0m\u001b[1;34m'vega'\u001b[0m\u001b[1;33m)\u001b[0m\u001b[1;33m\u001b[0m\u001b[1;33m\u001b[0m\u001b[0m\n\u001b[0;32m      8\u001b[0m \u001b[1;33m\u001b[0m\u001b[0m\n",
      "\u001b[1;32m~\\anaconda3\\lib\\site-packages\\panel\\__init__.py\u001b[0m in \u001b[0;36m<module>\u001b[1;34m\u001b[0m\n\u001b[0;32m     48\u001b[0m \u001b[1;32mfrom\u001b[0m \u001b[0mparam\u001b[0m \u001b[1;32mimport\u001b[0m \u001b[0mrx\u001b[0m\u001b[1;33m\u001b[0m\u001b[1;33m\u001b[0m\u001b[0m\n\u001b[0;32m     49\u001b[0m \u001b[1;33m\u001b[0m\u001b[0m\n\u001b[1;32m---> 50\u001b[1;33m \u001b[1;32mfrom\u001b[0m \u001b[1;33m.\u001b[0m \u001b[1;32mimport\u001b[0m \u001b[0mchat\u001b[0m  \u001b[1;31m# noqa\u001b[0m\u001b[1;33m\u001b[0m\u001b[1;33m\u001b[0m\u001b[0m\n\u001b[0m\u001b[0;32m     51\u001b[0m \u001b[1;32mfrom\u001b[0m \u001b[1;33m.\u001b[0m \u001b[1;32mimport\u001b[0m \u001b[0mlayout\u001b[0m  \u001b[1;31m# noqa\u001b[0m\u001b[1;33m\u001b[0m\u001b[1;33m\u001b[0m\u001b[0m\n\u001b[0;32m     52\u001b[0m \u001b[1;32mfrom\u001b[0m \u001b[1;33m.\u001b[0m \u001b[1;32mimport\u001b[0m \u001b[0mlinks\u001b[0m  \u001b[1;31m# noqa\u001b[0m\u001b[1;33m\u001b[0m\u001b[1;33m\u001b[0m\u001b[0m\n",
      "\u001b[1;32m~\\anaconda3\\lib\\site-packages\\panel\\chat\\__init__.py\u001b[0m in \u001b[0;36m<module>\u001b[1;34m\u001b[0m\n\u001b[0;32m     29\u001b[0m \u001b[0mhttps\u001b[0m\u001b[1;33m:\u001b[0m\u001b[1;33m//\u001b[0m\u001b[0mpanel\u001b[0m\u001b[1;33m.\u001b[0m\u001b[0mholoviz\u001b[0m\u001b[1;33m.\u001b[0m\u001b[0morg\u001b[0m\u001b[1;33m/\u001b[0m\u001b[0mreference\u001b[0m\u001b[1;33m/\u001b[0m\u001b[0mchat\u001b[0m\u001b[1;33m/\u001b[0m\u001b[0mChatInterface\u001b[0m\u001b[1;33m.\u001b[0m\u001b[0mhtml\u001b[0m\u001b[1;33m\u001b[0m\u001b[1;33m\u001b[0m\u001b[0m\n\u001b[0;32m     30\u001b[0m \"\"\"\n\u001b[1;32m---> 31\u001b[1;33m \u001b[1;32mfrom\u001b[0m \u001b[1;33m.\u001b[0m \u001b[1;32mimport\u001b[0m \u001b[0mlangchain\u001b[0m  \u001b[1;31m# noqa\u001b[0m\u001b[1;33m\u001b[0m\u001b[1;33m\u001b[0m\u001b[0m\n\u001b[0m\u001b[0;32m     32\u001b[0m \u001b[1;32mfrom\u001b[0m \u001b[1;33m.\u001b[0m\u001b[0mfeed\u001b[0m \u001b[1;32mimport\u001b[0m \u001b[0mChatFeed\u001b[0m  \u001b[1;31m# noqa\u001b[0m\u001b[1;33m\u001b[0m\u001b[1;33m\u001b[0m\u001b[0m\n\u001b[0;32m     33\u001b[0m \u001b[1;32mfrom\u001b[0m \u001b[1;33m.\u001b[0m\u001b[0micon\u001b[0m \u001b[1;32mimport\u001b[0m \u001b[0mChatReactionIcons\u001b[0m  \u001b[1;31m# noqa\u001b[0m\u001b[1;33m\u001b[0m\u001b[1;33m\u001b[0m\u001b[0m\n",
      "\u001b[1;32m~\\anaconda3\\lib\\site-packages\\panel\\chat\\langchain.py\u001b[0m in \u001b[0;36m<module>\u001b[1;34m\u001b[0m\n\u001b[0;32m     16\u001b[0m     \u001b[0mLLMResult\u001b[0m \u001b[1;33m=\u001b[0m \u001b[1;32mNone\u001b[0m\u001b[1;33m\u001b[0m\u001b[1;33m\u001b[0m\u001b[0m\n\u001b[0;32m     17\u001b[0m \u001b[1;33m\u001b[0m\u001b[0m\n\u001b[1;32m---> 18\u001b[1;33m \u001b[1;32mfrom\u001b[0m \u001b[1;33m.\u001b[0m\u001b[1;33m.\u001b[0m\u001b[0mchat\u001b[0m\u001b[1;33m.\u001b[0m\u001b[0mfeed\u001b[0m \u001b[1;32mimport\u001b[0m \u001b[0mChatFeed\u001b[0m\u001b[1;33m\u001b[0m\u001b[1;33m\u001b[0m\u001b[0m\n\u001b[0m\u001b[0;32m     19\u001b[0m \u001b[1;32mfrom\u001b[0m \u001b[1;33m.\u001b[0m\u001b[1;33m.\u001b[0m\u001b[0mchat\u001b[0m\u001b[1;33m.\u001b[0m\u001b[0minterface\u001b[0m \u001b[1;32mimport\u001b[0m \u001b[0mChatInterface\u001b[0m\u001b[1;33m\u001b[0m\u001b[1;33m\u001b[0m\u001b[0m\n\u001b[0;32m     20\u001b[0m \u001b[1;32mfrom\u001b[0m \u001b[1;33m.\u001b[0m\u001b[1;33m.\u001b[0m\u001b[0mchat\u001b[0m\u001b[1;33m.\u001b[0m\u001b[0mmessage\u001b[0m \u001b[1;32mimport\u001b[0m \u001b[0mDEFAULT_AVATARS\u001b[0m\u001b[1;33m\u001b[0m\u001b[1;33m\u001b[0m\u001b[0m\n",
      "\u001b[1;32m~\\anaconda3\\lib\\site-packages\\panel\\chat\\feed.py\u001b[0m in \u001b[0;36m<module>\u001b[1;34m\u001b[0m\n\u001b[0;32m     20\u001b[0m \u001b[1;33m\u001b[0m\u001b[0m\n\u001b[0;32m     21\u001b[0m \u001b[1;32mfrom\u001b[0m \u001b[1;33m.\u001b[0m\u001b[1;33m.\u001b[0m\u001b[0m_param\u001b[0m \u001b[1;32mimport\u001b[0m \u001b[0mMargin\u001b[0m\u001b[1;33m\u001b[0m\u001b[1;33m\u001b[0m\u001b[0m\n\u001b[1;32m---> 22\u001b[1;33m \u001b[1;32mfrom\u001b[0m \u001b[1;33m.\u001b[0m\u001b[1;33m.\u001b[0m\u001b[0mio\u001b[0m\u001b[1;33m.\u001b[0m\u001b[0mresources\u001b[0m \u001b[1;32mimport\u001b[0m \u001b[0mCDN_DIST\u001b[0m\u001b[1;33m\u001b[0m\u001b[1;33m\u001b[0m\u001b[0m\n\u001b[0m\u001b[0;32m     23\u001b[0m \u001b[1;32mfrom\u001b[0m \u001b[1;33m.\u001b[0m\u001b[1;33m.\u001b[0m\u001b[0mlayout\u001b[0m \u001b[1;32mimport\u001b[0m \u001b[0mColumn\u001b[0m\u001b[1;33m,\u001b[0m \u001b[0mListPanel\u001b[0m\u001b[1;33m\u001b[0m\u001b[1;33m\u001b[0m\u001b[0m\n\u001b[0;32m     24\u001b[0m \u001b[1;32mfrom\u001b[0m \u001b[1;33m.\u001b[0m\u001b[1;33m.\u001b[0m\u001b[0mlayout\u001b[0m\u001b[1;33m.\u001b[0m\u001b[0mcard\u001b[0m \u001b[1;32mimport\u001b[0m \u001b[0mCard\u001b[0m\u001b[1;33m\u001b[0m\u001b[1;33m\u001b[0m\u001b[0m\n",
      "\u001b[1;32m~\\anaconda3\\lib\\site-packages\\panel\\io\\__init__.py\u001b[0m in \u001b[0;36m<module>\u001b[1;34m\u001b[0m\n\u001b[0;32m      5\u001b[0m \u001b[1;32mimport\u001b[0m \u001b[0msys\u001b[0m\u001b[1;33m\u001b[0m\u001b[1;33m\u001b[0m\u001b[0m\n\u001b[0;32m      6\u001b[0m \u001b[1;33m\u001b[0m\u001b[0m\n\u001b[1;32m----> 7\u001b[1;33m \u001b[1;32mfrom\u001b[0m \u001b[1;33m.\u001b[0m\u001b[0mcache\u001b[0m \u001b[1;32mimport\u001b[0m \u001b[0mcache\u001b[0m  \u001b[1;31m# noqa\u001b[0m\u001b[1;33m\u001b[0m\u001b[1;33m\u001b[0m\u001b[0m\n\u001b[0m\u001b[0;32m      8\u001b[0m \u001b[1;32mfrom\u001b[0m \u001b[1;33m.\u001b[0m\u001b[0mcallbacks\u001b[0m \u001b[1;32mimport\u001b[0m \u001b[0mPeriodicCallback\u001b[0m  \u001b[1;31m# noqa\u001b[0m\u001b[1;33m\u001b[0m\u001b[1;33m\u001b[0m\u001b[0m\n\u001b[0;32m      9\u001b[0m from .document import (  # noqa\n",
      "\u001b[1;32m~\\anaconda3\\lib\\site-packages\\panel\\io\\cache.py\u001b[0m in \u001b[0;36m<module>\u001b[1;34m\u001b[0m\n\u001b[0;32m     23\u001b[0m \u001b[1;32mfrom\u001b[0m \u001b[0mparam\u001b[0m\u001b[1;33m.\u001b[0m\u001b[0mparameterized\u001b[0m \u001b[1;32mimport\u001b[0m \u001b[0miscoroutinefunction\u001b[0m\u001b[1;33m\u001b[0m\u001b[1;33m\u001b[0m\u001b[0m\n\u001b[0;32m     24\u001b[0m \u001b[1;33m\u001b[0m\u001b[0m\n\u001b[1;32m---> 25\u001b[1;33m \u001b[1;32mfrom\u001b[0m \u001b[1;33m.\u001b[0m\u001b[0mstate\u001b[0m \u001b[1;32mimport\u001b[0m \u001b[0mstate\u001b[0m\u001b[1;33m\u001b[0m\u001b[1;33m\u001b[0m\u001b[0m\n\u001b[0m\u001b[0;32m     26\u001b[0m \u001b[1;33m\u001b[0m\u001b[0m\n\u001b[0;32m     27\u001b[0m \u001b[1;31m#---------------------------------------------------------------------\u001b[0m\u001b[1;33m\u001b[0m\u001b[1;33m\u001b[0m\u001b[0m\n",
      "\u001b[1;32m~\\anaconda3\\lib\\site-packages\\panel\\io\\state.py\u001b[0m in \u001b[0;36m<module>\u001b[1;34m\u001b[0m\n\u001b[0;32m     31\u001b[0m \u001b[1;32mfrom\u001b[0m \u001b[0mbokeh\u001b[0m\u001b[1;33m.\u001b[0m\u001b[0mdocument\u001b[0m \u001b[1;32mimport\u001b[0m \u001b[0mDocument\u001b[0m\u001b[1;33m\u001b[0m\u001b[1;33m\u001b[0m\u001b[0m\n\u001b[0;32m     32\u001b[0m \u001b[1;32mfrom\u001b[0m \u001b[0mbokeh\u001b[0m\u001b[1;33m.\u001b[0m\u001b[0mdocument\u001b[0m\u001b[1;33m.\u001b[0m\u001b[0mlocking\u001b[0m \u001b[1;32mimport\u001b[0m \u001b[0mUnlockedDocumentProxy\u001b[0m\u001b[1;33m\u001b[0m\u001b[1;33m\u001b[0m\u001b[0m\n\u001b[1;32m---> 33\u001b[1;33m \u001b[1;32mfrom\u001b[0m \u001b[0mbokeh\u001b[0m\u001b[1;33m.\u001b[0m\u001b[0mio\u001b[0m \u001b[1;32mimport\u001b[0m \u001b[0mcurdoc\u001b[0m \u001b[1;32mas\u001b[0m \u001b[0m_curdoc\u001b[0m\u001b[1;33m\u001b[0m\u001b[1;33m\u001b[0m\u001b[0m\n\u001b[0m\u001b[0;32m     34\u001b[0m \u001b[1;32mfrom\u001b[0m \u001b[0mpyviz_comms\u001b[0m \u001b[1;32mimport\u001b[0m \u001b[0mCommManager\u001b[0m \u001b[1;32mas\u001b[0m \u001b[0m_CommManager\u001b[0m\u001b[1;33m\u001b[0m\u001b[1;33m\u001b[0m\u001b[0m\n\u001b[0;32m     35\u001b[0m \u001b[1;33m\u001b[0m\u001b[0m\n",
      "\u001b[1;32m~\\anaconda3\\lib\\site-packages\\bokeh\\io\\__init__.py\u001b[0m in \u001b[0;36m<module>\u001b[1;34m\u001b[0m\n\u001b[0;32m     22\u001b[0m \u001b[1;33m\u001b[0m\u001b[0m\n\u001b[0;32m     23\u001b[0m \u001b[1;31m# Bokeh imports\u001b[0m\u001b[1;33m\u001b[0m\u001b[1;33m\u001b[0m\u001b[0m\n\u001b[1;32m---> 24\u001b[1;33m \u001b[1;32mfrom\u001b[0m \u001b[1;33m.\u001b[0m\u001b[0mdoc\u001b[0m \u001b[1;32mimport\u001b[0m \u001b[0mcurdoc\u001b[0m\u001b[1;33m\u001b[0m\u001b[1;33m\u001b[0m\u001b[0m\n\u001b[0m\u001b[0;32m     25\u001b[0m \u001b[1;32mfrom\u001b[0m \u001b[1;33m.\u001b[0m\u001b[0mexport\u001b[0m \u001b[1;32mimport\u001b[0m \u001b[0mexport_png\u001b[0m\u001b[1;33m,\u001b[0m \u001b[0mexport_svg\u001b[0m\u001b[1;33m,\u001b[0m \u001b[0mexport_svgs\u001b[0m\u001b[1;33m\u001b[0m\u001b[1;33m\u001b[0m\u001b[0m\n\u001b[0;32m     26\u001b[0m \u001b[1;32mfrom\u001b[0m \u001b[1;33m.\u001b[0m\u001b[0mnotebook\u001b[0m \u001b[1;32mimport\u001b[0m \u001b[0minstall_jupyter_hooks\u001b[0m\u001b[1;33m,\u001b[0m \u001b[0minstall_notebook_hook\u001b[0m\u001b[1;33m,\u001b[0m \u001b[0mpush_notebook\u001b[0m\u001b[1;33m\u001b[0m\u001b[1;33m\u001b[0m\u001b[0m\n",
      "\u001b[1;32m~\\anaconda3\\lib\\site-packages\\bokeh\\io\\doc.py\u001b[0m in \u001b[0;36m<module>\u001b[1;34m\u001b[0m\n\u001b[0;32m     28\u001b[0m \u001b[1;31m# Bokeh imports\u001b[0m\u001b[1;33m\u001b[0m\u001b[1;33m\u001b[0m\u001b[0m\n\u001b[0;32m     29\u001b[0m \u001b[1;32mfrom\u001b[0m \u001b[1;33m.\u001b[0m\u001b[1;33m.\u001b[0m\u001b[0mdocument\u001b[0m \u001b[1;32mimport\u001b[0m \u001b[0mDocument\u001b[0m\u001b[1;33m\u001b[0m\u001b[1;33m\u001b[0m\u001b[0m\n\u001b[1;32m---> 30\u001b[1;33m \u001b[1;32mfrom\u001b[0m \u001b[1;33m.\u001b[0m\u001b[0mstate\u001b[0m \u001b[1;32mimport\u001b[0m \u001b[0mcurstate\u001b[0m\u001b[1;33m\u001b[0m\u001b[1;33m\u001b[0m\u001b[0m\n\u001b[0m\u001b[0;32m     31\u001b[0m \u001b[1;33m\u001b[0m\u001b[0m\n\u001b[0;32m     32\u001b[0m \u001b[1;32mif\u001b[0m \u001b[0mTYPE_CHECKING\u001b[0m\u001b[1;33m:\u001b[0m\u001b[1;33m\u001b[0m\u001b[1;33m\u001b[0m\u001b[0m\n",
      "\u001b[1;32m~\\anaconda3\\lib\\site-packages\\bokeh\\io\\state.py\u001b[0m in \u001b[0;36m<module>\u001b[1;34m\u001b[0m\n\u001b[0;32m     52\u001b[0m \u001b[1;32mfrom\u001b[0m \u001b[1;33m.\u001b[0m\u001b[1;33m.\u001b[0m\u001b[0mcore\u001b[0m\u001b[1;33m.\u001b[0m\u001b[0mtypes\u001b[0m \u001b[1;32mimport\u001b[0m \u001b[0mPathLike\u001b[0m\u001b[1;33m\u001b[0m\u001b[1;33m\u001b[0m\u001b[0m\n\u001b[0;32m     53\u001b[0m \u001b[1;32mfrom\u001b[0m \u001b[1;33m.\u001b[0m\u001b[1;33m.\u001b[0m\u001b[0mdocument\u001b[0m \u001b[1;32mimport\u001b[0m \u001b[0mDocument\u001b[0m\u001b[1;33m\u001b[0m\u001b[1;33m\u001b[0m\u001b[0m\n\u001b[1;32m---> 54\u001b[1;33m \u001b[1;32mfrom\u001b[0m \u001b[1;33m.\u001b[0m\u001b[1;33m.\u001b[0m\u001b[0mresources\u001b[0m \u001b[1;32mimport\u001b[0m \u001b[0mResources\u001b[0m\u001b[1;33m,\u001b[0m \u001b[0mResourcesMode\u001b[0m\u001b[1;33m\u001b[0m\u001b[1;33m\u001b[0m\u001b[0m\n\u001b[0m\u001b[0;32m     55\u001b[0m \u001b[1;33m\u001b[0m\u001b[0m\n\u001b[0;32m     56\u001b[0m \u001b[1;32mif\u001b[0m \u001b[0mTYPE_CHECKING\u001b[0m\u001b[1;33m:\u001b[0m\u001b[1;33m\u001b[0m\u001b[1;33m\u001b[0m\u001b[0m\n",
      "\u001b[1;32m~\\anaconda3\\lib\\site-packages\\bokeh\\resources.py\u001b[0m in \u001b[0;36m<module>\u001b[1;34m\u001b[0m\n\u001b[0;32m    684\u001b[0m \u001b[0mResourcesLike\u001b[0m\u001b[1;33m:\u001b[0m \u001b[0mTypeAlias\u001b[0m \u001b[1;33m=\u001b[0m \u001b[0mUnion\u001b[0m\u001b[1;33m[\u001b[0m\u001b[0mResources\u001b[0m\u001b[1;33m,\u001b[0m \u001b[0mResourcesMode\u001b[0m\u001b[1;33m]\u001b[0m\u001b[1;33m\u001b[0m\u001b[1;33m\u001b[0m\u001b[0m\n\u001b[0;32m    685\u001b[0m \u001b[1;33m\u001b[0m\u001b[0m\n\u001b[1;32m--> 686\u001b[1;33m \u001b[0mCDN\u001b[0m \u001b[1;33m=\u001b[0m \u001b[0mResources\u001b[0m\u001b[1;33m(\u001b[0m\u001b[0mmode\u001b[0m\u001b[1;33m=\u001b[0m\u001b[1;34m\"cdn\"\u001b[0m\u001b[1;33m)\u001b[0m\u001b[1;33m\u001b[0m\u001b[1;33m\u001b[0m\u001b[0m\n\u001b[0m\u001b[0;32m    687\u001b[0m \u001b[1;33m\u001b[0m\u001b[0m\n\u001b[0;32m    688\u001b[0m \u001b[0mINLINE\u001b[0m \u001b[1;33m=\u001b[0m \u001b[0mResources\u001b[0m\u001b[1;33m(\u001b[0m\u001b[0mmode\u001b[0m\u001b[1;33m=\u001b[0m\u001b[1;34m\"inline\"\u001b[0m\u001b[1;33m)\u001b[0m\u001b[1;33m\u001b[0m\u001b[1;33m\u001b[0m\u001b[0m\n",
      "\u001b[1;32m~\\anaconda3\\lib\\site-packages\\bokeh\\resources.py\u001b[0m in \u001b[0;36m__init__\u001b[1;34m(***failed resolving arguments***)\u001b[0m\n\u001b[0;32m    383\u001b[0m \u001b[1;33m\u001b[0m\u001b[0m\n\u001b[0;32m    384\u001b[0m         \u001b[1;32mif\u001b[0m \u001b[0mself\u001b[0m\u001b[1;33m.\u001b[0m\u001b[0mmode\u001b[0m \u001b[1;33m==\u001b[0m \u001b[1;34m\"cdn\"\u001b[0m\u001b[1;33m:\u001b[0m\u001b[1;33m\u001b[0m\u001b[1;33m\u001b[0m\u001b[0m\n\u001b[1;32m--> 385\u001b[1;33m             \u001b[0mcdn\u001b[0m \u001b[1;33m=\u001b[0m \u001b[0mself\u001b[0m\u001b[1;33m.\u001b[0m\u001b[0m_cdn_urls\u001b[0m\u001b[1;33m(\u001b[0m\u001b[1;33m)\u001b[0m\u001b[1;33m\u001b[0m\u001b[1;33m\u001b[0m\u001b[0m\n\u001b[0m\u001b[0;32m    386\u001b[0m             \u001b[0mself\u001b[0m\u001b[1;33m.\u001b[0m\u001b[0mmessages\u001b[0m\u001b[1;33m.\u001b[0m\u001b[0mextend\u001b[0m\u001b[1;33m(\u001b[0m\u001b[0mcdn\u001b[0m\u001b[1;33m.\u001b[0m\u001b[0mmessages\u001b[0m\u001b[1;33m)\u001b[0m\u001b[1;33m\u001b[0m\u001b[1;33m\u001b[0m\u001b[0m\n\u001b[0;32m    387\u001b[0m         \u001b[1;32melif\u001b[0m \u001b[0mself\u001b[0m\u001b[1;33m.\u001b[0m\u001b[0mmode\u001b[0m \u001b[1;33m==\u001b[0m \u001b[1;34m\"server\"\u001b[0m\u001b[1;33m:\u001b[0m\u001b[1;33m\u001b[0m\u001b[1;33m\u001b[0m\u001b[0m\n",
      "\u001b[1;32m~\\anaconda3\\lib\\site-packages\\bokeh\\resources.py\u001b[0m in \u001b[0;36m_cdn_urls\u001b[1;34m(self)\u001b[0m\n\u001b[0;32m    473\u001b[0m \u001b[1;33m\u001b[0m\u001b[0m\n\u001b[0;32m    474\u001b[0m     \u001b[1;32mdef\u001b[0m \u001b[0m_cdn_urls\u001b[0m\u001b[1;33m(\u001b[0m\u001b[0mself\u001b[0m\u001b[1;33m)\u001b[0m \u001b[1;33m->\u001b[0m \u001b[0mUrls\u001b[0m\u001b[1;33m:\u001b[0m\u001b[1;33m\u001b[0m\u001b[1;33m\u001b[0m\u001b[0m\n\u001b[1;32m--> 475\u001b[1;33m         \u001b[1;32mreturn\u001b[0m \u001b[0m_get_cdn_urls\u001b[0m\u001b[1;33m(\u001b[0m\u001b[0mself\u001b[0m\u001b[1;33m.\u001b[0m\u001b[0mversion\u001b[0m\u001b[1;33m,\u001b[0m \u001b[0mself\u001b[0m\u001b[1;33m.\u001b[0m\u001b[0mminified\u001b[0m\u001b[1;33m)\u001b[0m\u001b[1;33m\u001b[0m\u001b[1;33m\u001b[0m\u001b[0m\n\u001b[0m\u001b[0;32m    476\u001b[0m \u001b[1;33m\u001b[0m\u001b[0m\n\u001b[0;32m    477\u001b[0m     \u001b[1;32mdef\u001b[0m \u001b[0m_server_urls\u001b[0m\u001b[1;33m(\u001b[0m\u001b[0mself\u001b[0m\u001b[1;33m)\u001b[0m \u001b[1;33m->\u001b[0m \u001b[0mUrls\u001b[0m\u001b[1;33m:\u001b[0m\u001b[1;33m\u001b[0m\u001b[1;33m\u001b[0m\u001b[0m\n",
      "\u001b[1;32m~\\anaconda3\\lib\\site-packages\\bokeh\\resources.py\u001b[0m in \u001b[0;36m_get_cdn_urls\u001b[1;34m(version, minified)\u001b[0m\n\u001b[0;32m    615\u001b[0m     \u001b[1;32mif\u001b[0m \u001b[0mversion\u001b[0m \u001b[1;32mis\u001b[0m \u001b[1;32mNone\u001b[0m\u001b[1;33m:\u001b[0m\u001b[1;33m\u001b[0m\u001b[1;33m\u001b[0m\u001b[0m\n\u001b[0;32m    616\u001b[0m         \u001b[0mdocs_cdn\u001b[0m \u001b[1;33m=\u001b[0m \u001b[0msettings\u001b[0m\u001b[1;33m.\u001b[0m\u001b[0mdocs_cdn\u001b[0m\u001b[1;33m(\u001b[0m\u001b[1;33m)\u001b[0m\u001b[1;33m\u001b[0m\u001b[1;33m\u001b[0m\u001b[0m\n\u001b[1;32m--> 617\u001b[1;33m         \u001b[0mversion\u001b[0m \u001b[1;33m=\u001b[0m \u001b[0mdocs_cdn\u001b[0m \u001b[1;32mif\u001b[0m \u001b[0mdocs_cdn\u001b[0m \u001b[1;32melse\u001b[0m \u001b[0m__version__\u001b[0m\u001b[1;33m.\u001b[0m\u001b[0msplit\u001b[0m\u001b[1;33m(\u001b[0m\u001b[1;34m\"+\"\u001b[0m\u001b[1;33m)\u001b[0m\u001b[1;33m[\u001b[0m\u001b[1;36m0\u001b[0m\u001b[1;33m]\u001b[0m\u001b[1;33m\u001b[0m\u001b[1;33m\u001b[0m\u001b[0m\n\u001b[0m\u001b[0;32m    618\u001b[0m \u001b[1;33m\u001b[0m\u001b[0m\n\u001b[0;32m    619\u001b[0m     \u001b[0mbase_url\u001b[0m \u001b[1;33m=\u001b[0m \u001b[0m_cdn_base_url\u001b[0m\u001b[1;33m(\u001b[0m\u001b[1;33m)\u001b[0m\u001b[1;33m\u001b[0m\u001b[1;33m\u001b[0m\u001b[0m\n",
      "\u001b[1;31mAttributeError\u001b[0m: 'NoneType' object has no attribute 'split'"
     ]
    }
   ],
   "source": [
    "#https://panel.holoviz.org/reference/panes/Vega.html\n",
    "import warnings\n",
    "warnings.filterwarnings('ignore')\n",
    "\n",
    "import pandas as pd \n",
    "import panel as pn\n",
    "pn.extension('vega')\n",
    "\n",
    "import altair as alt\n",
    "from vega_datasets import data"
   ]
  },
  {
   "cell_type": "code",
   "execution_count": 2,
   "id": "6eaac45d",
   "metadata": {
    "ExecuteTime": {
     "end_time": "2023-10-06T16:28:16.994099Z",
     "start_time": "2023-10-06T16:28:16.984097Z"
    }
   },
   "outputs": [],
   "source": [
    "vegalite = {\n",
    "  \"$schema\": \"https://vega.github.io/schema/vega-lite/v5.json\",\n",
    "  \"data\": {\"url\": \"https://raw.githubusercontent.com/vega/vega/master/docs/data/barley.json\"},\n",
    "  \"mark\": \"bar\",\n",
    "  \"encoding\": {\n",
    "    \"x\": {\"aggregate\": \"sum\", \"field\": \"yield\", \"type\": \"quantitative\"},\n",
    "    \"y\": {\"field\": \"variety\", \"type\": \"nominal\"},\n",
    "    \"color\": {\"field\": \"site\", \"type\": \"nominal\"}\n",
    "  }\n",
    "}"
   ]
  },
  {
   "cell_type": "code",
   "execution_count": 3,
   "id": "e574cea7",
   "metadata": {
    "ExecuteTime": {
     "end_time": "2023-10-06T16:28:17.025104Z",
     "start_time": "2023-10-06T16:28:17.008101Z"
    }
   },
   "outputs": [
    {
     "data": {
      "text/plain": [
       "{'$schema': 'https://vega.github.io/schema/vega-lite/v5.json',\n",
       " 'data': {'url': 'https://raw.githubusercontent.com/vega/vega/master/docs/data/barley.json'},\n",
       " 'mark': 'bar',\n",
       " 'encoding': {'x': {'aggregate': 'sum',\n",
       "   'field': 'yield',\n",
       "   'type': 'quantitative'},\n",
       "  'y': {'field': 'variety', 'type': 'nominal'},\n",
       "  'color': {'field': 'site', 'type': 'nominal'}}}"
      ]
     },
     "execution_count": 3,
     "metadata": {},
     "output_type": "execute_result"
    }
   ],
   "source": [
    "vegalite"
   ]
  },
  {
   "cell_type": "code",
   "execution_count": 4,
   "id": "b16d3212",
   "metadata": {
    "ExecuteTime": {
     "end_time": "2023-10-06T16:28:17.087124Z",
     "start_time": "2023-10-06T16:28:17.032105Z"
    }
   },
   "outputs": [
    {
     "data": {},
     "metadata": {},
     "output_type": "display_data"
    },
    {
     "data": {
      "application/vnd.holoviews_exec.v0+json": "",
      "text/html": [
       "<div id='1002'>\n",
       "  <div class=\"bk-root\" id=\"3141d529-ec0b-483c-86c7-31fd1846c1fe\" data-root-id=\"1002\"></div>\n",
       "</div>\n",
       "<script type=\"application/javascript\">(function(root) {\n",
       "  function embed_document(root) {\n",
       "    var docs_json = {\"669f48fb-40c3-4df1-8b4b-12b7884055df\":{\"defs\":[{\"extends\":null,\"module\":null,\"name\":\"ReactiveHTML1\",\"overrides\":[],\"properties\":[]},{\"extends\":null,\"module\":null,\"name\":\"FlexBox1\",\"overrides\":[],\"properties\":[{\"default\":\"flex-start\",\"kind\":null,\"name\":\"align_content\"},{\"default\":\"flex-start\",\"kind\":null,\"name\":\"align_items\"},{\"default\":\"row\",\"kind\":null,\"name\":\"flex_direction\"},{\"default\":\"wrap\",\"kind\":null,\"name\":\"flex_wrap\"},{\"default\":\"flex-start\",\"kind\":null,\"name\":\"justify_content\"}]},{\"extends\":null,\"module\":null,\"name\":\"GridStack1\",\"overrides\":[],\"properties\":[{\"default\":\"warn\",\"kind\":null,\"name\":\"mode\"},{\"default\":null,\"kind\":null,\"name\":\"ncols\"},{\"default\":null,\"kind\":null,\"name\":\"nrows\"},{\"default\":true,\"kind\":null,\"name\":\"allow_resize\"},{\"default\":true,\"kind\":null,\"name\":\"allow_drag\"},{\"default\":[],\"kind\":null,\"name\":\"state\"}]},{\"extends\":null,\"module\":null,\"name\":\"click1\",\"overrides\":[],\"properties\":[{\"default\":\"\",\"kind\":null,\"name\":\"terminal_output\"},{\"default\":\"\",\"kind\":null,\"name\":\"debug_name\"},{\"default\":0,\"kind\":null,\"name\":\"clears\"}]},{\"extends\":null,\"module\":null,\"name\":\"NotificationAreaBase1\",\"overrides\":[],\"properties\":[{\"default\":\"bottom-right\",\"kind\":null,\"name\":\"position\"},{\"default\":0,\"kind\":null,\"name\":\"_clear\"}]},{\"extends\":null,\"module\":null,\"name\":\"NotificationArea1\",\"overrides\":[],\"properties\":[{\"default\":[],\"kind\":null,\"name\":\"notifications\"},{\"default\":\"bottom-right\",\"kind\":null,\"name\":\"position\"},{\"default\":0,\"kind\":null,\"name\":\"_clear\"},{\"default\":[{\"background\":\"#ffc107\",\"icon\":{\"className\":\"fas fa-exclamation-triangle\",\"color\":\"white\",\"tagName\":\"i\"},\"type\":\"warning\"},{\"background\":\"#007bff\",\"icon\":{\"className\":\"fas fa-info-circle\",\"color\":\"white\",\"tagName\":\"i\"},\"type\":\"info\"}],\"kind\":null,\"name\":\"types\"}]},{\"extends\":null,\"module\":null,\"name\":\"Notification\",\"overrides\":[],\"properties\":[{\"default\":null,\"kind\":null,\"name\":\"background\"},{\"default\":3000,\"kind\":null,\"name\":\"duration\"},{\"default\":null,\"kind\":null,\"name\":\"icon\"},{\"default\":\"\",\"kind\":null,\"name\":\"message\"},{\"default\":null,\"kind\":null,\"name\":\"notification_type\"},{\"default\":false,\"kind\":null,\"name\":\"_destroyed\"}]},{\"extends\":null,\"module\":null,\"name\":\"TemplateActions1\",\"overrides\":[],\"properties\":[{\"default\":0,\"kind\":null,\"name\":\"open_modal\"},{\"default\":0,\"kind\":null,\"name\":\"close_modal\"}]},{\"extends\":null,\"module\":null,\"name\":\"MaterialTemplateActions1\",\"overrides\":[],\"properties\":[{\"default\":0,\"kind\":null,\"name\":\"open_modal\"},{\"default\":0,\"kind\":null,\"name\":\"close_modal\"}]}],\"roots\":{\"references\":[{\"attributes\":{\"reload\":false},\"id\":\"1004\",\"type\":\"panel.models.location.Location\"},{\"attributes\":{\"data\":{\"$schema\":\"https://vega.github.io/schema/vega-lite/v5.json\",\"data\":{\"url\":\"https://raw.githubusercontent.com/vega/vega/master/docs/data/barley.json\"},\"encoding\":{\"color\":{\"field\":\"site\",\"type\":\"nominal\"},\"x\":{\"aggregate\":\"sum\",\"field\":\"yield\",\"type\":\"quantitative\"},\"y\":{\"field\":\"variety\",\"type\":\"nominal\"}},\"mark\":\"bar\"},\"height\":240,\"margin\":[5,5,30,5],\"min_height\":240,\"subscribed_events\":[\"vega_event\"]},\"id\":\"1002\",\"type\":\"panel.models.vega.VegaPlot\"},{\"attributes\":{\"client_comm_id\":\"7a990734443d4f3c9e2639ab40b733d8\",\"comm_id\":\"8a9cc53b5c904d418d274050f89af912\",\"plot_id\":\"1002\"},\"id\":\"1003\",\"type\":\"panel.models.comm_manager.CommManager\"}],\"root_ids\":[\"1002\",\"1003\",\"1004\"]},\"title\":\"Bokeh Application\",\"version\":\"2.4.3\"}};\n",
       "    var render_items = [{\"docid\":\"669f48fb-40c3-4df1-8b4b-12b7884055df\",\"root_ids\":[\"1002\"],\"roots\":{\"1002\":\"3141d529-ec0b-483c-86c7-31fd1846c1fe\"}}];\n",
       "    root.Bokeh.embed.embed_items_notebook(docs_json, render_items);\n",
       "    for (const render_item of render_items) {\n",
       "      for (const root_id of render_item.root_ids) {\n",
       "\tconst id_el = document.getElementById(root_id)\n",
       "\tif (id_el.children.length && (id_el.children[0].className === 'bk-root')) {\n",
       "\t  const root_el = id_el.children[0]\n",
       "\t  root_el.id = root_el.id + '-rendered'\n",
       "\t}\n",
       "      }\n",
       "    }\n",
       "  }\n",
       "  if (root.Bokeh !== undefined && root.Bokeh.Panel !== undefined && ( root['vega'] !== undefined)) {\n",
       "    embed_document(root);\n",
       "  } else {\n",
       "    var attempts = 0;\n",
       "    var timer = setInterval(function(root) {\n",
       "      if (root.Bokeh !== undefined && root.Bokeh.Panel !== undefined && (root['vega'] !== undefined)) {\n",
       "        clearInterval(timer);\n",
       "        embed_document(root);\n",
       "      } else if (document.readyState == \"complete\") {\n",
       "        attempts++;\n",
       "        if (attempts > 200) {\n",
       "          clearInterval(timer);\n",
       "          console.log(\"Bokeh: ERROR: Unable to run BokehJS code because BokehJS library is missing\");\n",
       "        }\n",
       "      }\n",
       "    }, 25, root)\n",
       "  }\n",
       "})(window);</script>"
      ],
      "text/plain": [
       "Vega(dict, height=240, selection=Selection)"
      ]
     },
     "execution_count": 4,
     "metadata": {
      "application/vnd.holoviews_exec.v0+json": {
       "id": "1002"
      }
     },
     "output_type": "execute_result"
    }
   ],
   "source": [
    "vgl_pane = pn.pane.Vega(vegalite, height=240)\n",
    "vgl_pane"
   ]
  },
  {
   "cell_type": "code",
   "execution_count": 5,
   "id": "21ea9b81",
   "metadata": {
    "ExecuteTime": {
     "end_time": "2023-10-06T16:28:17.102626Z",
     "start_time": "2023-10-06T16:28:17.092625Z"
    }
   },
   "outputs": [],
   "source": [
    "vegalite['mark'] = 'area'\n",
    "vgl_pane.param.trigger('object')"
   ]
  },
  {
   "cell_type": "code",
   "execution_count": 6,
   "id": "1855e0dc",
   "metadata": {
    "ExecuteTime": {
     "end_time": "2023-10-06T16:28:17.133633Z",
     "start_time": "2023-10-06T16:28:17.114129Z"
    }
   },
   "outputs": [],
   "source": [
    "vgl_pane.object = {\n",
    "  \"$schema\": \"https://vega.github.io/schema/vega-lite/v5.json\",\n",
    "  \"data\": {\n",
    "    \"url\": \"https://raw.githubusercontent.com/vega/vega/master/docs/data/disasters.csv\"\n",
    "  },\n",
    "  \"width\": 600,\n",
    "  \"height\": 400,\n",
    "  \"transform\": [\n",
    "    {\"filter\": \"datum.Entity !== 'All natural disasters'\"}\n",
    "  ],\n",
    "  \"mark\": {\n",
    "    \"type\": \"circle\",\n",
    "    \"opacity\": 0.8,\n",
    "    \"stroke\": \"black\",\n",
    "    \"strokeWidth\": 1\n",
    "  },\n",
    "  \"encoding\": {\n",
    "    \"x\": {\n",
    "        \"field\": \"Year\",\n",
    "        \"type\": \"quantitative\",\n",
    "        \"axis\": {\"labelAngle\": 90},\n",
    "        \"scale\": {\"zero\": False}\n",
    "    },\n",
    "    \"y\": {\n",
    "        \"field\": \"Entity\",\n",
    "        \"type\": \"nominal\",\n",
    "        \"axis\": {\"title\": \"\"}\n",
    "    },\n",
    "    \"size\": {\n",
    "      \"field\": \"Deaths\",\n",
    "      \"type\": \"quantitative\",\n",
    "      \"legend\": {\"title\": \"Annual Global Deaths\", \"clipHeight\": 30},\n",
    "      \"scale\": {\"range\": [0, 5000]}\n",
    "    },\n",
    "    \"color\": {\"field\": \"Entity\", \"type\": \"nominal\", \"legend\": None}\n",
    "  }\n",
    "}"
   ]
  },
  {
   "cell_type": "code",
   "execution_count": 7,
   "id": "0b7d20c3",
   "metadata": {
    "ExecuteTime": {
     "end_time": "2023-10-06T16:28:17.164650Z",
     "start_time": "2023-10-06T16:28:17.139133Z"
    }
   },
   "outputs": [
    {
     "data": {},
     "metadata": {},
     "output_type": "display_data"
    },
    {
     "data": {
      "application/vnd.holoviews_exec.v0+json": "",
      "text/html": [
       "<div id='1007'>\n",
       "  <div class=\"bk-root\" id=\"a4d91b32-3132-4999-8be2-eeb0e508ce7e\" data-root-id=\"1007\"></div>\n",
       "</div>\n",
       "<script type=\"application/javascript\">(function(root) {\n",
       "  function embed_document(root) {\n",
       "    var docs_json = {\"0b6fd957-1a7e-4c66-87e6-e2315783f44b\":{\"defs\":[{\"extends\":null,\"module\":null,\"name\":\"ReactiveHTML1\",\"overrides\":[],\"properties\":[]},{\"extends\":null,\"module\":null,\"name\":\"FlexBox1\",\"overrides\":[],\"properties\":[{\"default\":\"flex-start\",\"kind\":null,\"name\":\"align_content\"},{\"default\":\"flex-start\",\"kind\":null,\"name\":\"align_items\"},{\"default\":\"row\",\"kind\":null,\"name\":\"flex_direction\"},{\"default\":\"wrap\",\"kind\":null,\"name\":\"flex_wrap\"},{\"default\":\"flex-start\",\"kind\":null,\"name\":\"justify_content\"}]},{\"extends\":null,\"module\":null,\"name\":\"GridStack1\",\"overrides\":[],\"properties\":[{\"default\":\"warn\",\"kind\":null,\"name\":\"mode\"},{\"default\":null,\"kind\":null,\"name\":\"ncols\"},{\"default\":null,\"kind\":null,\"name\":\"nrows\"},{\"default\":true,\"kind\":null,\"name\":\"allow_resize\"},{\"default\":true,\"kind\":null,\"name\":\"allow_drag\"},{\"default\":[],\"kind\":null,\"name\":\"state\"}]},{\"extends\":null,\"module\":null,\"name\":\"click1\",\"overrides\":[],\"properties\":[{\"default\":\"\",\"kind\":null,\"name\":\"terminal_output\"},{\"default\":\"\",\"kind\":null,\"name\":\"debug_name\"},{\"default\":0,\"kind\":null,\"name\":\"clears\"}]},{\"extends\":null,\"module\":null,\"name\":\"NotificationAreaBase1\",\"overrides\":[],\"properties\":[{\"default\":\"bottom-right\",\"kind\":null,\"name\":\"position\"},{\"default\":0,\"kind\":null,\"name\":\"_clear\"}]},{\"extends\":null,\"module\":null,\"name\":\"NotificationArea1\",\"overrides\":[],\"properties\":[{\"default\":[],\"kind\":null,\"name\":\"notifications\"},{\"default\":\"bottom-right\",\"kind\":null,\"name\":\"position\"},{\"default\":0,\"kind\":null,\"name\":\"_clear\"},{\"default\":[{\"background\":\"#ffc107\",\"icon\":{\"className\":\"fas fa-exclamation-triangle\",\"color\":\"white\",\"tagName\":\"i\"},\"type\":\"warning\"},{\"background\":\"#007bff\",\"icon\":{\"className\":\"fas fa-info-circle\",\"color\":\"white\",\"tagName\":\"i\"},\"type\":\"info\"}],\"kind\":null,\"name\":\"types\"}]},{\"extends\":null,\"module\":null,\"name\":\"Notification\",\"overrides\":[],\"properties\":[{\"default\":null,\"kind\":null,\"name\":\"background\"},{\"default\":3000,\"kind\":null,\"name\":\"duration\"},{\"default\":null,\"kind\":null,\"name\":\"icon\"},{\"default\":\"\",\"kind\":null,\"name\":\"message\"},{\"default\":null,\"kind\":null,\"name\":\"notification_type\"},{\"default\":false,\"kind\":null,\"name\":\"_destroyed\"}]},{\"extends\":null,\"module\":null,\"name\":\"TemplateActions1\",\"overrides\":[],\"properties\":[{\"default\":0,\"kind\":null,\"name\":\"open_modal\"},{\"default\":0,\"kind\":null,\"name\":\"close_modal\"}]},{\"extends\":null,\"module\":null,\"name\":\"MaterialTemplateActions1\",\"overrides\":[],\"properties\":[{\"default\":0,\"kind\":null,\"name\":\"open_modal\"},{\"default\":0,\"kind\":null,\"name\":\"close_modal\"}]}],\"roots\":{\"references\":[{\"attributes\":{\"data\":{\"$schema\":\"https://vega.github.io/schema/vega-lite/v5.json\",\"data\":{\"url\":\"https://raw.githubusercontent.com/vega/vega/master/docs/data/disasters.csv\"},\"encoding\":{\"color\":{\"field\":\"Entity\",\"legend\":null,\"type\":\"nominal\"},\"size\":{\"field\":\"Deaths\",\"legend\":{\"clipHeight\":30,\"title\":\"Annual Global Deaths\"},\"scale\":{\"range\":[0,5000]},\"type\":\"quantitative\"},\"x\":{\"axis\":{\"labelAngle\":90},\"field\":\"Year\",\"scale\":{\"zero\":false},\"type\":\"quantitative\"},\"y\":{\"axis\":{\"title\":\"\"},\"field\":\"Entity\",\"type\":\"nominal\"}},\"height\":400,\"mark\":{\"opacity\":0.8,\"stroke\":\"black\",\"strokeWidth\":1,\"type\":\"circle\"},\"transform\":[{\"filter\":\"datum.Entity !== 'All natural disasters'\"}],\"width\":\"container\"},\"height\":422,\"margin\":[5,5,30,5],\"sizing_mode\":\"stretch_width\",\"subscribed_events\":[\"vega_event\"]},\"id\":\"1007\",\"type\":\"panel.models.vega.VegaPlot\"},{\"attributes\":{\"client_comm_id\":\"d46ec319138a4046a68699f361f2887f\",\"comm_id\":\"5be863e349df49fc96dff7da39634a26\",\"plot_id\":\"1007\"},\"id\":\"1008\",\"type\":\"panel.models.comm_manager.CommManager\"}],\"root_ids\":[\"1007\",\"1008\"]},\"title\":\"Bokeh Application\",\"version\":\"2.4.3\"}};\n",
       "    var render_items = [{\"docid\":\"0b6fd957-1a7e-4c66-87e6-e2315783f44b\",\"root_ids\":[\"1007\"],\"roots\":{\"1007\":\"a4d91b32-3132-4999-8be2-eeb0e508ce7e\"}}];\n",
       "    root.Bokeh.embed.embed_items_notebook(docs_json, render_items);\n",
       "    for (const render_item of render_items) {\n",
       "      for (const root_id of render_item.root_ids) {\n",
       "\tconst id_el = document.getElementById(root_id)\n",
       "\tif (id_el.children.length && (id_el.children[0].className === 'bk-root')) {\n",
       "\t  const root_el = id_el.children[0]\n",
       "\t  root_el.id = root_el.id + '-rendered'\n",
       "\t}\n",
       "      }\n",
       "    }\n",
       "  }\n",
       "  if (root.Bokeh !== undefined && root.Bokeh.Panel !== undefined && ( root['vega'] !== undefined)) {\n",
       "    embed_document(root);\n",
       "  } else {\n",
       "    var attempts = 0;\n",
       "    var timer = setInterval(function(root) {\n",
       "      if (root.Bokeh !== undefined && root.Bokeh.Panel !== undefined && (root['vega'] !== undefined)) {\n",
       "        clearInterval(timer);\n",
       "        embed_document(root);\n",
       "      } else if (document.readyState == \"complete\") {\n",
       "        attempts++;\n",
       "        if (attempts > 200) {\n",
       "          clearInterval(timer);\n",
       "          console.log(\"Bokeh: ERROR: Unable to run BokehJS code because BokehJS library is missing\");\n",
       "        }\n",
       "      }\n",
       "    }, 25, root)\n",
       "  }\n",
       "})(window);</script>"
      ],
      "text/plain": [
       "Vega(dict, selection=Selection)"
      ]
     },
     "execution_count": 7,
     "metadata": {
      "application/vnd.holoviews_exec.v0+json": {
       "id": "1007"
      }
     },
     "output_type": "execute_result"
    }
   ],
   "source": [
    "responsive_spec = dict(vgl_pane.object, width='container')\n",
    "\n",
    "vgl_responsive_pane = pn.pane.Vega(responsive_spec)\n",
    "vgl_responsive_pane"
   ]
  },
  {
   "cell_type": "code",
   "execution_count": 8,
   "id": "485e9467",
   "metadata": {
    "ExecuteTime": {
     "end_time": "2023-10-06T16:28:17.552238Z",
     "start_time": "2023-10-06T16:28:17.173652Z"
    }
   },
   "outputs": [
    {
     "data": {},
     "metadata": {},
     "output_type": "display_data"
    },
    {
     "data": {
      "application/vnd.holoviews_exec.v0+json": "",
      "text/html": [
       "<div id='1010'>\n",
       "  <div class=\"bk-root\" id=\"f6e20cc8-8bf2-4423-829a-43184127876a\" data-root-id=\"1010\"></div>\n",
       "</div>\n",
       "<script type=\"application/javascript\">(function(root) {\n",
       "  function embed_document(root) {\n",
       "    var docs_json = {\"f5d5ab52-87bc-4964-a4e5-a6eb41892959\":{\"defs\":[{\"extends\":null,\"module\":null,\"name\":\"ReactiveHTML1\",\"overrides\":[],\"properties\":[]},{\"extends\":null,\"module\":null,\"name\":\"FlexBox1\",\"overrides\":[],\"properties\":[{\"default\":\"flex-start\",\"kind\":null,\"name\":\"align_content\"},{\"default\":\"flex-start\",\"kind\":null,\"name\":\"align_items\"},{\"default\":\"row\",\"kind\":null,\"name\":\"flex_direction\"},{\"default\":\"wrap\",\"kind\":null,\"name\":\"flex_wrap\"},{\"default\":\"flex-start\",\"kind\":null,\"name\":\"justify_content\"}]},{\"extends\":null,\"module\":null,\"name\":\"GridStack1\",\"overrides\":[],\"properties\":[{\"default\":\"warn\",\"kind\":null,\"name\":\"mode\"},{\"default\":null,\"kind\":null,\"name\":\"ncols\"},{\"default\":null,\"kind\":null,\"name\":\"nrows\"},{\"default\":true,\"kind\":null,\"name\":\"allow_resize\"},{\"default\":true,\"kind\":null,\"name\":\"allow_drag\"},{\"default\":[],\"kind\":null,\"name\":\"state\"}]},{\"extends\":null,\"module\":null,\"name\":\"click1\",\"overrides\":[],\"properties\":[{\"default\":\"\",\"kind\":null,\"name\":\"terminal_output\"},{\"default\":\"\",\"kind\":null,\"name\":\"debug_name\"},{\"default\":0,\"kind\":null,\"name\":\"clears\"}]},{\"extends\":null,\"module\":null,\"name\":\"NotificationAreaBase1\",\"overrides\":[],\"properties\":[{\"default\":\"bottom-right\",\"kind\":null,\"name\":\"position\"},{\"default\":0,\"kind\":null,\"name\":\"_clear\"}]},{\"extends\":null,\"module\":null,\"name\":\"NotificationArea1\",\"overrides\":[],\"properties\":[{\"default\":[],\"kind\":null,\"name\":\"notifications\"},{\"default\":\"bottom-right\",\"kind\":null,\"name\":\"position\"},{\"default\":0,\"kind\":null,\"name\":\"_clear\"},{\"default\":[{\"background\":\"#ffc107\",\"icon\":{\"className\":\"fas fa-exclamation-triangle\",\"color\":\"white\",\"tagName\":\"i\"},\"type\":\"warning\"},{\"background\":\"#007bff\",\"icon\":{\"className\":\"fas fa-info-circle\",\"color\":\"white\",\"tagName\":\"i\"},\"type\":\"info\"}],\"kind\":null,\"name\":\"types\"}]},{\"extends\":null,\"module\":null,\"name\":\"Notification\",\"overrides\":[],\"properties\":[{\"default\":null,\"kind\":null,\"name\":\"background\"},{\"default\":3000,\"kind\":null,\"name\":\"duration\"},{\"default\":null,\"kind\":null,\"name\":\"icon\"},{\"default\":\"\",\"kind\":null,\"name\":\"message\"},{\"default\":null,\"kind\":null,\"name\":\"notification_type\"},{\"default\":false,\"kind\":null,\"name\":\"_destroyed\"}]},{\"extends\":null,\"module\":null,\"name\":\"TemplateActions1\",\"overrides\":[],\"properties\":[{\"default\":0,\"kind\":null,\"name\":\"open_modal\"},{\"default\":0,\"kind\":null,\"name\":\"close_modal\"}]},{\"extends\":null,\"module\":null,\"name\":\"MaterialTemplateActions1\",\"overrides\":[],\"properties\":[{\"default\":0,\"kind\":null,\"name\":\"open_modal\"},{\"default\":0,\"kind\":null,\"name\":\"close_modal\"}]}],\"roots\":{\"references\":[{\"attributes\":{\"data\":{\"$schema\":\"https://vega.github.io/schema/vega-lite/v5.15.1.json\",\"config\":{\"view\":{\"continuousHeight\":300,\"continuousWidth\":300}},\"data\":{\"name\":\"data-f02450ab61490a1363517a0190416235\"},\"datasets\":{},\"encoding\":{\"color\":{\"field\":\"Origin\",\"type\":\"nominal\"},\"tooltip\":[{\"field\":\"Name\",\"type\":\"nominal\"},{\"field\":\"Origin\",\"type\":\"nominal\"},{\"field\":\"Horsepower\",\"type\":\"quantitative\"},{\"field\":\"Miles_per_Gallon\",\"type\":\"quantitative\"}],\"x\":{\"field\":\"Horsepower\",\"type\":\"quantitative\"},\"y\":{\"field\":\"Miles_per_Gallon\",\"type\":\"quantitative\"}},\"mark\":{\"size\":60,\"type\":\"circle\"},\"params\":[{\"bind\":\"scales\",\"name\":\"param_1\",\"select\":{\"encodings\":[\"x\",\"y\"],\"type\":\"interval\"}}]},\"data_sources\":{\"data-f02450ab61490a1363517a0190416235\":{\"id\":\"1009\"}},\"events\":[\"param_1\"],\"height\":322,\"margin\":[5,5,30,5],\"subscribed_events\":[\"vega_event\"],\"throttle\":{\"param_1\":20},\"width\":322},\"id\":\"1010\",\"type\":\"panel.models.vega.VegaPlot\"},{\"attributes\":{},\"id\":\"1012\",\"type\":\"Selection\"},{\"attributes\":{\"data\":{\"Acceleration\":{\"__ndarray__\":\"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\",\"dtype\":\"float64\",\"order\":\"little\",\"shape\":[406]},\"Cylinders\":[8,8,8,8,8,8,8,8,8,8,4,8,8,8,8,8,8,8,8,8,4,6,6,6,4,4,4,4,4,4,6,8,8,8,8,4,4,4,4,4,6,6,6,6,6,8,8,8,8,8,8,8,6,4,6,6,4,4,4,4,4,4,4,4,4,4,4,4,4,8,8,8,8,8,8,8,8,8,3,8,8,8,8,4,4,4,4,4,4,4,4,4,8,8,8,8,8,8,8,8,8,8,8,8,6,6,6,6,6,4,8,8,8,8,6,4,4,4,3,4,6,4,8,8,4,4,4,4,8,4,6,8,6,6,6,6,4,4,4,4,6,6,6,8,8,8,8,8,4,4,4,4,4,4,4,4,4,4,4,6,6,6,6,8,8,8,8,6,6,6,6,6,8,8,4,4,6,4,4,4,4,6,4,6,4,4,4,4,4,4,4,4,4,4,8,8,8,8,6,6,6,6,4,4,4,4,6,6,6,6,4,4,4,4,4,8,4,6,6,8,8,8,8,4,4,4,4,4,8,8,8,8,6,6,6,6,8,8,8,8,4,4,4,4,4,4,4,4,6,4,3,4,4,4,4,4,8,8,8,6,6,6,4,6,6,6,6,6,6,8,6,8,8,4,4,4,4,4,4,4,4,5,6,4,6,4,4,6,6,4,6,6,8,8,8,8,8,8,8,8,4,4,4,4,5,8,4,8,4,4,4,4,4,6,6,4,4,4,4,4,4,4,4,6,4,4,4,4,4,4,4,4,4,4,5,4,4,4,4,4,6,3,4,4,4,4,4,4,6,4,4,4,4,4,4,4,4,4,4,4,4,4,4,4,4,4,4,4,6,6,6,6,8,6,6,4,4,4,4,4,4,4,4,4,4,4,4,4,4,4,4,4,4,4,6,6,4,6,4,4,4,4,4,4,4,4],\"Displacement\":{\"__ndarray__\":\"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\",\"dtype\":\"float64\",\"order\":\"little\",\"shape\":[406]},\"Horsepower\":{\"__ndarray__\":\"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\",\"dtype\":\"float64\",\"order\":\"little\",\"shape\":[406]},\"Miles_per_Gallon\":{\"__ndarray__\":\"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\",\"dtype\":\"float64\",\"order\":\"little\",\"shape\":[406]},\"Name\":[\"chevrolet chevelle malibu\",\"buick skylark 320\",\"plymouth satellite\",\"amc rebel sst\",\"ford torino\",\"ford galaxie 500\",\"chevrolet impala\",\"plymouth fury iii\",\"pontiac catalina\",\"amc ambassador dpl\",\"citroen ds-21 pallas\",\"chevrolet chevelle concours (sw)\",\"ford torino (sw)\",\"plymouth satellite (sw)\",\"amc rebel sst (sw)\",\"dodge challenger se\",\"plymouth 'cuda 340\",\"ford mustang boss 302\",\"chevrolet monte carlo\",\"buick estate wagon (sw)\",\"toyota corona mark ii\",\"plymouth duster\",\"amc hornet\",\"ford maverick\",\"datsun pl510\",\"volkswagen 1131 deluxe sedan\",\"peugeot 504\",\"audi 100 ls\",\"saab 99e\",\"bmw 2002\",\"amc gremlin\",\"ford f250\",\"chevy c20\",\"dodge d200\",\"hi 1200d\",\"datsun pl510\",\"chevrolet vega 2300\",\"toyota corona\",\"ford pinto\",\"volkswagen super beetle 117\",\"amc gremlin\",\"plymouth satellite custom\",\"chevrolet chevelle malibu\",\"ford torino 500\",\"amc matador\",\"chevrolet impala\",\"pontiac catalina brougham\",\"ford galaxie 500\",\"plymouth fury iii\",\"dodge monaco (sw)\",\"ford country squire (sw)\",\"pontiac safari (sw)\",\"amc hornet sportabout (sw)\",\"chevrolet vega (sw)\",\"pontiac firebird\",\"ford mustang\",\"mercury capri 2000\",\"opel 1900\",\"peugeot 304\",\"fiat 124b\",\"toyota corolla 1200\",\"datsun 1200\",\"volkswagen model 111\",\"plymouth cricket\",\"toyota corona hardtop\",\"dodge colt hardtop\",\"volkswagen type 3\",\"chevrolet vega\",\"ford pinto runabout\",\"chevrolet impala\",\"pontiac catalina\",\"plymouth fury iii\",\"ford galaxie 500\",\"amc ambassador sst\",\"mercury marquis\",\"buick lesabre custom\",\"oldsmobile delta 88 royale\",\"chrysler newport royal\",\"mazda rx2 coupe\",\"amc matador (sw)\",\"chevrolet chevelle concours (sw)\",\"ford gran torino (sw)\",\"plymouth satellite custom (sw)\",\"volvo 145e (sw)\",\"volkswagen 411 (sw)\",\"peugeot 504 (sw)\",\"renault 12 (sw)\",\"ford pinto (sw)\",\"datsun 510 (sw)\",\"toyouta corona mark ii (sw)\",\"dodge colt (sw)\",\"toyota corolla 1600 (sw)\",\"buick century 350\",\"amc matador\",\"chevrolet malibu\",\"ford gran torino\",\"dodge coronet custom\",\"mercury marquis brougham\",\"chevrolet caprice classic\",\"ford ltd\",\"plymouth fury gran sedan\",\"chrysler new yorker brougham\",\"buick electra 225 custom\",\"amc ambassador brougham\",\"plymouth valiant\",\"chevrolet nova custom\",\"amc hornet\",\"ford maverick\",\"plymouth duster\",\"volkswagen super beetle\",\"chevrolet impala\",\"ford country\",\"plymouth custom suburb\",\"oldsmobile vista cruiser\",\"amc gremlin\",\"toyota carina\",\"chevrolet vega\",\"datsun 610\",\"maxda rx3\",\"ford pinto\",\"mercury capri v6\",\"fiat 124 sport coupe\",\"chevrolet monte carlo s\",\"pontiac grand prix\",\"fiat 128\",\"opel manta\",\"audi 100ls\",\"volvo 144ea\",\"dodge dart custom\",\"saab 99le\",\"toyota mark ii\",\"oldsmobile omega\",\"plymouth duster\",\"ford maverick\",\"amc hornet\",\"chevrolet nova\",\"datsun b210\",\"ford pinto\",\"toyota corolla 1200\",\"chevrolet vega\",\"chevrolet chevelle malibu classic\",\"amc matador\",\"plymouth satellite sebring\",\"ford gran torino\",\"buick century luxus (sw)\",\"dodge coronet custom (sw)\",\"ford gran torino (sw)\",\"amc matador (sw)\",\"audi fox\",\"volkswagen dasher\",\"opel manta\",\"toyota corona\",\"datsun 710\",\"dodge colt\",\"fiat 128\",\"fiat 124 tc\",\"honda civic\",\"subaru\",\"fiat x1.9\",\"plymouth valiant custom\",\"chevrolet nova\",\"mercury monarch\",\"ford maverick\",\"pontiac catalina\",\"chevrolet bel air\",\"plymouth grand fury\",\"ford ltd\",\"buick century\",\"chevroelt chevelle malibu\",\"amc matador\",\"plymouth fury\",\"buick skyhawk\",\"chevrolet monza 2+2\",\"ford mustang ii\",\"toyota corolla\",\"ford pinto\",\"amc gremlin\",\"pontiac astro\",\"toyota corona\",\"volkswagen dasher\",\"datsun 710\",\"ford pinto\",\"volkswagen rabbit\",\"amc pacer\",\"audi 100ls\",\"peugeot 504\",\"volvo 244dl\",\"saab 99le\",\"honda civic cvcc\",\"fiat 131\",\"opel 1900\",\"capri ii\",\"dodge colt\",\"renault 12tl\",\"chevrolet chevelle malibu classic\",\"dodge coronet brougham\",\"amc matador\",\"ford gran torino\",\"plymouth valiant\",\"chevrolet nova\",\"ford maverick\",\"amc hornet\",\"chevrolet chevette\",\"chevrolet woody\",\"vw rabbit\",\"honda civic\",\"dodge aspen se\",\"ford granada ghia\",\"pontiac ventura sj\",\"amc pacer d/l\",\"volkswagen rabbit\",\"datsun b-210\",\"toyota corolla\",\"ford pinto\",\"volvo 245\",\"plymouth volare premier v8\",\"peugeot 504\",\"toyota mark ii\",\"mercedes-benz 280s\",\"cadillac seville\",\"chevy c10\",\"ford f108\",\"dodge d100\",\"honda Accelerationord cvcc\",\"buick opel isuzu deluxe\",\"renault 5 gtl\",\"plymouth arrow gs\",\"datsun f-10 hatchback\",\"chevrolet caprice classic\",\"oldsmobile cutlass supreme\",\"dodge monaco brougham\",\"mercury cougar brougham\",\"chevrolet concours\",\"buick skylark\",\"plymouth volare custom\",\"ford granada\",\"pontiac grand prix lj\",\"chevrolet monte carlo landau\",\"chrysler cordoba\",\"ford thunderbird\",\"volkswagen rabbit custom\",\"pontiac sunbird coupe\",\"toyota corolla liftback\",\"ford mustang ii 2+2\",\"chevrolet chevette\",\"dodge colt m/m\",\"subaru dl\",\"volkswagen dasher\",\"datsun 810\",\"bmw 320i\",\"mazda rx-4\",\"volkswagen rabbit custom diesel\",\"ford fiesta\",\"mazda glc deluxe\",\"datsun b210 gx\",\"honda civic cvcc\",\"oldsmobile cutlass salon brougham\",\"dodge diplomat\",\"mercury monarch ghia\",\"pontiac phoenix lj\",\"chevrolet malibu\",\"ford fairmont (auto)\",\"ford fairmont (man)\",\"plymouth volare\",\"amc concord\",\"buick century special\",\"mercury zephyr\",\"dodge aspen\",\"amc concord d/l\",\"chevrolet monte carlo landau\",\"buick regal sport coupe (turbo)\",\"ford futura\",\"dodge magnum xe\",\"chevrolet chevette\",\"toyota corona\",\"datsun 510\",\"dodge omni\",\"toyota celica gt liftback\",\"plymouth sapporo\",\"oldsmobile starfire sx\",\"datsun 200-sx\",\"audi 5000\",\"volvo 264gl\",\"saab 99gle\",\"peugeot 604sl\",\"volkswagen scirocco\",\"honda Accelerationord lx\",\"pontiac lemans v6\",\"mercury zephyr 6\",\"ford fairmont 4\",\"amc concord dl 6\",\"dodge aspen 6\",\"chevrolet caprice classic\",\"ford ltd landau\",\"mercury grand marquis\",\"dodge st. regis\",\"buick estate wagon (sw)\",\"ford country squire (sw)\",\"chevrolet malibu classic (sw)\",\"chrysler lebaron town @ country (sw)\",\"vw rabbit custom\",\"maxda glc deluxe\",\"dodge colt hatchback custom\",\"amc spirit dl\",\"mercedes benz 300d\",\"cadillac eldorado\",\"peugeot 504\",\"oldsmobile cutlass salon brougham\",\"plymouth horizon\",\"plymouth horizon tc3\",\"datsun 210\",\"fiat strada custom\",\"buick skylark limited\",\"chevrolet citation\",\"oldsmobile omega brougham\",\"pontiac phoenix\",\"vw rabbit\",\"toyota corolla tercel\",\"chevrolet chevette\",\"datsun 310\",\"chevrolet citation\",\"ford fairmont\",\"amc concord\",\"dodge aspen\",\"audi 4000\",\"toyota corona liftback\",\"mazda 626\",\"datsun 510 hatchback\",\"toyota corolla\",\"mazda glc\",\"dodge colt\",\"datsun 210\",\"vw rabbit c (diesel)\",\"vw dasher (diesel)\",\"audi 5000s (diesel)\",\"mercedes-benz 240d\",\"honda civic 1500 gl\",\"renault lecar deluxe\",\"subaru dl\",\"vokswagen rabbit\",\"datsun 280-zx\",\"mazda rx-7 gs\",\"triumph tr7 coupe\",\"ford mustang cobra\",\"honda Accelerationord\",\"plymouth reliant\",\"buick skylark\",\"dodge aries wagon (sw)\",\"chevrolet citation\",\"plymouth reliant\",\"toyota starlet\",\"plymouth champ\",\"honda civic 1300\",\"subaru\",\"datsun 210\",\"toyota tercel\",\"mazda glc 4\",\"plymouth horizon 4\",\"ford escort 4w\",\"ford escort 2h\",\"volkswagen jetta\",\"renault 18i\",\"honda prelude\",\"toyota corolla\",\"datsun 200sx\",\"mazda 626\",\"peugeot 505s turbo diesel\",\"saab 900s\",\"volvo diesel\",\"toyota cressida\",\"datsun 810 maxima\",\"buick century\",\"oldsmobile cutlass ls\",\"ford granada gl\",\"chrysler lebaron salon\",\"chevrolet cavalier\",\"chevrolet cavalier wagon\",\"chevrolet cavalier 2-door\",\"pontiac j2000 se hatchback\",\"dodge aries se\",\"pontiac phoenix\",\"ford fairmont futura\",\"amc concord dl\",\"volkswagen rabbit l\",\"mazda glc custom l\",\"mazda glc custom\",\"plymouth horizon miser\",\"mercury lynx l\",\"nissan stanza xe\",\"honda Accelerationord\",\"toyota corolla\",\"honda civic\",\"honda civic (auto)\",\"datsun 310 gx\",\"buick century limited\",\"oldsmobile cutlass ciera (diesel)\",\"chrysler lebaron medallion\",\"ford granada l\",\"toyota celica gt\",\"dodge charger 2.2\",\"chevrolet camaro\",\"ford mustang gl\",\"vw pickup\",\"dodge rampage\",\"ford ranger\",\"chevy s-10\"],\"Origin\":[\"USA\",\"USA\",\"USA\",\"USA\",\"USA\",\"USA\",\"USA\",\"USA\",\"USA\",\"USA\",\"Europe\",\"USA\",\"USA\",\"USA\",\"USA\",\"USA\",\"USA\",\"USA\",\"USA\",\"USA\",\"Japan\",\"USA\",\"USA\",\"USA\",\"Japan\",\"Europe\",\"Europe\",\"Europe\",\"Europe\",\"Europe\",\"USA\",\"USA\",\"USA\",\"USA\",\"USA\",\"Japan\",\"USA\",\"Japan\",\"USA\",\"Europe\",\"USA\",\"USA\",\"USA\",\"USA\",\"USA\",\"USA\",\"USA\",\"USA\",\"USA\",\"USA\",\"USA\",\"USA\",\"USA\",\"USA\",\"USA\",\"USA\",\"USA\",\"Europe\",\"Europe\",\"Europe\",\"Japan\",\"Japan\",\"Europe\",\"USA\",\"Japan\",\"USA\",\"Europe\",\"USA\",\"USA\",\"USA\",\"USA\",\"USA\",\"USA\",\"USA\",\"USA\",\"USA\",\"USA\",\"USA\",\"Japan\",\"USA\",\"USA\",\"USA\",\"USA\",\"Europe\",\"Europe\",\"Europe\",\"Europe\",\"USA\",\"Japan\",\"Japan\",\"USA\",\"Japan\",\"USA\",\"USA\",\"USA\",\"USA\",\"USA\",\"USA\",\"USA\",\"USA\",\"USA\",\"USA\",\"USA\",\"USA\",\"USA\",\"USA\",\"USA\",\"USA\",\"USA\",\"Europe\",\"USA\",\"USA\",\"USA\",\"USA\",\"USA\",\"Japan\",\"USA\",\"Japan\",\"Japan\",\"USA\",\"USA\",\"Europe\",\"USA\",\"USA\",\"Europe\",\"Europe\",\"Europe\",\"Europe\",\"USA\",\"Europe\",\"Japan\",\"USA\",\"USA\",\"USA\",\"USA\",\"USA\",\"Japan\",\"USA\",\"Japan\",\"USA\",\"USA\",\"USA\",\"USA\",\"USA\",\"USA\",\"USA\",\"USA\",\"USA\",\"Europe\",\"Europe\",\"Europe\",\"Japan\",\"Japan\",\"USA\",\"Europe\",\"Europe\",\"Japan\",\"Japan\",\"Europe\",\"USA\",\"USA\",\"USA\",\"USA\",\"USA\",\"USA\",\"USA\",\"USA\",\"USA\",\"USA\",\"USA\",\"USA\",\"USA\",\"USA\",\"USA\",\"Japan\",\"USA\",\"USA\",\"USA\",\"Japan\",\"Europe\",\"Japan\",\"USA\",\"Europe\",\"USA\",\"Europe\",\"Europe\",\"Europe\",\"Europe\",\"Japan\",\"Europe\",\"Europe\",\"USA\",\"USA\",\"Europe\",\"USA\",\"USA\",\"USA\",\"USA\",\"USA\",\"USA\",\"USA\",\"USA\",\"USA\",\"USA\",\"Europe\",\"Japan\",\"USA\",\"USA\",\"USA\",\"USA\",\"Europe\",\"Japan\",\"Japan\",\"USA\",\"Europe\",\"USA\",\"Europe\",\"Japan\",\"Europe\",\"USA\",\"USA\",\"USA\",\"USA\",\"Japan\",\"USA\",\"Europe\",\"USA\",\"Japan\",\"USA\",\"USA\",\"USA\",\"USA\",\"USA\",\"USA\",\"USA\",\"USA\",\"USA\",\"USA\",\"USA\",\"USA\",\"Europe\",\"USA\",\"Japan\",\"USA\",\"USA\",\"USA\",\"Japan\",\"Europe\",\"Japan\",\"Europe\",\"Japan\",\"Europe\",\"USA\",\"Japan\",\"Japan\",\"Japan\",\"USA\",\"USA\",\"USA\",\"USA\",\"USA\",\"USA\",\"USA\",\"USA\",\"USA\",\"USA\",\"USA\",\"USA\",\"USA\",\"USA\",\"USA\",\"USA\",\"USA\",\"USA\",\"Japan\",\"Japan\",\"USA\",\"Japan\",\"USA\",\"USA\",\"Japan\",\"Europe\",\"Europe\",\"Europe\",\"Europe\",\"Europe\",\"Japan\",\"USA\",\"USA\",\"USA\",\"USA\",\"USA\",\"USA\",\"USA\",\"USA\",\"USA\",\"USA\",\"USA\",\"USA\",\"USA\",\"Europe\",\"Japan\",\"USA\",\"USA\",\"Europe\",\"USA\",\"Europe\",\"USA\",\"USA\",\"USA\",\"Japan\",\"Europe\",\"USA\",\"USA\",\"USA\",\"USA\",\"Europe\",\"Japan\",\"USA\",\"Japan\",\"USA\",\"USA\",\"USA\",\"USA\",\"Europe\",\"Japan\",\"Japan\",\"Japan\",\"Japan\",\"Japan\",\"USA\",\"Japan\",\"Europe\",\"Europe\",\"Europe\",\"Europe\",\"Japan\",\"Europe\",\"Japan\",\"Europe\",\"Japan\",\"Japan\",\"Europe\",\"USA\",\"Japan\",\"USA\",\"USA\",\"USA\",\"USA\",\"USA\",\"Japan\",\"USA\",\"Japan\",\"Japan\",\"Japan\",\"Japan\",\"Japan\",\"USA\",\"USA\",\"USA\",\"Europe\",\"Europe\",\"Japan\",\"Japan\",\"Japan\",\"Japan\",\"Europe\",\"Europe\",\"Europe\",\"Japan\",\"Japan\",\"USA\",\"USA\",\"USA\",\"USA\",\"USA\",\"USA\",\"USA\",\"USA\",\"USA\",\"USA\",\"USA\",\"USA\",\"Europe\",\"Japan\",\"Japan\",\"USA\",\"USA\",\"Japan\",\"Japan\",\"Japan\",\"Japan\",\"Japan\",\"Japan\",\"USA\",\"USA\",\"USA\",\"USA\",\"Japan\",\"USA\",\"USA\",\"USA\",\"Europe\",\"USA\",\"USA\",\"USA\"],\"Weight_in_lbs\":[3504,3693,3436,3433,3449,4341,4354,4312,4425,3850,3090,4142,4034,4166,3850,3563,3609,3353,3761,3086,2372,2833,2774,2587,2130,1835,2672,2430,2375,2234,2648,4615,4376,4382,4732,2130,2264,2228,2046,1978,2634,3439,3329,3302,3288,4209,4464,4154,4096,4955,4746,5140,2962,2408,3282,3139,2220,2123,2074,2065,1773,1613,1834,1955,2278,2126,2254,2408,2226,4274,4385,4135,4129,3672,4633,4502,4456,4422,2330,3892,4098,4294,4077,2933,2511,2979,2189,2395,2288,2506,2164,2100,4100,3672,3988,4042,3777,4952,4464,4363,4237,4735,4951,3821,3121,3278,2945,3021,2904,1950,4997,4906,4654,4499,2789,2279,2401,2379,2124,2310,2472,2265,4082,4278,1867,2158,2582,2868,3399,2660,2807,3664,3102,2875,2901,3336,1950,2451,1836,2542,3781,3632,3613,4141,4699,4457,4638,4257,2219,1963,2300,1649,2003,2125,2108,2246,2489,2391,2000,3264,3459,3432,3158,4668,4440,4498,4657,3907,3897,3730,3785,3039,3221,3169,2171,2639,2914,2592,2702,2223,2545,2984,1937,3211,2694,2957,2945,2671,1795,2464,2220,2572,2255,2202,4215,4190,3962,4215,3233,3353,3012,3085,2035,2164,1937,1795,3651,3574,3645,3193,1825,1990,2155,2565,3150,3940,3270,2930,3820,4380,4055,3870,3755,2045,2155,1825,2300,1945,3880,4060,4140,4295,3520,3425,3630,3525,4220,4165,4325,4335,1940,2740,2265,2755,2051,2075,1985,2190,2815,2600,2720,1985,1800,1985,2070,1800,3365,3735,3570,3535,3155,2965,2720,3430,3210,3380,3070,3620,3410,3425,3445,3205,4080,2155,2560,2300,2230,2515,2745,2855,2405,2830,3140,2795,3410,1990,2135,3245,2990,2890,3265,3360,3840,3725,3955,3830,4360,4054,3605,3940,1925,1975,1915,2670,3530,3900,3190,3420,2200,2150,2020,2130,2670,2595,2700,2556,2144,1968,2120,2019,2678,2870,3003,3381,2188,2711,2542,2434,2265,2110,2800,2110,2085,2335,2950,3250,1850,1835,2145,1845,2910,2420,2500,2905,2290,2490,2635,2620,2725,2385,1755,1875,1760,2065,1975,2050,1985,2215,2045,2380,2190,2320,2210,2350,2615,2635,3230,2800,3160,2900,2930,3415,3725,3060,3465,2605,2640,2395,2575,2525,2735,2865,3035,1980,2025,1970,2125,2125,2160,2205,2245,1965,1965,1995,2945,3015,2585,2835,2665,2370,2950,2790,2130,2295,2625,2720],\"Year\":{\"__ndarray__\":\"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\",\"dtype\":\"float64\",\"order\":\"little\",\"shape\":[406]},\"index\":[0,1,2,3,4,5,6,7,8,9,10,11,12,13,14,15,16,17,18,19,20,21,22,23,24,25,26,27,28,29,30,31,32,33,34,35,36,37,38,39,40,41,42,43,44,45,46,47,48,49,50,51,52,53,54,55,56,57,58,59,60,61,62,63,64,65,66,67,68,69,70,71,72,73,74,75,76,77,78,79,80,81,82,83,84,85,86,87,88,89,90,91,92,93,94,95,96,97,98,99,100,101,102,103,104,105,106,107,108,109,110,111,112,113,114,115,116,117,118,119,120,121,122,123,124,125,126,127,128,129,130,131,132,133,134,135,136,137,138,139,140,141,142,143,144,145,146,147,148,149,150,151,152,153,154,155,156,157,158,159,160,161,162,163,164,165,166,167,168,169,170,171,172,173,174,175,176,177,178,179,180,181,182,183,184,185,186,187,188,189,190,191,192,193,194,195,196,197,198,199,200,201,202,203,204,205,206,207,208,209,210,211,212,213,214,215,216,217,218,219,220,221,222,223,224,225,226,227,228,229,230,231,232,233,234,235,236,237,238,239,240,241,242,243,244,245,246,247,248,249,250,251,252,253,254,255,256,257,258,259,260,261,262,263,264,265,266,267,268,269,270,271,272,273,274,275,276,277,278,279,280,281,282,283,284,285,286,287,288,289,290,291,292,293,294,295,296,297,298,299,300,301,302,303,304,305,306,307,308,309,310,311,312,313,314,315,316,317,318,319,320,321,322,323,324,325,326,327,328,329,330,331,332,333,334,335,336,337,338,339,340,341,342,343,344,345,346,347,348,349,350,351,352,353,354,355,356,357,358,359,360,361,362,363,364,365,366,367,368,369,370,371,372,373,374,375,376,377,378,379,380,381,382,383,384,385,386,387,388,389,390,391,392,393,394,395,396,397,398,399,400,401,402,403,404,405]},\"selected\":{\"id\":\"1012\"},\"selection_policy\":{\"id\":\"1011\"}},\"id\":\"1009\",\"type\":\"ColumnDataSource\"},{\"attributes\":{\"client_comm_id\":\"84cfd6bdb97449df82bd16e02c151587\",\"comm_id\":\"4d1473419bf04585a1f78f4dcac36798\",\"plot_id\":\"1010\"},\"id\":\"1017\",\"type\":\"panel.models.comm_manager.CommManager\"},{\"attributes\":{},\"id\":\"1011\",\"type\":\"UnionRenderers\"}],\"root_ids\":[\"1010\",\"1017\"]},\"title\":\"Bokeh Application\",\"version\":\"2.4.3\"}};\n",
       "    var render_items = [{\"docid\":\"f5d5ab52-87bc-4964-a4e5-a6eb41892959\",\"root_ids\":[\"1010\"],\"roots\":{\"1010\":\"f6e20cc8-8bf2-4423-829a-43184127876a\"}}];\n",
       "    root.Bokeh.embed.embed_items_notebook(docs_json, render_items);\n",
       "    for (const render_item of render_items) {\n",
       "      for (const root_id of render_item.root_ids) {\n",
       "\tconst id_el = document.getElementById(root_id)\n",
       "\tif (id_el.children.length && (id_el.children[0].className === 'bk-root')) {\n",
       "\t  const root_el = id_el.children[0]\n",
       "\t  root_el.id = root_el.id + '-rendered'\n",
       "\t}\n",
       "      }\n",
       "    }\n",
       "  }\n",
       "  if (root.Bokeh !== undefined && root.Bokeh.Panel !== undefined && ( root['vega'] !== undefined)) {\n",
       "    embed_document(root);\n",
       "  } else {\n",
       "    var attempts = 0;\n",
       "    var timer = setInterval(function(root) {\n",
       "      if (root.Bokeh !== undefined && root.Bokeh.Panel !== undefined && (root['vega'] !== undefined)) {\n",
       "        clearInterval(timer);\n",
       "        embed_document(root);\n",
       "      } else if (document.readyState == \"complete\") {\n",
       "        attempts++;\n",
       "        if (attempts > 200) {\n",
       "          clearInterval(timer);\n",
       "          console.log(\"Bokeh: ERROR: Unable to run BokehJS code because BokehJS library is missing\");\n",
       "        }\n",
       "      }\n",
       "    }, 25, root)\n",
       "  }\n",
       "})(window);</script>"
      ],
      "text/plain": [
       "Vega(Chart, selection=Selection)"
      ]
     },
     "execution_count": 8,
     "metadata": {
      "application/vnd.holoviews_exec.v0+json": {
       "id": "1010"
      }
     },
     "output_type": "execute_result"
    }
   ],
   "source": [
    "cars = data.cars()\n",
    "\n",
    "chart = alt.Chart(cars).mark_circle(size=60).encode(\n",
    "    x='Horsepower',\n",
    "    y='Miles_per_Gallon',\n",
    "    color='Origin',\n",
    "    tooltip=['Name', 'Origin', 'Horsepower', 'Miles_per_Gallon']\n",
    ").interactive()\n",
    "\n",
    "altair_pane = pn.panel(chart)\n",
    "altair_pane"
   ]
  },
  {
   "cell_type": "code",
   "execution_count": 9,
   "id": "f0a57edf",
   "metadata": {
    "ExecuteTime": {
     "end_time": "2023-10-06T16:28:17.831309Z",
     "start_time": "2023-10-06T16:28:17.556239Z"
    }
   },
   "outputs": [],
   "source": [
    "altair_pane.object = chart.mark_circle(size=100)"
   ]
  },
  {
   "cell_type": "code",
   "execution_count": 10,
   "id": "736335fc",
   "metadata": {
    "ExecuteTime": {
     "end_time": "2023-10-06T16:28:18.033358Z",
     "start_time": "2023-10-06T16:28:17.834309Z"
    }
   },
   "outputs": [
    {
     "data": {},
     "metadata": {},
     "output_type": "display_data"
    },
    {
     "data": {
      "application/vnd.holoviews_exec.v0+json": "",
      "text/html": [
       "<div id='1031'>\n",
       "  <div class=\"bk-root\" id=\"01542f81-0491-4c70-abe7-6470998024fb\" data-root-id=\"1031\"></div>\n",
       "</div>\n",
       "<script type=\"application/javascript\">(function(root) {\n",
       "  function embed_document(root) {\n",
       "    var docs_json = {\"79eada9a-700d-473f-9243-62299f0718ac\":{\"defs\":[{\"extends\":null,\"module\":null,\"name\":\"ReactiveHTML1\",\"overrides\":[],\"properties\":[]},{\"extends\":null,\"module\":null,\"name\":\"FlexBox1\",\"overrides\":[],\"properties\":[{\"default\":\"flex-start\",\"kind\":null,\"name\":\"align_content\"},{\"default\":\"flex-start\",\"kind\":null,\"name\":\"align_items\"},{\"default\":\"row\",\"kind\":null,\"name\":\"flex_direction\"},{\"default\":\"wrap\",\"kind\":null,\"name\":\"flex_wrap\"},{\"default\":\"flex-start\",\"kind\":null,\"name\":\"justify_content\"}]},{\"extends\":null,\"module\":null,\"name\":\"GridStack1\",\"overrides\":[],\"properties\":[{\"default\":\"warn\",\"kind\":null,\"name\":\"mode\"},{\"default\":null,\"kind\":null,\"name\":\"ncols\"},{\"default\":null,\"kind\":null,\"name\":\"nrows\"},{\"default\":true,\"kind\":null,\"name\":\"allow_resize\"},{\"default\":true,\"kind\":null,\"name\":\"allow_drag\"},{\"default\":[],\"kind\":null,\"name\":\"state\"}]},{\"extends\":null,\"module\":null,\"name\":\"click1\",\"overrides\":[],\"properties\":[{\"default\":\"\",\"kind\":null,\"name\":\"terminal_output\"},{\"default\":\"\",\"kind\":null,\"name\":\"debug_name\"},{\"default\":0,\"kind\":null,\"name\":\"clears\"}]},{\"extends\":null,\"module\":null,\"name\":\"NotificationAreaBase1\",\"overrides\":[],\"properties\":[{\"default\":\"bottom-right\",\"kind\":null,\"name\":\"position\"},{\"default\":0,\"kind\":null,\"name\":\"_clear\"}]},{\"extends\":null,\"module\":null,\"name\":\"NotificationArea1\",\"overrides\":[],\"properties\":[{\"default\":[],\"kind\":null,\"name\":\"notifications\"},{\"default\":\"bottom-right\",\"kind\":null,\"name\":\"position\"},{\"default\":0,\"kind\":null,\"name\":\"_clear\"},{\"default\":[{\"background\":\"#ffc107\",\"icon\":{\"className\":\"fas fa-exclamation-triangle\",\"color\":\"white\",\"tagName\":\"i\"},\"type\":\"warning\"},{\"background\":\"#007bff\",\"icon\":{\"className\":\"fas fa-info-circle\",\"color\":\"white\",\"tagName\":\"i\"},\"type\":\"info\"}],\"kind\":null,\"name\":\"types\"}]},{\"extends\":null,\"module\":null,\"name\":\"Notification\",\"overrides\":[],\"properties\":[{\"default\":null,\"kind\":null,\"name\":\"background\"},{\"default\":3000,\"kind\":null,\"name\":\"duration\"},{\"default\":null,\"kind\":null,\"name\":\"icon\"},{\"default\":\"\",\"kind\":null,\"name\":\"message\"},{\"default\":null,\"kind\":null,\"name\":\"notification_type\"},{\"default\":false,\"kind\":null,\"name\":\"_destroyed\"}]},{\"extends\":null,\"module\":null,\"name\":\"TemplateActions1\",\"overrides\":[],\"properties\":[{\"default\":0,\"kind\":null,\"name\":\"open_modal\"},{\"default\":0,\"kind\":null,\"name\":\"close_modal\"}]},{\"extends\":null,\"module\":null,\"name\":\"MaterialTemplateActions1\",\"overrides\":[],\"properties\":[{\"default\":0,\"kind\":null,\"name\":\"open_modal\"},{\"default\":0,\"kind\":null,\"name\":\"close_modal\"}]}],\"roots\":{\"references\":[{\"attributes\":{\"data\":{\"$schema\":\"https://vega.github.io/schema/vega-lite/v5.15.1.json\",\"config\":{\"view\":{\"continuousHeight\":300,\"continuousWidth\":300}},\"data\":{\"url\":\"https://raw.githubusercontent.com/vega/vega/master/docs/data/penguins.json\"},\"hconcat\":[{\"encoding\":{\"color\":{\"field\":\"Species\",\"type\":\"nominal\"},\"x\":{\"field\":\"Beak Length (mm)\",\"scale\":{\"zero\":false},\"type\":\"quantitative\"},\"y\":{\"field\":\"Beak Depth (mm)\",\"scale\":{\"zero\":false},\"type\":\"quantitative\"}},\"height\":300,\"mark\":{\"type\":\"point\"},\"width\":300},{\"encoding\":{\"color\":{\"field\":\"Species\",\"type\":\"nominal\"},\"x\":{\"aggregate\":\"count\",\"type\":\"quantitative\"},\"y\":{\"bin\":{\"maxbins\":30},\"field\":\"Beak Depth (mm)\",\"type\":\"quantitative\"}},\"height\":300,\"mark\":{\"type\":\"bar\"},\"width\":100}]},\"height\":322,\"margin\":[5,5,30,5],\"subscribed_events\":[\"vega_event\"],\"width\":322},\"id\":\"1031\",\"type\":\"panel.models.vega.VegaPlot\"},{\"attributes\":{\"client_comm_id\":\"c5e02a678c1d46c38c08c1bb4515d182\",\"comm_id\":\"6b5f4b81bb28487982433472c3716f0e\",\"plot_id\":\"1031\"},\"id\":\"1032\",\"type\":\"panel.models.comm_manager.CommManager\"}],\"root_ids\":[\"1031\",\"1032\"]},\"title\":\"Bokeh Application\",\"version\":\"2.4.3\"}};\n",
       "    var render_items = [{\"docid\":\"79eada9a-700d-473f-9243-62299f0718ac\",\"root_ids\":[\"1031\"],\"roots\":{\"1031\":\"01542f81-0491-4c70-abe7-6470998024fb\"}}];\n",
       "    root.Bokeh.embed.embed_items_notebook(docs_json, render_items);\n",
       "    for (const render_item of render_items) {\n",
       "      for (const root_id of render_item.root_ids) {\n",
       "\tconst id_el = document.getElementById(root_id)\n",
       "\tif (id_el.children.length && (id_el.children[0].className === 'bk-root')) {\n",
       "\t  const root_el = id_el.children[0]\n",
       "\t  root_el.id = root_el.id + '-rendered'\n",
       "\t}\n",
       "      }\n",
       "    }\n",
       "  }\n",
       "  if (root.Bokeh !== undefined && root.Bokeh.Panel !== undefined && ( root['vega'] !== undefined)) {\n",
       "    embed_document(root);\n",
       "  } else {\n",
       "    var attempts = 0;\n",
       "    var timer = setInterval(function(root) {\n",
       "      if (root.Bokeh !== undefined && root.Bokeh.Panel !== undefined && (root['vega'] !== undefined)) {\n",
       "        clearInterval(timer);\n",
       "        embed_document(root);\n",
       "      } else if (document.readyState == \"complete\") {\n",
       "        attempts++;\n",
       "        if (attempts > 200) {\n",
       "          clearInterval(timer);\n",
       "          console.log(\"Bokeh: ERROR: Unable to run BokehJS code because BokehJS library is missing\");\n",
       "        }\n",
       "      }\n",
       "    }, 25, root)\n",
       "  }\n",
       "})(window);</script>"
      ],
      "text/plain": [
       "Vega(HConcatChart, selection=Selection)"
      ]
     },
     "execution_count": 10,
     "metadata": {
      "application/vnd.holoviews_exec.v0+json": {
       "id": "1031"
      }
     },
     "output_type": "execute_result"
    }
   ],
   "source": [
    "penguins_url = \"https://raw.githubusercontent.com/vega/vega/master/docs/data/penguins.json\"\n",
    "\n",
    "chart1 = alt.Chart(penguins_url).mark_point().encode(\n",
    "    x=alt.X('Beak Length (mm):Q', scale=alt.Scale(zero=False)),\n",
    "    y=alt.Y('Beak Depth (mm):Q', scale=alt.Scale(zero=False)),\n",
    "    color='Species:N'\n",
    ").properties(\n",
    "    height=300,\n",
    "    width=300,\n",
    ")\n",
    "\n",
    "chart2 = alt.Chart(penguins_url).mark_bar().encode(\n",
    "    x='count()',\n",
    "    y=alt.Y('Beak Depth (mm):Q', bin=alt.Bin(maxbins=30)),\n",
    "    color='Species:N'\n",
    ").properties(\n",
    "    height=300,\n",
    "    width=100\n",
    ")\n",
    "\n",
    "pn.panel(chart1 | chart2)"
   ]
  },
  {
   "cell_type": "code",
   "execution_count": 12,
   "id": "d7b915af",
   "metadata": {
    "ExecuteTime": {
     "end_time": "2023-10-06T16:28:40.112636Z",
     "start_time": "2023-10-06T16:28:39.561505Z"
    },
    "scrolled": false
   },
   "outputs": [
    {
     "data": {},
     "metadata": {},
     "output_type": "display_data"
    },
    {
     "data": {
      "application/vnd.holoviews_exec.v0+json": "",
      "text/html": [
       "<div id='1033'>\n",
       "  <div class=\"bk-root\" id=\"9667b499-34c6-40cf-927c-80d9952c630c\" data-root-id=\"1033\"></div>\n",
       "</div>\n",
       "<script type=\"application/javascript\">(function(root) {\n",
       "  function embed_document(root) {\n",
       "    var docs_json = {\"8656ee2b-c5b3-49f6-b117-bc9b95c671f5\":{\"defs\":[{\"extends\":null,\"module\":null,\"name\":\"ReactiveHTML1\",\"overrides\":[],\"properties\":[]},{\"extends\":null,\"module\":null,\"name\":\"FlexBox1\",\"overrides\":[],\"properties\":[{\"default\":\"flex-start\",\"kind\":null,\"name\":\"align_content\"},{\"default\":\"flex-start\",\"kind\":null,\"name\":\"align_items\"},{\"default\":\"row\",\"kind\":null,\"name\":\"flex_direction\"},{\"default\":\"wrap\",\"kind\":null,\"name\":\"flex_wrap\"},{\"default\":\"flex-start\",\"kind\":null,\"name\":\"justify_content\"}]},{\"extends\":null,\"module\":null,\"name\":\"GridStack1\",\"overrides\":[],\"properties\":[{\"default\":\"warn\",\"kind\":null,\"name\":\"mode\"},{\"default\":null,\"kind\":null,\"name\":\"ncols\"},{\"default\":null,\"kind\":null,\"name\":\"nrows\"},{\"default\":true,\"kind\":null,\"name\":\"allow_resize\"},{\"default\":true,\"kind\":null,\"name\":\"allow_drag\"},{\"default\":[],\"kind\":null,\"name\":\"state\"}]},{\"extends\":null,\"module\":null,\"name\":\"click1\",\"overrides\":[],\"properties\":[{\"default\":\"\",\"kind\":null,\"name\":\"terminal_output\"},{\"default\":\"\",\"kind\":null,\"name\":\"debug_name\"},{\"default\":0,\"kind\":null,\"name\":\"clears\"}]},{\"extends\":null,\"module\":null,\"name\":\"NotificationAreaBase1\",\"overrides\":[],\"properties\":[{\"default\":\"bottom-right\",\"kind\":null,\"name\":\"position\"},{\"default\":0,\"kind\":null,\"name\":\"_clear\"}]},{\"extends\":null,\"module\":null,\"name\":\"NotificationArea1\",\"overrides\":[],\"properties\":[{\"default\":[],\"kind\":null,\"name\":\"notifications\"},{\"default\":\"bottom-right\",\"kind\":null,\"name\":\"position\"},{\"default\":0,\"kind\":null,\"name\":\"_clear\"},{\"default\":[{\"background\":\"#ffc107\",\"icon\":{\"className\":\"fas fa-exclamation-triangle\",\"color\":\"white\",\"tagName\":\"i\"},\"type\":\"warning\"},{\"background\":\"#007bff\",\"icon\":{\"className\":\"fas fa-info-circle\",\"color\":\"white\",\"tagName\":\"i\"},\"type\":\"info\"}],\"kind\":null,\"name\":\"types\"}]},{\"extends\":null,\"module\":null,\"name\":\"Notification\",\"overrides\":[],\"properties\":[{\"default\":null,\"kind\":null,\"name\":\"background\"},{\"default\":3000,\"kind\":null,\"name\":\"duration\"},{\"default\":null,\"kind\":null,\"name\":\"icon\"},{\"default\":\"\",\"kind\":null,\"name\":\"message\"},{\"default\":null,\"kind\":null,\"name\":\"notification_type\"},{\"default\":false,\"kind\":null,\"name\":\"_destroyed\"}]},{\"extends\":null,\"module\":null,\"name\":\"TemplateActions1\",\"overrides\":[],\"properties\":[{\"default\":0,\"kind\":null,\"name\":\"open_modal\"},{\"default\":0,\"kind\":null,\"name\":\"close_modal\"}]},{\"extends\":null,\"module\":null,\"name\":\"MaterialTemplateActions1\",\"overrides\":[],\"properties\":[{\"default\":0,\"kind\":null,\"name\":\"open_modal\"},{\"default\":0,\"kind\":null,\"name\":\"close_modal\"}]}],\"roots\":{\"references\":[{\"attributes\":{\"data\":{\"$schema\":\"https://vega.github.io/schema/vega-lite/v5.15.1.json\",\"config\":{\"view\":{\"continuousHeight\":300,\"continuousWidth\":300}},\"data\":{\"url\":\"https://raw.githubusercontent.com/vega/vega/master/docs/data/penguins.json\"},\"encoding\":{\"color\":{\"condition\":{\"field\":\"Species\",\"param\":\"brush\",\"type\":\"nominal\"},\"value\":\"lightgray\"},\"x\":{\"field\":\"Beak Length (mm)\",\"scale\":{\"zero\":false},\"type\":\"quantitative\"},\"y\":{\"field\":\"Beak Depth (mm)\",\"scale\":{\"zero\":false},\"type\":\"quantitative\"}},\"height\":250,\"mark\":{\"type\":\"point\"},\"params\":[{\"name\":\"brush\",\"select\":{\"type\":\"interval\"}}],\"width\":250},\"events\":[\"brush\"],\"height\":322,\"margin\":[5,5,30,5],\"subscribed_events\":[\"vega_event\"],\"throttle\":{\"brush\":10},\"width\":322},\"id\":\"1033\",\"type\":\"panel.models.vega.VegaPlot\"},{\"attributes\":{\"client_comm_id\":\"333c342ea1424f9d86aaa3de4945c169\",\"comm_id\":\"582b40793cc34d95a52690069df4242d\",\"plot_id\":\"1033\"},\"id\":\"1034\",\"type\":\"panel.models.comm_manager.CommManager\"}],\"root_ids\":[\"1033\",\"1034\"]},\"title\":\"Bokeh Application\",\"version\":\"2.4.3\"}};\n",
       "    var render_items = [{\"docid\":\"8656ee2b-c5b3-49f6-b117-bc9b95c671f5\",\"root_ids\":[\"1033\"],\"roots\":{\"1033\":\"9667b499-34c6-40cf-927c-80d9952c630c\"}}];\n",
       "    root.Bokeh.embed.embed_items_notebook(docs_json, render_items);\n",
       "    for (const render_item of render_items) {\n",
       "      for (const root_id of render_item.root_ids) {\n",
       "\tconst id_el = document.getElementById(root_id)\n",
       "\tif (id_el.children.length && (id_el.children[0].className === 'bk-root')) {\n",
       "\t  const root_el = id_el.children[0]\n",
       "\t  root_el.id = root_el.id + '-rendered'\n",
       "\t}\n",
       "      }\n",
       "    }\n",
       "  }\n",
       "  if (root.Bokeh !== undefined && root.Bokeh.Panel !== undefined && ( root['vega'] !== undefined)) {\n",
       "    embed_document(root);\n",
       "  } else {\n",
       "    var attempts = 0;\n",
       "    var timer = setInterval(function(root) {\n",
       "      if (root.Bokeh !== undefined && root.Bokeh.Panel !== undefined && (root['vega'] !== undefined)) {\n",
       "        clearInterval(timer);\n",
       "        embed_document(root);\n",
       "      } else if (document.readyState == \"complete\") {\n",
       "        attempts++;\n",
       "        if (attempts > 200) {\n",
       "          clearInterval(timer);\n",
       "          console.log(\"Bokeh: ERROR: Unable to run BokehJS code because BokehJS library is missing\");\n",
       "        }\n",
       "      }\n",
       "    }, 25, root)\n",
       "  }\n",
       "})(window);</script>"
      ],
      "text/plain": [
       "Vega(Chart, debounce=10, selection=Selection)"
      ]
     },
     "execution_count": 12,
     "metadata": {
      "application/vnd.holoviews_exec.v0+json": {
       "id": "1033"
      }
     },
     "output_type": "execute_result"
    }
   ],
   "source": [
    "df = pd.read_json(penguins_url)\n",
    "\n",
    "brush = alt.selection_interval(name='brush')  # selection of type \"interval\"\n",
    "\n",
    "chart = alt.Chart(penguins_url).mark_point().encode(\n",
    "    x=alt.X('Beak Length (mm):Q', scale=alt.Scale(zero=False)),\n",
    "    y=alt.Y('Beak Depth (mm):Q', scale=alt.Scale(zero=False)),\n",
    "    color=alt.condition(brush, 'Species:N', alt.value('lightgray'))\n",
    ").properties(\n",
    "    width=250,\n",
    "    height=250\n",
    ").add_params(\n",
    "    brush\n",
    ")\n",
    "\n",
    "vega_pane = pn.pane.Vega(chart, debounce=10)\n",
    "\n",
    "vega_pane"
   ]
  },
  {
   "cell_type": "code",
   "execution_count": 14,
   "id": "bd112149",
   "metadata": {
    "ExecuteTime": {
     "end_time": "2023-10-06T16:29:00.981073Z",
     "start_time": "2023-10-06T16:29:00.968564Z"
    }
   },
   "outputs": [
    {
     "data": {
      "text/plain": [
       "Selection(brush=None, name='Selection00124')"
      ]
     },
     "execution_count": 14,
     "metadata": {},
     "output_type": "execute_result"
    }
   ],
   "source": [
    "vega_pane.selection"
   ]
  },
  {
   "cell_type": "code",
   "execution_count": 15,
   "id": "94f156d0",
   "metadata": {
    "ExecuteTime": {
     "end_time": "2023-10-06T16:29:08.734145Z",
     "start_time": "2023-10-06T16:29:08.705638Z"
    }
   },
   "outputs": [
    {
     "data": {
      "text/plain": [
       "[{'name': 'brush', 'select': {'type': 'interval'}}]"
      ]
     },
     "execution_count": 15,
     "metadata": {},
     "output_type": "execute_result"
    }
   ],
   "source": [
    "chart.to_dict()['params']"
   ]
  },
  {
   "cell_type": "code",
   "execution_count": 16,
   "id": "4b6d3202",
   "metadata": {
    "ExecuteTime": {
     "end_time": "2023-10-06T16:29:20.702481Z",
     "start_time": "2023-10-06T16:29:20.408408Z"
    }
   },
   "outputs": [
    {
     "data": {},
     "metadata": {},
     "output_type": "display_data"
    },
    {
     "data": {
      "application/vnd.holoviews_exec.v0+json": "",
      "text/html": [
       "<div id='1035'>\n",
       "  <div class=\"bk-root\" id=\"b7fe80e8-f44a-4fea-85ae-a24447cbf881\" data-root-id=\"1035\"></div>\n",
       "</div>\n",
       "<script type=\"application/javascript\">(function(root) {\n",
       "  function embed_document(root) {\n",
       "    var docs_json = {\"07b3812c-1a9b-404f-914a-bbbfbb9b45c8\":{\"defs\":[{\"extends\":null,\"module\":null,\"name\":\"ReactiveHTML1\",\"overrides\":[],\"properties\":[]},{\"extends\":null,\"module\":null,\"name\":\"FlexBox1\",\"overrides\":[],\"properties\":[{\"default\":\"flex-start\",\"kind\":null,\"name\":\"align_content\"},{\"default\":\"flex-start\",\"kind\":null,\"name\":\"align_items\"},{\"default\":\"row\",\"kind\":null,\"name\":\"flex_direction\"},{\"default\":\"wrap\",\"kind\":null,\"name\":\"flex_wrap\"},{\"default\":\"flex-start\",\"kind\":null,\"name\":\"justify_content\"}]},{\"extends\":null,\"module\":null,\"name\":\"GridStack1\",\"overrides\":[],\"properties\":[{\"default\":\"warn\",\"kind\":null,\"name\":\"mode\"},{\"default\":null,\"kind\":null,\"name\":\"ncols\"},{\"default\":null,\"kind\":null,\"name\":\"nrows\"},{\"default\":true,\"kind\":null,\"name\":\"allow_resize\"},{\"default\":true,\"kind\":null,\"name\":\"allow_drag\"},{\"default\":[],\"kind\":null,\"name\":\"state\"}]},{\"extends\":null,\"module\":null,\"name\":\"click1\",\"overrides\":[],\"properties\":[{\"default\":\"\",\"kind\":null,\"name\":\"terminal_output\"},{\"default\":\"\",\"kind\":null,\"name\":\"debug_name\"},{\"default\":0,\"kind\":null,\"name\":\"clears\"}]},{\"extends\":null,\"module\":null,\"name\":\"NotificationAreaBase1\",\"overrides\":[],\"properties\":[{\"default\":\"bottom-right\",\"kind\":null,\"name\":\"position\"},{\"default\":0,\"kind\":null,\"name\":\"_clear\"}]},{\"extends\":null,\"module\":null,\"name\":\"NotificationArea1\",\"overrides\":[],\"properties\":[{\"default\":[],\"kind\":null,\"name\":\"notifications\"},{\"default\":\"bottom-right\",\"kind\":null,\"name\":\"position\"},{\"default\":0,\"kind\":null,\"name\":\"_clear\"},{\"default\":[{\"background\":\"#ffc107\",\"icon\":{\"className\":\"fas fa-exclamation-triangle\",\"color\":\"white\",\"tagName\":\"i\"},\"type\":\"warning\"},{\"background\":\"#007bff\",\"icon\":{\"className\":\"fas fa-info-circle\",\"color\":\"white\",\"tagName\":\"i\"},\"type\":\"info\"}],\"kind\":null,\"name\":\"types\"}]},{\"extends\":null,\"module\":null,\"name\":\"Notification\",\"overrides\":[],\"properties\":[{\"default\":null,\"kind\":null,\"name\":\"background\"},{\"default\":3000,\"kind\":null,\"name\":\"duration\"},{\"default\":null,\"kind\":null,\"name\":\"icon\"},{\"default\":\"\",\"kind\":null,\"name\":\"message\"},{\"default\":null,\"kind\":null,\"name\":\"notification_type\"},{\"default\":false,\"kind\":null,\"name\":\"_destroyed\"}]},{\"extends\":null,\"module\":null,\"name\":\"TemplateActions1\",\"overrides\":[],\"properties\":[{\"default\":0,\"kind\":null,\"name\":\"open_modal\"},{\"default\":0,\"kind\":null,\"name\":\"close_modal\"}]},{\"extends\":null,\"module\":null,\"name\":\"MaterialTemplateActions1\",\"overrides\":[],\"properties\":[{\"default\":0,\"kind\":null,\"name\":\"open_modal\"},{\"default\":0,\"kind\":null,\"name\":\"close_modal\"}]}],\"roots\":{\"references\":[{\"attributes\":{\"client_comm_id\":\"cd4885c9261c465192dd23e04c6fa396\",\"comm_id\":\"d8744a5993d846b0a98bd7c83011588f\",\"plot_id\":\"1035\"},\"id\":\"1036\",\"type\":\"panel.models.comm_manager.CommManager\"},{\"attributes\":{\"data\":{\"$schema\":\"https://vega.github.io/schema/vega-lite/v5.15.1.json\",\"config\":{\"view\":{\"continuousHeight\":300,\"continuousWidth\":300}},\"data\":{\"url\":\"https://raw.githubusercontent.com/vega/vega/master/docs/data/penguins.json\"},\"encoding\":{\"color\":{\"condition\":{\"field\":\"Species\",\"param\":\"multi\",\"type\":\"nominal\"},\"value\":\"lightgray\"},\"x\":{\"field\":\"Beak Length (mm)\",\"scale\":{\"zero\":false},\"type\":\"quantitative\"},\"y\":{\"field\":\"Beak Depth (mm)\",\"scale\":{\"zero\":false},\"type\":\"quantitative\"}},\"height\":250,\"mark\":{\"type\":\"point\"},\"params\":[{\"name\":\"multi\",\"select\":{\"type\":\"point\"}}],\"width\":250},\"events\":[\"multi\"],\"height\":322,\"margin\":[5,5,30,5],\"subscribed_events\":[\"vega_event\"],\"throttle\":{\"multi\":10},\"width\":322},\"id\":\"1035\",\"type\":\"panel.models.vega.VegaPlot\"}],\"root_ids\":[\"1035\",\"1036\"]},\"title\":\"Bokeh Application\",\"version\":\"2.4.3\"}};\n",
       "    var render_items = [{\"docid\":\"07b3812c-1a9b-404f-914a-bbbfbb9b45c8\",\"root_ids\":[\"1035\"],\"roots\":{\"1035\":\"b7fe80e8-f44a-4fea-85ae-a24447cbf881\"}}];\n",
       "    root.Bokeh.embed.embed_items_notebook(docs_json, render_items);\n",
       "    for (const render_item of render_items) {\n",
       "      for (const root_id of render_item.root_ids) {\n",
       "\tconst id_el = document.getElementById(root_id)\n",
       "\tif (id_el.children.length && (id_el.children[0].className === 'bk-root')) {\n",
       "\t  const root_el = id_el.children[0]\n",
       "\t  root_el.id = root_el.id + '-rendered'\n",
       "\t}\n",
       "      }\n",
       "    }\n",
       "  }\n",
       "  if (root.Bokeh !== undefined && root.Bokeh.Panel !== undefined && ( root['vega'] !== undefined)) {\n",
       "    embed_document(root);\n",
       "  } else {\n",
       "    var attempts = 0;\n",
       "    var timer = setInterval(function(root) {\n",
       "      if (root.Bokeh !== undefined && root.Bokeh.Panel !== undefined && (root['vega'] !== undefined)) {\n",
       "        clearInterval(timer);\n",
       "        embed_document(root);\n",
       "      } else if (document.readyState == \"complete\") {\n",
       "        attempts++;\n",
       "        if (attempts > 200) {\n",
       "          clearInterval(timer);\n",
       "          console.log(\"Bokeh: ERROR: Unable to run BokehJS code because BokehJS library is missing\");\n",
       "        }\n",
       "      }\n",
       "    }, 25, root)\n",
       "  }\n",
       "})(window);</script>"
      ],
      "text/plain": [
       "Vega(Chart, debounce=10, selection=Selection)"
      ]
     },
     "execution_count": 16,
     "metadata": {
      "application/vnd.holoviews_exec.v0+json": {
       "id": "1035"
      }
     },
     "output_type": "execute_result"
    }
   ],
   "source": [
    "multi = alt.selection_point(name='multi')  # selection of type \"multi\"\n",
    "\n",
    "multi_chart = alt.Chart(penguins_url).mark_point().encode(\n",
    "    x=alt.X('Beak Length (mm):Q', scale=alt.Scale(zero=False)),\n",
    "    y=alt.Y('Beak Depth (mm):Q', scale=alt.Scale(zero=False)),\n",
    "    color=alt.condition(multi, 'Species:N', alt.value('lightgray'))\n",
    ").properties(\n",
    "    width=250,\n",
    "    height=250\n",
    ").add_params(\n",
    "    multi\n",
    ")\n",
    "\n",
    "vega_multi = pn.pane.Vega(multi_chart, debounce=10)\n",
    "\n",
    "vega_multi"
   ]
  },
  {
   "cell_type": "code",
   "execution_count": 17,
   "id": "621c5569",
   "metadata": {
    "ExecuteTime": {
     "end_time": "2023-10-06T16:29:28.983945Z",
     "start_time": "2023-10-06T16:29:28.973437Z"
    }
   },
   "outputs": [
    {
     "data": {
      "text/plain": [
       "Selection(multi=[], name='Selection00129')"
      ]
     },
     "execution_count": 17,
     "metadata": {},
     "output_type": "execute_result"
    }
   ],
   "source": [
    "vega_multi.selection"
   ]
  },
  {
   "cell_type": "code",
   "execution_count": 18,
   "id": "436d222a",
   "metadata": {
    "ExecuteTime": {
     "end_time": "2023-10-06T16:29:34.052326Z",
     "start_time": "2023-10-06T16:29:34.033323Z"
    }
   },
   "outputs": [
    {
     "data": {
      "text/html": [
       "<div>\n",
       "<style scoped>\n",
       "    .dataframe tbody tr th:only-of-type {\n",
       "        vertical-align: middle;\n",
       "    }\n",
       "\n",
       "    .dataframe tbody tr th {\n",
       "        vertical-align: top;\n",
       "    }\n",
       "\n",
       "    .dataframe thead th {\n",
       "        text-align: right;\n",
       "    }\n",
       "</style>\n",
       "<table border=\"1\" class=\"dataframe\">\n",
       "  <thead>\n",
       "    <tr style=\"text-align: right;\">\n",
       "      <th></th>\n",
       "      <th>Species</th>\n",
       "      <th>Island</th>\n",
       "      <th>Beak Length (mm)</th>\n",
       "      <th>Beak Depth (mm)</th>\n",
       "      <th>Flipper Length (mm)</th>\n",
       "      <th>Body Mass (g)</th>\n",
       "      <th>Sex</th>\n",
       "    </tr>\n",
       "  </thead>\n",
       "  <tbody>\n",
       "  </tbody>\n",
       "</table>\n",
       "</div>"
      ],
      "text/plain": [
       "Empty DataFrame\n",
       "Columns: [Species, Island, Beak Length (mm), Beak Depth (mm), Flipper Length (mm), Body Mass (g), Sex]\n",
       "Index: []"
      ]
     },
     "execution_count": 18,
     "metadata": {},
     "output_type": "execute_result"
    }
   ],
   "source": [
    "df.iloc[vega_multi.selection.multi]"
   ]
  },
  {
   "cell_type": "code",
   "execution_count": 23,
   "id": "005c601a",
   "metadata": {
    "ExecuteTime": {
     "end_time": "2023-10-06T16:31:26.596169Z",
     "start_time": "2023-10-06T16:31:26.584163Z"
    }
   },
   "outputs": [],
   "source": [
    "selection = {'Beak Length (mm)': [51.824, 53.952], 'Beak Depth (mm)': [18.796, 18.904]}"
   ]
  },
  {
   "cell_type": "code",
   "execution_count": 20,
   "id": "413eef0d",
   "metadata": {
    "ExecuteTime": {
     "end_time": "2023-10-06T16:29:53.405005Z",
     "start_time": "2023-10-06T16:29:53.169440Z"
    }
   },
   "outputs": [
    {
     "data": {},
     "metadata": {},
     "output_type": "display_data"
    },
    {
     "data": {
      "application/vnd.holoviews_exec.v0+json": "",
      "text/html": [
       "<div id='1037'>\n",
       "  <div class=\"bk-root\" id=\"26dbc802-4d57-4b15-8204-74ec84a5a7c2\" data-root-id=\"1037\"></div>\n",
       "</div>\n",
       "<script type=\"application/javascript\">(function(root) {\n",
       "  function embed_document(root) {\n",
       "    var docs_json = {\"b475b3dd-10e2-43b1-8242-e13acb368436\":{\"defs\":[{\"extends\":null,\"module\":null,\"name\":\"ReactiveHTML1\",\"overrides\":[],\"properties\":[]},{\"extends\":null,\"module\":null,\"name\":\"FlexBox1\",\"overrides\":[],\"properties\":[{\"default\":\"flex-start\",\"kind\":null,\"name\":\"align_content\"},{\"default\":\"flex-start\",\"kind\":null,\"name\":\"align_items\"},{\"default\":\"row\",\"kind\":null,\"name\":\"flex_direction\"},{\"default\":\"wrap\",\"kind\":null,\"name\":\"flex_wrap\"},{\"default\":\"flex-start\",\"kind\":null,\"name\":\"justify_content\"}]},{\"extends\":null,\"module\":null,\"name\":\"GridStack1\",\"overrides\":[],\"properties\":[{\"default\":\"warn\",\"kind\":null,\"name\":\"mode\"},{\"default\":null,\"kind\":null,\"name\":\"ncols\"},{\"default\":null,\"kind\":null,\"name\":\"nrows\"},{\"default\":true,\"kind\":null,\"name\":\"allow_resize\"},{\"default\":true,\"kind\":null,\"name\":\"allow_drag\"},{\"default\":[],\"kind\":null,\"name\":\"state\"}]},{\"extends\":null,\"module\":null,\"name\":\"click1\",\"overrides\":[],\"properties\":[{\"default\":\"\",\"kind\":null,\"name\":\"terminal_output\"},{\"default\":\"\",\"kind\":null,\"name\":\"debug_name\"},{\"default\":0,\"kind\":null,\"name\":\"clears\"}]},{\"extends\":null,\"module\":null,\"name\":\"NotificationAreaBase1\",\"overrides\":[],\"properties\":[{\"default\":\"bottom-right\",\"kind\":null,\"name\":\"position\"},{\"default\":0,\"kind\":null,\"name\":\"_clear\"}]},{\"extends\":null,\"module\":null,\"name\":\"NotificationArea1\",\"overrides\":[],\"properties\":[{\"default\":[],\"kind\":null,\"name\":\"notifications\"},{\"default\":\"bottom-right\",\"kind\":null,\"name\":\"position\"},{\"default\":0,\"kind\":null,\"name\":\"_clear\"},{\"default\":[{\"background\":\"#ffc107\",\"icon\":{\"className\":\"fas fa-exclamation-triangle\",\"color\":\"white\",\"tagName\":\"i\"},\"type\":\"warning\"},{\"background\":\"#007bff\",\"icon\":{\"className\":\"fas fa-info-circle\",\"color\":\"white\",\"tagName\":\"i\"},\"type\":\"info\"}],\"kind\":null,\"name\":\"types\"}]},{\"extends\":null,\"module\":null,\"name\":\"Notification\",\"overrides\":[],\"properties\":[{\"default\":null,\"kind\":null,\"name\":\"background\"},{\"default\":3000,\"kind\":null,\"name\":\"duration\"},{\"default\":null,\"kind\":null,\"name\":\"icon\"},{\"default\":\"\",\"kind\":null,\"name\":\"message\"},{\"default\":null,\"kind\":null,\"name\":\"notification_type\"},{\"default\":false,\"kind\":null,\"name\":\"_destroyed\"}]},{\"extends\":null,\"module\":null,\"name\":\"TemplateActions1\",\"overrides\":[],\"properties\":[{\"default\":0,\"kind\":null,\"name\":\"open_modal\"},{\"default\":0,\"kind\":null,\"name\":\"close_modal\"}]},{\"extends\":null,\"module\":null,\"name\":\"MaterialTemplateActions1\",\"overrides\":[],\"properties\":[{\"default\":0,\"kind\":null,\"name\":\"open_modal\"},{\"default\":0,\"kind\":null,\"name\":\"close_modal\"}]}],\"roots\":{\"references\":[{\"attributes\":{\"children\":[{\"id\":\"1038\"},{\"id\":\"1039\"}],\"margin\":[0,0,0,0],\"name\":\"Row00139\"},\"id\":\"1037\",\"type\":\"Row\"},{\"attributes\":{\"data\":{\"$schema\":\"https://vega.github.io/schema/vega-lite/v5.15.1.json\",\"config\":{\"view\":{\"continuousHeight\":300,\"continuousWidth\":300}},\"data\":{\"url\":\"https://raw.githubusercontent.com/vega/vega/master/docs/data/penguins.json\"},\"encoding\":{\"color\":{\"condition\":{\"field\":\"Species\",\"param\":\"brush\",\"type\":\"nominal\"},\"value\":\"lightgray\"},\"x\":{\"field\":\"Beak Length (mm)\",\"scale\":{\"zero\":false},\"type\":\"quantitative\"},\"y\":{\"field\":\"Beak Depth (mm)\",\"scale\":{\"zero\":false},\"type\":\"quantitative\"}},\"height\":250,\"mark\":{\"type\":\"point\"},\"params\":[{\"name\":\"brush\",\"select\":{\"type\":\"interval\"}}],\"width\":250},\"events\":[\"brush\"],\"height\":322,\"margin\":[5,5,30,5],\"subscribed_events\":[\"vega_event\"],\"throttle\":{\"brush\":10},\"width\":322},\"id\":\"1038\",\"type\":\"panel.models.vega.VegaPlot\"},{\"attributes\":{\"css_classes\":[\"markdown\"],\"margin\":[5,5,5,5],\"name\":\"ParamFunction00132\",\"text\":\"&lt;h2&gt;No selection&lt;/h2&gt;\"},\"id\":\"1040\",\"type\":\"panel.models.markup.HTML\"},{\"attributes\":{\"client_comm_id\":\"a9630cc600684cee884d694486a952e6\",\"comm_id\":\"8ee1858889f64180bec6ae4736354492\",\"plot_id\":\"1037\"},\"id\":\"1041\",\"type\":\"panel.models.comm_manager.CommManager\"},{\"attributes\":{\"children\":[{\"id\":\"1040\"}],\"margin\":[0,0,0,0],\"name\":\"Row00136\"},\"id\":\"1039\",\"type\":\"Row\"}],\"root_ids\":[\"1037\",\"1041\"]},\"title\":\"Bokeh Application\",\"version\":\"2.4.3\"}};\n",
       "    var render_items = [{\"docid\":\"b475b3dd-10e2-43b1-8242-e13acb368436\",\"root_ids\":[\"1037\"],\"roots\":{\"1037\":\"26dbc802-4d57-4b15-8204-74ec84a5a7c2\"}}];\n",
       "    root.Bokeh.embed.embed_items_notebook(docs_json, render_items);\n",
       "    for (const render_item of render_items) {\n",
       "      for (const root_id of render_item.root_ids) {\n",
       "\tconst id_el = document.getElementById(root_id)\n",
       "\tif (id_el.children.length && (id_el.children[0].className === 'bk-root')) {\n",
       "\t  const root_el = id_el.children[0]\n",
       "\t  root_el.id = root_el.id + '-rendered'\n",
       "\t}\n",
       "      }\n",
       "    }\n",
       "  }\n",
       "  if (root.Bokeh !== undefined && root.Bokeh.Panel !== undefined && ( root['vega'] !== undefined)) {\n",
       "    embed_document(root);\n",
       "  } else {\n",
       "    var attempts = 0;\n",
       "    var timer = setInterval(function(root) {\n",
       "      if (root.Bokeh !== undefined && root.Bokeh.Panel !== undefined && (root['vega'] !== undefined)) {\n",
       "        clearInterval(timer);\n",
       "        embed_document(root);\n",
       "      } else if (document.readyState == \"complete\") {\n",
       "        attempts++;\n",
       "        if (attempts > 200) {\n",
       "          clearInterval(timer);\n",
       "          console.log(\"Bokeh: ERROR: Unable to run BokehJS code because BokehJS library is missing\");\n",
       "        }\n",
       "      }\n",
       "    }, 25, root)\n",
       "  }\n",
       "})(window);</script>"
      ],
      "text/plain": [
       "Row\n",
       "    [0] Vega(Chart, debounce=10, selection=Selection)\n",
       "    [1] ParamFunction(function, _pane=Markdown)"
      ]
     },
     "execution_count": 20,
     "metadata": {
      "application/vnd.holoviews_exec.v0+json": {
       "id": "1037"
      }
     },
     "output_type": "execute_result"
    }
   ],
   "source": [
    "def filtered_table(selection):\n",
    "    if not selection:\n",
    "        return '## No selection'\n",
    "    query = ' & '.join(\n",
    "        f'{crange[0]:.3f} <= `{col}` <= {crange[1]:.3f}'\n",
    "        for col, crange in selection.items()\n",
    "    )\n",
    "    return pn.Column(\n",
    "        f'Query: {query}',\n",
    "        pn.pane.DataFrame(df.query(query), width=600, height=300)\n",
    "    )\n",
    "\n",
    "pn.Row(vega_pane, pn.bind(filtered_table, vega_pane.selection.param.brush))"
   ]
  },
  {
   "cell_type": "code",
   "execution_count": 21,
   "id": "834ae4ef",
   "metadata": {
    "ExecuteTime": {
     "end_time": "2023-10-06T16:30:01.639409Z",
     "start_time": "2023-10-06T16:30:01.544886Z"
    }
   },
   "outputs": [
    {
     "data": {},
     "metadata": {},
     "output_type": "display_data"
    },
    {
     "data": {
      "application/vnd.holoviews_exec.v0+json": "",
      "text/html": [
       "<div id='1042'>\n",
       "  <div class=\"bk-root\" id=\"de88e073-0094-4c98-a57e-3c8217f85a58\" data-root-id=\"1042\"></div>\n",
       "</div>\n",
       "<script type=\"application/javascript\">(function(root) {\n",
       "  function embed_document(root) {\n",
       "    var docs_json = {\"15f53efb-7609-4d2a-8281-0723f27bfa4f\":{\"defs\":[{\"extends\":null,\"module\":null,\"name\":\"ReactiveHTML1\",\"overrides\":[],\"properties\":[]},{\"extends\":null,\"module\":null,\"name\":\"FlexBox1\",\"overrides\":[],\"properties\":[{\"default\":\"flex-start\",\"kind\":null,\"name\":\"align_content\"},{\"default\":\"flex-start\",\"kind\":null,\"name\":\"align_items\"},{\"default\":\"row\",\"kind\":null,\"name\":\"flex_direction\"},{\"default\":\"wrap\",\"kind\":null,\"name\":\"flex_wrap\"},{\"default\":\"flex-start\",\"kind\":null,\"name\":\"justify_content\"}]},{\"extends\":null,\"module\":null,\"name\":\"GridStack1\",\"overrides\":[],\"properties\":[{\"default\":\"warn\",\"kind\":null,\"name\":\"mode\"},{\"default\":null,\"kind\":null,\"name\":\"ncols\"},{\"default\":null,\"kind\":null,\"name\":\"nrows\"},{\"default\":true,\"kind\":null,\"name\":\"allow_resize\"},{\"default\":true,\"kind\":null,\"name\":\"allow_drag\"},{\"default\":[],\"kind\":null,\"name\":\"state\"}]},{\"extends\":null,\"module\":null,\"name\":\"click1\",\"overrides\":[],\"properties\":[{\"default\":\"\",\"kind\":null,\"name\":\"terminal_output\"},{\"default\":\"\",\"kind\":null,\"name\":\"debug_name\"},{\"default\":0,\"kind\":null,\"name\":\"clears\"}]},{\"extends\":null,\"module\":null,\"name\":\"NotificationAreaBase1\",\"overrides\":[],\"properties\":[{\"default\":\"bottom-right\",\"kind\":null,\"name\":\"position\"},{\"default\":0,\"kind\":null,\"name\":\"_clear\"}]},{\"extends\":null,\"module\":null,\"name\":\"NotificationArea1\",\"overrides\":[],\"properties\":[{\"default\":[],\"kind\":null,\"name\":\"notifications\"},{\"default\":\"bottom-right\",\"kind\":null,\"name\":\"position\"},{\"default\":0,\"kind\":null,\"name\":\"_clear\"},{\"default\":[{\"background\":\"#ffc107\",\"icon\":{\"className\":\"fas fa-exclamation-triangle\",\"color\":\"white\",\"tagName\":\"i\"},\"type\":\"warning\"},{\"background\":\"#007bff\",\"icon\":{\"className\":\"fas fa-info-circle\",\"color\":\"white\",\"tagName\":\"i\"},\"type\":\"info\"}],\"kind\":null,\"name\":\"types\"}]},{\"extends\":null,\"module\":null,\"name\":\"Notification\",\"overrides\":[],\"properties\":[{\"default\":null,\"kind\":null,\"name\":\"background\"},{\"default\":3000,\"kind\":null,\"name\":\"duration\"},{\"default\":null,\"kind\":null,\"name\":\"icon\"},{\"default\":\"\",\"kind\":null,\"name\":\"message\"},{\"default\":null,\"kind\":null,\"name\":\"notification_type\"},{\"default\":false,\"kind\":null,\"name\":\"_destroyed\"}]},{\"extends\":null,\"module\":null,\"name\":\"TemplateActions1\",\"overrides\":[],\"properties\":[{\"default\":0,\"kind\":null,\"name\":\"open_modal\"},{\"default\":0,\"kind\":null,\"name\":\"close_modal\"}]},{\"extends\":null,\"module\":null,\"name\":\"MaterialTemplateActions1\",\"overrides\":[],\"properties\":[{\"default\":0,\"kind\":null,\"name\":\"open_modal\"},{\"default\":0,\"kind\":null,\"name\":\"close_modal\"}]}],\"roots\":{\"references\":[{\"attributes\":{\"children\":[{\"id\":\"1045\"}],\"margin\":[0,0,0,0],\"name\":\"Row00146\"},\"id\":\"1044\",\"type\":\"Row\"},{\"attributes\":{\"data\":{\"$schema\":\"https://vega.github.io/schema/vega-lite/v5.15.1.json\",\"config\":{\"view\":{\"continuousHeight\":300,\"continuousWidth\":300}},\"data\":{\"url\":\"https://raw.githubusercontent.com/vega/vega/master/docs/data/penguins.json\"},\"encoding\":{\"color\":{\"condition\":{\"field\":\"Species\",\"param\":\"brush\",\"type\":\"nominal\"},\"value\":\"lightgray\"},\"x\":{\"field\":\"Beak Length (mm)\",\"scale\":{\"zero\":false},\"type\":\"quantitative\"},\"y\":{\"field\":\"Beak Depth (mm)\",\"scale\":{\"zero\":false},\"type\":\"quantitative\"}},\"height\":250,\"mark\":{\"type\":\"point\"},\"params\":[{\"name\":\"brush\",\"select\":{\"type\":\"interval\"}}],\"width\":250},\"events\":[\"brush\"],\"height\":322,\"margin\":[5,5,30,5],\"subscribed_events\":[\"vega_event\"],\"throttle\":{\"brush\":10},\"width\":322},\"id\":\"1043\",\"type\":\"panel.models.vega.VegaPlot\"},{\"attributes\":{\"css_classes\":[\"markdown\"],\"margin\":[5,5,5,5],\"name\":\"ParamFunction00142\",\"text\":\"&lt;h2&gt;No selection&lt;/h2&gt;\"},\"id\":\"1045\",\"type\":\"panel.models.markup.HTML\"},{\"attributes\":{\"children\":[{\"id\":\"1043\"},{\"id\":\"1044\"}],\"margin\":[0,0,0,0],\"name\":\"Column00149\"},\"id\":\"1042\",\"type\":\"Column\"},{\"attributes\":{\"client_comm_id\":\"d39c60a0c7a146fc9b4ba53f1f6cba0c\",\"comm_id\":\"415e6d48cd094b1e8192ec9b06f2af1c\",\"plot_id\":\"1042\"},\"id\":\"1046\",\"type\":\"panel.models.comm_manager.CommManager\"}],\"root_ids\":[\"1042\",\"1046\"]},\"title\":\"Bokeh Application\",\"version\":\"2.4.3\"}};\n",
       "    var render_items = [{\"docid\":\"15f53efb-7609-4d2a-8281-0723f27bfa4f\",\"root_ids\":[\"1042\"],\"roots\":{\"1042\":\"de88e073-0094-4c98-a57e-3c8217f85a58\"}}];\n",
       "    root.Bokeh.embed.embed_items_notebook(docs_json, render_items);\n",
       "    for (const render_item of render_items) {\n",
       "      for (const root_id of render_item.root_ids) {\n",
       "\tconst id_el = document.getElementById(root_id)\n",
       "\tif (id_el.children.length && (id_el.children[0].className === 'bk-root')) {\n",
       "\t  const root_el = id_el.children[0]\n",
       "\t  root_el.id = root_el.id + '-rendered'\n",
       "\t}\n",
       "      }\n",
       "    }\n",
       "  }\n",
       "  if (root.Bokeh !== undefined && root.Bokeh.Panel !== undefined && ( root['vega'] !== undefined)) {\n",
       "    embed_document(root);\n",
       "  } else {\n",
       "    var attempts = 0;\n",
       "    var timer = setInterval(function(root) {\n",
       "      if (root.Bokeh !== undefined && root.Bokeh.Panel !== undefined && (root['vega'] !== undefined)) {\n",
       "        clearInterval(timer);\n",
       "        embed_document(root);\n",
       "      } else if (document.readyState == \"complete\") {\n",
       "        attempts++;\n",
       "        if (attempts > 200) {\n",
       "          clearInterval(timer);\n",
       "          console.log(\"Bokeh: ERROR: Unable to run BokehJS code because BokehJS library is missing\");\n",
       "        }\n",
       "      }\n",
       "    }, 25, root)\n",
       "  }\n",
       "})(window);</script>"
      ],
      "text/plain": [
       "Column\n",
       "    [0] Vega(Chart, debounce=10, selection=Selection)\n",
       "    [1] ParamFunction(function, _pane=Markdown)"
      ]
     },
     "execution_count": 21,
     "metadata": {
      "application/vnd.holoviews_exec.v0+json": {
       "id": "1042"
      }
     },
     "output_type": "execute_result"
    }
   ],
   "source": [
    "def bar_counts(selection):\n",
    "    if not selection:\n",
    "        return '## No selection'\n",
    "    range_predicate = {\n",
    "        'and': [{\n",
    "            'field': key,\n",
    "            'range': [selection[key][0], selection[key][1]]\n",
    "        } for key in selection]\n",
    "    }\n",
    "    return alt.Chart(penguins_url, width=220).mark_bar().encode(\n",
    "        x='count()',\n",
    "        y='Species:N',\n",
    "        color=alt.Color('Species:N', legend=None)\n",
    "    ).transform_filter(\n",
    "        range_predicate\n",
    "    )\n",
    "\n",
    "pn.Column(vega_pane, pn.bind(bar_counts, vega_pane.selection.param.brush))"
   ]
  },
  {
   "cell_type": "code",
   "execution_count": 24,
   "id": "d873a412",
   "metadata": {
    "ExecuteTime": {
     "end_time": "2023-10-06T16:31:29.914482Z",
     "start_time": "2023-10-06T16:31:29.896472Z"
    }
   },
   "outputs": [],
   "source": [
    "query = ' & '.join([f'`{col}` in {values}' for col, values in selection.items()])"
   ]
  },
  {
   "cell_type": "code",
   "execution_count": 25,
   "id": "86dc2e5c",
   "metadata": {
    "ExecuteTime": {
     "end_time": "2023-10-06T16:31:43.140835Z",
     "start_time": "2023-10-06T16:31:42.823264Z"
    }
   },
   "outputs": [
    {
     "data": {},
     "metadata": {},
     "output_type": "display_data"
    },
    {
     "data": {
      "application/vnd.holoviews_exec.v0+json": "",
      "text/html": [
       "<div id='1047'>\n",
       "  <div class=\"bk-root\" id=\"cd6fd996-f845-4601-872e-b852e8634fe0\" data-root-id=\"1047\"></div>\n",
       "</div>\n",
       "<script type=\"application/javascript\">(function(root) {\n",
       "  function embed_document(root) {\n",
       "    var docs_json = {\"1610e257-ac68-4ad3-b1d7-c69eca8f2b0a\":{\"defs\":[{\"extends\":null,\"module\":null,\"name\":\"ReactiveHTML1\",\"overrides\":[],\"properties\":[]},{\"extends\":null,\"module\":null,\"name\":\"FlexBox1\",\"overrides\":[],\"properties\":[{\"default\":\"flex-start\",\"kind\":null,\"name\":\"align_content\"},{\"default\":\"flex-start\",\"kind\":null,\"name\":\"align_items\"},{\"default\":\"row\",\"kind\":null,\"name\":\"flex_direction\"},{\"default\":\"wrap\",\"kind\":null,\"name\":\"flex_wrap\"},{\"default\":\"flex-start\",\"kind\":null,\"name\":\"justify_content\"}]},{\"extends\":null,\"module\":null,\"name\":\"GridStack1\",\"overrides\":[],\"properties\":[{\"default\":\"warn\",\"kind\":null,\"name\":\"mode\"},{\"default\":null,\"kind\":null,\"name\":\"ncols\"},{\"default\":null,\"kind\":null,\"name\":\"nrows\"},{\"default\":true,\"kind\":null,\"name\":\"allow_resize\"},{\"default\":true,\"kind\":null,\"name\":\"allow_drag\"},{\"default\":[],\"kind\":null,\"name\":\"state\"}]},{\"extends\":null,\"module\":null,\"name\":\"click1\",\"overrides\":[],\"properties\":[{\"default\":\"\",\"kind\":null,\"name\":\"terminal_output\"},{\"default\":\"\",\"kind\":null,\"name\":\"debug_name\"},{\"default\":0,\"kind\":null,\"name\":\"clears\"}]},{\"extends\":null,\"module\":null,\"name\":\"NotificationAreaBase1\",\"overrides\":[],\"properties\":[{\"default\":\"bottom-right\",\"kind\":null,\"name\":\"position\"},{\"default\":0,\"kind\":null,\"name\":\"_clear\"}]},{\"extends\":null,\"module\":null,\"name\":\"NotificationArea1\",\"overrides\":[],\"properties\":[{\"default\":[],\"kind\":null,\"name\":\"notifications\"},{\"default\":\"bottom-right\",\"kind\":null,\"name\":\"position\"},{\"default\":0,\"kind\":null,\"name\":\"_clear\"},{\"default\":[{\"background\":\"#ffc107\",\"icon\":{\"className\":\"fas fa-exclamation-triangle\",\"color\":\"white\",\"tagName\":\"i\"},\"type\":\"warning\"},{\"background\":\"#007bff\",\"icon\":{\"className\":\"fas fa-info-circle\",\"color\":\"white\",\"tagName\":\"i\"},\"type\":\"info\"}],\"kind\":null,\"name\":\"types\"}]},{\"extends\":null,\"module\":null,\"name\":\"Notification\",\"overrides\":[],\"properties\":[{\"default\":null,\"kind\":null,\"name\":\"background\"},{\"default\":3000,\"kind\":null,\"name\":\"duration\"},{\"default\":null,\"kind\":null,\"name\":\"icon\"},{\"default\":\"\",\"kind\":null,\"name\":\"message\"},{\"default\":null,\"kind\":null,\"name\":\"notification_type\"},{\"default\":false,\"kind\":null,\"name\":\"_destroyed\"}]},{\"extends\":null,\"module\":null,\"name\":\"TemplateActions1\",\"overrides\":[],\"properties\":[{\"default\":0,\"kind\":null,\"name\":\"open_modal\"},{\"default\":0,\"kind\":null,\"name\":\"close_modal\"}]},{\"extends\":null,\"module\":null,\"name\":\"MaterialTemplateActions1\",\"overrides\":[],\"properties\":[{\"default\":0,\"kind\":null,\"name\":\"open_modal\"},{\"default\":0,\"kind\":null,\"name\":\"close_modal\"}]}],\"roots\":{\"references\":[{\"attributes\":{\"client_comm_id\":\"03398fc2d10b4fdea88cc4f5700f13ab\",\"comm_id\":\"93f82ac5c0e44cb29c80f5aca7f8e8de\",\"plot_id\":\"1047\"},\"id\":\"1058\",\"type\":\"panel.models.comm_manager.CommManager\"},{\"attributes\":{\"children\":[{\"id\":\"1049\"},{\"id\":\"1050\"}],\"margin\":[0,0,0,0],\"name\":\"Row00162\"},\"id\":\"1047\",\"type\":\"Row\"},{\"attributes\":{},\"id\":\"1053\",\"type\":\"Selection\"},{\"attributes\":{},\"id\":\"1052\",\"type\":\"UnionRenderers\"},{\"attributes\":{\"css_classes\":[\"markdown\"],\"margin\":[5,5,5,5],\"name\":\"ParamFunction00155\",\"text\":\"&lt;h2&gt;No selection&lt;/h2&gt;\"},\"id\":\"1051\",\"type\":\"panel.models.markup.HTML\"},{\"attributes\":{\"data\":{\"$schema\":\"https://vega.github.io/schema/vega-lite/v5.15.1.json\",\"config\":{\"view\":{\"continuousHeight\":300,\"continuousWidth\":300}},\"data\":{\"name\":\"data-d7e7d3a006e30f7795655a1e9e190879\"},\"datasets\":{},\"encoding\":{\"color\":{\"condition\":{\"field\":\"Species\",\"param\":\"brush\",\"type\":\"nominal\"},\"value\":\"lightgray\"},\"x\":{\"field\":\"Beak Length (mm)\",\"scale\":{\"zero\":false},\"type\":\"quantitative\"},\"y\":{\"field\":\"Species\",\"type\":\"nominal\"}},\"mark\":{\"type\":\"tick\"},\"params\":[{\"name\":\"brush\",\"select\":{\"type\":\"interval\"}}]},\"data_sources\":{\"data-d7e7d3a006e30f7795655a1e9e190879\":{\"id\":\"1048\"}},\"events\":[\"brush\"],\"height\":322,\"margin\":[5,5,30,5],\"subscribed_events\":[\"vega_event\"],\"throttle\":{\"brush\":10},\"width\":322},\"id\":\"1049\",\"type\":\"panel.models.vega.VegaPlot\"},{\"attributes\":{\"children\":[{\"id\":\"1051\"}],\"margin\":[0,0,0,0],\"name\":\"Row00159\"},\"id\":\"1050\",\"type\":\"Row\"},{\"attributes\":{\"data\":{\"Beak Depth (mm)\":{\"__ndarray__\":\"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\",\"dtype\":\"float64\",\"order\":\"little\",\"shape\":[344]},\"Beak Length (mm)\":{\"__ndarray__\":\"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\",\"dtype\":\"float64\",\"order\":\"little\",\"shape\":[344]},\"Body Mass (g)\":{\"__ndarray__\":\"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\",\"dtype\":\"float64\",\"order\":\"little\",\"shape\":[344]},\"Flipper Length (mm)\":{\"__ndarray__\":\"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\",\"dtype\":\"float64\",\"order\":\"little\",\"shape\":[344]},\"Island\":[\"Torgersen\",\"Torgersen\",\"Torgersen\",\"Torgersen\",\"Torgersen\",\"Torgersen\",\"Torgersen\",\"Torgersen\",\"Torgersen\",\"Torgersen\",\"Torgersen\",\"Torgersen\",\"Torgersen\",\"Torgersen\",\"Torgersen\",\"Torgersen\",\"Torgersen\",\"Torgersen\",\"Torgersen\",\"Torgersen\",\"Biscoe\",\"Biscoe\",\"Biscoe\",\"Biscoe\",\"Biscoe\",\"Biscoe\",\"Biscoe\",\"Biscoe\",\"Biscoe\",\"Biscoe\",\"Dream\",\"Dream\",\"Dream\",\"Dream\",\"Dream\",\"Dream\",\"Dream\",\"Dream\",\"Dream\",\"Dream\",\"Dream\",\"Dream\",\"Dream\",\"Dream\",\"Dream\",\"Dream\",\"Dream\",\"Dream\",\"Dream\",\"Dream\",\"Biscoe\",\"Biscoe\",\"Biscoe\",\"Biscoe\",\"Biscoe\",\"Biscoe\",\"Biscoe\",\"Biscoe\",\"Biscoe\",\"Biscoe\",\"Biscoe\",\"Biscoe\",\"Biscoe\",\"Biscoe\",\"Biscoe\",\"Biscoe\",\"Biscoe\",\"Biscoe\",\"Torgersen\",\"Torgersen\",\"Torgersen\",\"Torgersen\",\"Torgersen\",\"Torgersen\",\"Torgersen\",\"Torgersen\",\"Torgersen\",\"Torgersen\",\"Torgersen\",\"Torgersen\",\"Torgersen\",\"Torgersen\",\"Torgersen\",\"Torgersen\",\"Dream\",\"Dream\",\"Dream\",\"Dream\",\"Dream\",\"Dream\",\"Dream\",\"Dream\",\"Dream\",\"Dream\",\"Dream\",\"Dream\",\"Dream\",\"Dream\",\"Dream\",\"Dream\",\"Biscoe\",\"Biscoe\",\"Biscoe\",\"Biscoe\",\"Biscoe\",\"Biscoe\",\"Biscoe\",\"Biscoe\",\"Biscoe\",\"Biscoe\",\"Biscoe\",\"Biscoe\",\"Biscoe\",\"Biscoe\",\"Biscoe\",\"Biscoe\",\"Torgersen\",\"Torgersen\",\"Torgersen\",\"Torgersen\",\"Torgersen\",\"Torgersen\",\"Torgersen\",\"Torgersen\",\"Torgersen\",\"Torgersen\",\"Torgersen\",\"Torgersen\",\"Torgersen\",\"Torgersen\",\"Torgersen\",\"Torgersen\",\"Dream\",\"Dream\",\"Dream\",\"Dream\",\"Dream\",\"Dream\",\"Dream\",\"Dream\",\"Dream\",\"Dream\",\"Dream\",\"Dream\",\"Dream\",\"Dream\",\"Dream\",\"Dream\",\"Dream\",\"Dream\",\"Dream\",\"Dream\",\"Dream\",\"Dream\",\"Dream\",\"Dream\",\"Dream\",\"Dream\",\"Dream\",\"Dream\",\"Dream\",\"Dream\",\"Dream\",\"Dream\",\"Dream\",\"Dream\",\"Dream\",\"Dream\",\"Dream\",\"Dream\",\"Dream\",\"Dream\",\"Dream\",\"Dream\",\"Dream\",\"Dream\",\"Dream\",\"Dream\",\"Dream\",\"Dream\",\"Dream\",\"Dream\",\"Dream\",\"Dream\",\"Dream\",\"Dream\",\"Dream\",\"Dream\",\"Dream\",\"Dream\",\"Dream\",\"Dream\",\"Dream\",\"Dream\",\"Dream\",\"Dream\",\"Dream\",\"Dream\",\"Dream\",\"Dream\",\"Dream\",\"Dream\",\"Dream\",\"Dream\",\"Dream\",\"Dream\",\"Dream\",\"Dream\",\"Dream\",\"Dream\",\"Dream\",\"Dream\",\"Dream\",\"Dream\",\"Dream\",\"Dream\",\"Dream\",\"Dream\",\"Dream\",\"Dream\",\"Biscoe\",\"Biscoe\",\"Biscoe\",\"Biscoe\",\"Biscoe\",\"Biscoe\",\"Biscoe\",\"Biscoe\",\"Biscoe\",\"Biscoe\",\"Biscoe\",\"Biscoe\",\"Biscoe\",\"Biscoe\",\"Biscoe\",\"Biscoe\",\"Biscoe\",\"Biscoe\",\"Biscoe\",\"Biscoe\",\"Biscoe\",\"Biscoe\",\"Biscoe\",\"Biscoe\",\"Biscoe\",\"Biscoe\",\"Biscoe\",\"Biscoe\",\"Biscoe\",\"Biscoe\",\"Biscoe\",\"Biscoe\",\"Biscoe\",\"Biscoe\",\"Biscoe\",\"Biscoe\",\"Biscoe\",\"Biscoe\",\"Biscoe\",\"Biscoe\",\"Biscoe\",\"Biscoe\",\"Biscoe\",\"Biscoe\",\"Biscoe\",\"Biscoe\",\"Biscoe\",\"Biscoe\",\"Biscoe\",\"Biscoe\",\"Biscoe\",\"Biscoe\",\"Biscoe\",\"Biscoe\",\"Biscoe\",\"Biscoe\",\"Biscoe\",\"Biscoe\",\"Biscoe\",\"Biscoe\",\"Biscoe\",\"Biscoe\",\"Biscoe\",\"Biscoe\",\"Biscoe\",\"Biscoe\",\"Biscoe\",\"Biscoe\",\"Biscoe\",\"Biscoe\",\"Biscoe\",\"Biscoe\",\"Biscoe\",\"Biscoe\",\"Biscoe\",\"Biscoe\",\"Biscoe\",\"Biscoe\",\"Biscoe\",\"Biscoe\",\"Biscoe\",\"Biscoe\",\"Biscoe\",\"Biscoe\",\"Biscoe\",\"Biscoe\",\"Biscoe\",\"Biscoe\",\"Biscoe\",\"Biscoe\",\"Biscoe\",\"Biscoe\",\"Biscoe\",\"Biscoe\",\"Biscoe\",\"Biscoe\",\"Biscoe\",\"Biscoe\",\"Biscoe\",\"Biscoe\",\"Biscoe\",\"Biscoe\",\"Biscoe\",\"Biscoe\",\"Biscoe\",\"Biscoe\",\"Biscoe\",\"Biscoe\",\"Biscoe\",\"Biscoe\",\"Biscoe\",\"Biscoe\",\"Biscoe\",\"Biscoe\",\"Biscoe\",\"Biscoe\",\"Biscoe\",\"Biscoe\",\"Biscoe\",\"Biscoe\",\"Biscoe\",\"Biscoe\",\"Biscoe\",\"Biscoe\"],\"Sex\":[\"MALE\",\"FEMALE\",\"FEMALE\",\"NaN\",\"FEMALE\",\"MALE\",\"FEMALE\",\"MALE\",\"NaN\",\"NaN\",\"NaN\",\"NaN\",\"FEMALE\",\"MALE\",\"MALE\",\"FEMALE\",\"FEMALE\",\"MALE\",\"FEMALE\",\"MALE\",\"FEMALE\",\"MALE\",\"FEMALE\",\"MALE\",\"MALE\",\"FEMALE\",\"MALE\",\"FEMALE\",\"FEMALE\",\"MALE\",\"FEMALE\",\"MALE\",\"FEMALE\",\"MALE\",\"FEMALE\",\"MALE\",\"MALE\",\"FEMALE\",\"FEMALE\",\"MALE\",\"FEMALE\",\"MALE\",\"FEMALE\",\"MALE\",\"FEMALE\",\"MALE\",\"MALE\",\"NaN\",\"FEMALE\",\"MALE\",\"FEMALE\",\"MALE\",\"FEMALE\",\"MALE\",\"FEMALE\",\"MALE\",\"FEMALE\",\"MALE\",\"FEMALE\",\"MALE\",\"FEMALE\",\"MALE\",\"FEMALE\",\"MALE\",\"FEMALE\",\"MALE\",\"FEMALE\",\"MALE\",\"FEMALE\",\"MALE\",\"FEMALE\",\"MALE\",\"FEMALE\",\"MALE\",\"FEMALE\",\"MALE\",\"FEMALE\",\"MALE\",\"FEMALE\",\"MALE\",\"FEMALE\",\"MALE\",\"FEMALE\",\"MALE\",\"FEMALE\",\"MALE\",\"MALE\",\"FEMALE\",\"MALE\",\"FEMALE\",\"FEMALE\",\"MALE\",\"FEMALE\",\"MALE\",\"FEMALE\",\"MALE\",\"FEMALE\",\"MALE\",\"FEMALE\",\"MALE\",\"FEMALE\",\"MALE\",\"FEMALE\",\"MALE\",\"FEMALE\",\"MALE\",\"FEMALE\",\"MALE\",\"FEMALE\",\"MALE\",\"FEMALE\",\"MALE\",\"FEMALE\",\"MALE\",\"FEMALE\",\"MALE\",\"FEMALE\",\"MALE\",\"FEMALE\",\"MALE\",\"FEMALE\",\"MALE\",\"FEMALE\",\"MALE\",\"FEMALE\",\"MALE\",\"FEMALE\",\"MALE\",\"FEMALE\",\"MALE\",\"FEMALE\",\"MALE\",\"FEMALE\",\"MALE\",\"FEMALE\",\"MALE\",\"FEMALE\",\"MALE\",\"FEMALE\",\"MALE\",\"FEMALE\",\"MALE\",\"FEMALE\",\"MALE\",\"FEMALE\",\"MALE\",\"MALE\",\"FEMALE\",\"FEMALE\",\"MALE\",\"FEMALE\",\"MALE\",\"FEMALE\",\"MALE\",\"MALE\",\"FEMALE\",\"MALE\",\"FEMALE\",\"FEMALE\",\"MALE\",\"FEMALE\",\"MALE\",\"FEMALE\",\"MALE\",\"FEMALE\",\"MALE\",\"FEMALE\",\"MALE\",\"MALE\",\"FEMALE\",\"FEMALE\",\"MALE\",\"FEMALE\",\"MALE\",\"FEMALE\",\"MALE\",\"FEMALE\",\"MALE\",\"FEMALE\",\"MALE\",\"FEMALE\",\"MALE\",\"FEMALE\",\"MALE\",\"FEMALE\",\"MALE\",\"MALE\",\"FEMALE\",\"FEMALE\",\"MALE\",\"FEMALE\",\"MALE\",\"MALE\",\"FEMALE\",\"MALE\",\"FEMALE\",\"FEMALE\",\"MALE\",\"FEMALE\",\"MALE\",\"MALE\",\"FEMALE\",\"FEMALE\",\"MALE\",\"FEMALE\",\"MALE\",\"FEMALE\",\"MALE\",\"FEMALE\",\"MALE\",\"MALE\",\"FEMALE\",\"MALE\",\"FEMALE\",\"FEMALE\",\"MALE\",\"FEMALE\",\"MALE\",\"MALE\",\"FEMALE\",\"FEMALE\",\"MALE\",\"FEMALE\",\"MALE\",\"MALE\",\"FEMALE\",\"FEMALE\",\"MALE\",\"FEMALE\",\"MALE\",\"FEMALE\",\"MALE\",\"FEMALE\",\"MALE\",\"FEMALE\",\"MALE\",\"FEMALE\",\"MALE\",\"FEMALE\",\"MALE\",\"MALE\",\"FEMALE\",\"FEMALE\",\"MALE\",\"FEMALE\",\"MALE\",\"NaN\",\"MALE\",\"FEMALE\",\"MALE\",\"MALE\",\"FEMALE\",\"FEMALE\",\"MALE\",\"FEMALE\",\"MALE\",\"FEMALE\",\"MALE\",\"FEMALE\",\"MALE\",\"FEMALE\",\"MALE\",\"FEMALE\",\"MALE\",\"MALE\",\"FEMALE\",\"FEMALE\",\"MALE\",\"FEMALE\",\"MALE\",\"FEMALE\",\"MALE\",\"FEMALE\",\"MALE\",\"FEMALE\",\"MALE\",\"FEMALE\",\"MALE\",\"FEMALE\",\"MALE\",\"FEMALE\",\"MALE\",\"FEMALE\",\"MALE\",\"FEMALE\",\"MALE\",\"NaN\",\"MALE\",\"FEMALE\",\"MALE\",\"FEMALE\",\"MALE\",\"MALE\",\"FEMALE\",\"FEMALE\",\"MALE\",\"FEMALE\",\"MALE\",\"FEMALE\",\"MALE\",\"FEMALE\",\"MALE\",\"FEMALE\",\"MALE\",\"FEMALE\",\"MALE\",\"FEMALE\",\"MALE\",\"FEMALE\",\"MALE\",\"FEMALE\",\"MALE\",\"FEMALE\",\"MALE\",\"FEMALE\",\"MALE\",\"MALE\",\"FEMALE\",\"FEMALE\",\"MALE\",\"FEMALE\",\"MALE\",\"FEMALE\",\"MALE\",\"NaN\",\"MALE\",\"FEMALE\",\"MALE\",\"FEMALE\",\"MALE\",\"FEMALE\",\"MALE\",\"FEMALE\",\"MALE\",\"FEMALE\",\"MALE\",\".\",\"MALE\",\"FEMALE\",\"NaN\",\"FEMALE\",\"MALE\",\"FEMALE\",\"MALE\"],\"Species\":[\"Adelie\",\"Adelie\",\"Adelie\",\"Adelie\",\"Adelie\",\"Adelie\",\"Adelie\",\"Adelie\",\"Adelie\",\"Adelie\",\"Adelie\",\"Adelie\",\"Adelie\",\"Adelie\",\"Adelie\",\"Adelie\",\"Adelie\",\"Adelie\",\"Adelie\",\"Adelie\",\"Adelie\",\"Adelie\",\"Adelie\",\"Adelie\",\"Adelie\",\"Adelie\",\"Adelie\",\"Adelie\",\"Adelie\",\"Adelie\",\"Adelie\",\"Adelie\",\"Adelie\",\"Adelie\",\"Adelie\",\"Adelie\",\"Adelie\",\"Adelie\",\"Adelie\",\"Adelie\",\"Adelie\",\"Adelie\",\"Adelie\",\"Adelie\",\"Adelie\",\"Adelie\",\"Adelie\",\"Adelie\",\"Adelie\",\"Adelie\",\"Adelie\",\"Adelie\",\"Adelie\",\"Adelie\",\"Adelie\",\"Adelie\",\"Adelie\",\"Adelie\",\"Adelie\",\"Adelie\",\"Adelie\",\"Adelie\",\"Adelie\",\"Adelie\",\"Adelie\",\"Adelie\",\"Adelie\",\"Adelie\",\"Adelie\",\"Adelie\",\"Adelie\",\"Adelie\",\"Adelie\",\"Adelie\",\"Adelie\",\"Adelie\",\"Adelie\",\"Adelie\",\"Adelie\",\"Adelie\",\"Adelie\",\"Adelie\",\"Adelie\",\"Adelie\",\"Adelie\",\"Adelie\",\"Adelie\",\"Adelie\",\"Adelie\",\"Adelie\",\"Adelie\",\"Adelie\",\"Adelie\",\"Adelie\",\"Adelie\",\"Adelie\",\"Adelie\",\"Adelie\",\"Adelie\",\"Adelie\",\"Adelie\",\"Adelie\",\"Adelie\",\"Adelie\",\"Adelie\",\"Adelie\",\"Adelie\",\"Adelie\",\"Adelie\",\"Adelie\",\"Adelie\",\"Adelie\",\"Adelie\",\"Adelie\",\"Adelie\",\"Adelie\",\"Adelie\",\"Adelie\",\"Adelie\",\"Adelie\",\"Adelie\",\"Adelie\",\"Adelie\",\"Adelie\",\"Adelie\",\"Adelie\",\"Adelie\",\"Adelie\",\"Adelie\",\"Adelie\",\"Adelie\",\"Adelie\",\"Adelie\",\"Adelie\",\"Adelie\",\"Adelie\",\"Adelie\",\"Adelie\",\"Adelie\",\"Adelie\",\"Adelie\",\"Adelie\",\"Adelie\",\"Adelie\",\"Adelie\",\"Adelie\",\"Adelie\",\"Adelie\",\"Adelie\",\"Adelie\",\"Adelie\",\"Adelie\",\"Chinstrap\",\"Chinstrap\",\"Chinstrap\",\"Chinstrap\",\"Chinstrap\",\"Chinstrap\",\"Chinstrap\",\"Chinstrap\",\"Chinstrap\",\"Chinstrap\",\"Chinstrap\",\"Chinstrap\",\"Chinstrap\",\"Chinstrap\",\"Chinstrap\",\"Chinstrap\",\"Chinstrap\",\"Chinstrap\",\"Chinstrap\",\"Chinstrap\",\"Chinstrap\",\"Chinstrap\",\"Chinstrap\",\"Chinstrap\",\"Chinstrap\",\"Chinstrap\",\"Chinstrap\",\"Chinstrap\",\"Chinstrap\",\"Chinstrap\",\"Chinstrap\",\"Chinstrap\",\"Chinstrap\",\"Chinstrap\",\"Chinstrap\",\"Chinstrap\",\"Chinstrap\",\"Chinstrap\",\"Chinstrap\",\"Chinstrap\",\"Chinstrap\",\"Chinstrap\",\"Chinstrap\",\"Chinstrap\",\"Chinstrap\",\"Chinstrap\",\"Chinstrap\",\"Chinstrap\",\"Chinstrap\",\"Chinstrap\",\"Chinstrap\",\"Chinstrap\",\"Chinstrap\",\"Chinstrap\",\"Chinstrap\",\"Chinstrap\",\"Chinstrap\",\"Chinstrap\",\"Chinstrap\",\"Chinstrap\",\"Chinstrap\",\"Chinstrap\",\"Chinstrap\",\"Chinstrap\",\"Chinstrap\",\"Chinstrap\",\"Chinstrap\",\"Chinstrap\",\"Gentoo\",\"Gentoo\",\"Gentoo\",\"Gentoo\",\"Gentoo\",\"Gentoo\",\"Gentoo\",\"Gentoo\",\"Gentoo\",\"Gentoo\",\"Gentoo\",\"Gentoo\",\"Gentoo\",\"Gentoo\",\"Gentoo\",\"Gentoo\",\"Gentoo\",\"Gentoo\",\"Gentoo\",\"Gentoo\",\"Gentoo\",\"Gentoo\",\"Gentoo\",\"Gentoo\",\"Gentoo\",\"Gentoo\",\"Gentoo\",\"Gentoo\",\"Gentoo\",\"Gentoo\",\"Gentoo\",\"Gentoo\",\"Gentoo\",\"Gentoo\",\"Gentoo\",\"Gentoo\",\"Gentoo\",\"Gentoo\",\"Gentoo\",\"Gentoo\",\"Gentoo\",\"Gentoo\",\"Gentoo\",\"Gentoo\",\"Gentoo\",\"Gentoo\",\"Gentoo\",\"Gentoo\",\"Gentoo\",\"Gentoo\",\"Gentoo\",\"Gentoo\",\"Gentoo\",\"Gentoo\",\"Gentoo\",\"Gentoo\",\"Gentoo\",\"Gentoo\",\"Gentoo\",\"Gentoo\",\"Gentoo\",\"Gentoo\",\"Gentoo\",\"Gentoo\",\"Gentoo\",\"Gentoo\",\"Gentoo\",\"Gentoo\",\"Gentoo\",\"Gentoo\",\"Gentoo\",\"Gentoo\",\"Gentoo\",\"Gentoo\",\"Gentoo\",\"Gentoo\",\"Gentoo\",\"Gentoo\",\"Gentoo\",\"Gentoo\",\"Gentoo\",\"Gentoo\",\"Gentoo\",\"Gentoo\",\"Gentoo\",\"Gentoo\",\"Gentoo\",\"Gentoo\",\"Gentoo\",\"Gentoo\",\"Gentoo\",\"Gentoo\",\"Gentoo\",\"Gentoo\",\"Gentoo\",\"Gentoo\",\"Gentoo\",\"Gentoo\",\"Gentoo\",\"Gentoo\",\"Gentoo\",\"Gentoo\",\"Gentoo\",\"Gentoo\",\"Gentoo\",\"Gentoo\",\"Gentoo\",\"Gentoo\",\"Gentoo\",\"Gentoo\",\"Gentoo\",\"Gentoo\",\"Gentoo\",\"Gentoo\",\"Gentoo\",\"Gentoo\",\"Gentoo\",\"Gentoo\",\"Gentoo\",\"Gentoo\",\"Gentoo\",\"Gentoo\",\"Gentoo\",\"Gentoo\"],\"index\":[0,1,2,3,4,5,6,7,8,9,10,11,12,13,14,15,16,17,18,19,20,21,22,23,24,25,26,27,28,29,30,31,32,33,34,35,36,37,38,39,40,41,42,43,44,45,46,47,48,49,50,51,52,53,54,55,56,57,58,59,60,61,62,63,64,65,66,67,68,69,70,71,72,73,74,75,76,77,78,79,80,81,82,83,84,85,86,87,88,89,90,91,92,93,94,95,96,97,98,99,100,101,102,103,104,105,106,107,108,109,110,111,112,113,114,115,116,117,118,119,120,121,122,123,124,125,126,127,128,129,130,131,132,133,134,135,136,137,138,139,140,141,142,143,144,145,146,147,148,149,150,151,152,153,154,155,156,157,158,159,160,161,162,163,164,165,166,167,168,169,170,171,172,173,174,175,176,177,178,179,180,181,182,183,184,185,186,187,188,189,190,191,192,193,194,195,196,197,198,199,200,201,202,203,204,205,206,207,208,209,210,211,212,213,214,215,216,217,218,219,220,221,222,223,224,225,226,227,228,229,230,231,232,233,234,235,236,237,238,239,240,241,242,243,244,245,246,247,248,249,250,251,252,253,254,255,256,257,258,259,260,261,262,263,264,265,266,267,268,269,270,271,272,273,274,275,276,277,278,279,280,281,282,283,284,285,286,287,288,289,290,291,292,293,294,295,296,297,298,299,300,301,302,303,304,305,306,307,308,309,310,311,312,313,314,315,316,317,318,319,320,321,322,323,324,325,326,327,328,329,330,331,332,333,334,335,336,337,338,339,340,341,342,343]},\"selected\":{\"id\":\"1053\"},\"selection_policy\":{\"id\":\"1052\"}},\"id\":\"1048\",\"type\":\"ColumnDataSource\"}],\"root_ids\":[\"1047\",\"1058\"]},\"title\":\"Bokeh Application\",\"version\":\"2.4.3\"}};\n",
       "    var render_items = [{\"docid\":\"1610e257-ac68-4ad3-b1d7-c69eca8f2b0a\",\"root_ids\":[\"1047\"],\"roots\":{\"1047\":\"cd6fd996-f845-4601-872e-b852e8634fe0\"}}];\n",
       "    root.Bokeh.embed.embed_items_notebook(docs_json, render_items);\n",
       "    for (const render_item of render_items) {\n",
       "      for (const root_id of render_item.root_ids) {\n",
       "\tconst id_el = document.getElementById(root_id)\n",
       "\tif (id_el.children.length && (id_el.children[0].className === 'bk-root')) {\n",
       "\t  const root_el = id_el.children[0]\n",
       "\t  root_el.id = root_el.id + '-rendered'\n",
       "\t}\n",
       "      }\n",
       "    }\n",
       "  }\n",
       "  if (root.Bokeh !== undefined && root.Bokeh.Panel !== undefined && ( root['vega'] !== undefined)) {\n",
       "    embed_document(root);\n",
       "  } else {\n",
       "    var attempts = 0;\n",
       "    var timer = setInterval(function(root) {\n",
       "      if (root.Bokeh !== undefined && root.Bokeh.Panel !== undefined && (root['vega'] !== undefined)) {\n",
       "        clearInterval(timer);\n",
       "        embed_document(root);\n",
       "      } else if (document.readyState == \"complete\") {\n",
       "        attempts++;\n",
       "        if (attempts > 200) {\n",
       "          clearInterval(timer);\n",
       "          console.log(\"Bokeh: ERROR: Unable to run BokehJS code because BokehJS library is missing\");\n",
       "        }\n",
       "      }\n",
       "    }, 25, root)\n",
       "  }\n",
       "})(window);</script>"
      ],
      "text/plain": [
       "Row\n",
       "    [0] Vega(Chart, debounce=10, selection=Selection)\n",
       "    [1] ParamFunction(function, _pane=Markdown)"
      ]
     },
     "execution_count": 25,
     "metadata": {
      "application/vnd.holoviews_exec.v0+json": {
       "id": "1047"
      }
     },
     "output_type": "execute_result"
    }
   ],
   "source": [
    "chart = alt.Chart(df).mark_tick().encode(\n",
    "    x=alt.X('Beak Length (mm):Q', scale=alt.Scale(zero=False)),\n",
    "    y='Species:N',\n",
    "    color=alt.condition(brush, 'Species:N', alt.value('lightgray'))\n",
    ").add_params(\n",
    "    brush\n",
    ")\n",
    "\n",
    "def filtered_table(selection):\n",
    "    if not selection:\n",
    "        return '## No selection'\n",
    "    query = ' & '.join(\n",
    "        f'{values[0]} <= `{col}` <= {values[1]}'\n",
    "        if pd.api.types.is_numeric_dtype(df[col])\n",
    "        else f'`{col}` in {values}' \n",
    "        for col, values in selection.items()\n",
    "    )\n",
    "    return pn.Column(\n",
    "        f'Query: {query}',\n",
    "        pn.pane.DataFrame(df.query(query), width=600, height=300)\n",
    "    )\n",
    "\n",
    "\n",
    "vega_pane = pn.pane.Vega(chart, debounce=10)\n",
    "pn.Row(vega_pane, pn.bind(filtered_table, vega_pane.selection.param.brush))"
   ]
  },
  {
   "cell_type": "code",
   "execution_count": 26,
   "id": "f69c8fcc",
   "metadata": {
    "ExecuteTime": {
     "end_time": "2023-10-06T16:31:55.731161Z",
     "start_time": "2023-10-06T16:31:55.439090Z"
    }
   },
   "outputs": [
    {
     "data": {},
     "metadata": {},
     "output_type": "display_data"
    },
    {
     "data": {
      "application/vnd.holoviews_exec.v0+json": "",
      "text/html": [
       "<div id='1069'>\n",
       "  <div class=\"bk-root\" id=\"d90712f3-0011-4fe5-b9d8-321475766e0f\" data-root-id=\"1069\"></div>\n",
       "</div>\n",
       "<script type=\"application/javascript\">(function(root) {\n",
       "  function embed_document(root) {\n",
       "    var docs_json = {\"bf704363-952b-4382-947d-3489096ac608\":{\"defs\":[{\"extends\":null,\"module\":null,\"name\":\"ReactiveHTML1\",\"overrides\":[],\"properties\":[]},{\"extends\":null,\"module\":null,\"name\":\"FlexBox1\",\"overrides\":[],\"properties\":[{\"default\":\"flex-start\",\"kind\":null,\"name\":\"align_content\"},{\"default\":\"flex-start\",\"kind\":null,\"name\":\"align_items\"},{\"default\":\"row\",\"kind\":null,\"name\":\"flex_direction\"},{\"default\":\"wrap\",\"kind\":null,\"name\":\"flex_wrap\"},{\"default\":\"flex-start\",\"kind\":null,\"name\":\"justify_content\"}]},{\"extends\":null,\"module\":null,\"name\":\"GridStack1\",\"overrides\":[],\"properties\":[{\"default\":\"warn\",\"kind\":null,\"name\":\"mode\"},{\"default\":null,\"kind\":null,\"name\":\"ncols\"},{\"default\":null,\"kind\":null,\"name\":\"nrows\"},{\"default\":true,\"kind\":null,\"name\":\"allow_resize\"},{\"default\":true,\"kind\":null,\"name\":\"allow_drag\"},{\"default\":[],\"kind\":null,\"name\":\"state\"}]},{\"extends\":null,\"module\":null,\"name\":\"click1\",\"overrides\":[],\"properties\":[{\"default\":\"\",\"kind\":null,\"name\":\"terminal_output\"},{\"default\":\"\",\"kind\":null,\"name\":\"debug_name\"},{\"default\":0,\"kind\":null,\"name\":\"clears\"}]},{\"extends\":null,\"module\":null,\"name\":\"NotificationAreaBase1\",\"overrides\":[],\"properties\":[{\"default\":\"bottom-right\",\"kind\":null,\"name\":\"position\"},{\"default\":0,\"kind\":null,\"name\":\"_clear\"}]},{\"extends\":null,\"module\":null,\"name\":\"NotificationArea1\",\"overrides\":[],\"properties\":[{\"default\":[],\"kind\":null,\"name\":\"notifications\"},{\"default\":\"bottom-right\",\"kind\":null,\"name\":\"position\"},{\"default\":0,\"kind\":null,\"name\":\"_clear\"},{\"default\":[{\"background\":\"#ffc107\",\"icon\":{\"className\":\"fas fa-exclamation-triangle\",\"color\":\"white\",\"tagName\":\"i\"},\"type\":\"warning\"},{\"background\":\"#007bff\",\"icon\":{\"className\":\"fas fa-info-circle\",\"color\":\"white\",\"tagName\":\"i\"},\"type\":\"info\"}],\"kind\":null,\"name\":\"types\"}]},{\"extends\":null,\"module\":null,\"name\":\"Notification\",\"overrides\":[],\"properties\":[{\"default\":null,\"kind\":null,\"name\":\"background\"},{\"default\":3000,\"kind\":null,\"name\":\"duration\"},{\"default\":null,\"kind\":null,\"name\":\"icon\"},{\"default\":\"\",\"kind\":null,\"name\":\"message\"},{\"default\":null,\"kind\":null,\"name\":\"notification_type\"},{\"default\":false,\"kind\":null,\"name\":\"_destroyed\"}]},{\"extends\":null,\"module\":null,\"name\":\"TemplateActions1\",\"overrides\":[],\"properties\":[{\"default\":0,\"kind\":null,\"name\":\"open_modal\"},{\"default\":0,\"kind\":null,\"name\":\"close_modal\"}]},{\"extends\":null,\"module\":null,\"name\":\"MaterialTemplateActions1\",\"overrides\":[],\"properties\":[{\"default\":0,\"kind\":null,\"name\":\"open_modal\"},{\"default\":0,\"kind\":null,\"name\":\"close_modal\"}]}],\"roots\":{\"references\":[{\"attributes\":{},\"id\":\"1075\",\"type\":\"Selection\"},{\"attributes\":{\"data\":{\"date\":{\"__ndarray__\":\"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\",\"dtype\":\"float64\",\"order\":\"little\",\"shape\":[300]},\"index\":[0,1,2,3,4,5,6,7,8,9,10,11,12,13,14,15,16,17,18,19,20,21,22,23,24,25,26,27,28,29,30,31,32,33,34,35,36,37,38,39,40,41,42,43,44,45,46,47,48,49,50,51,52,53,54,55,56,57,58,59,60,61,62,63,64,65,66,67,68,69,70,71,72,73,74,75,76,77,78,79,80,81,82,83,84,85,86,87,88,89,90,91,92,93,94,95,96,97,98,99,100,101,102,103,104,105,106,107,108,109,110,111,112,113,114,115,116,117,118,119,120,121,122,123,124,125,126,127,128,129,130,131,132,133,134,135,136,137,138,139,140,141,142,143,144,145,146,147,148,149,150,151,152,153,154,155,156,157,158,159,160,161,162,163,164,165,166,167,168,169,170,171,172,173,174,175,176,177,178,179,180,181,182,183,184,185,186,187,188,189,190,191,192,193,194,195,196,197,198,199,200,201,202,203,204,205,206,207,208,209,210,211,212,213,214,215,216,217,218,219,220,221,222,223,224,225,226,227,228,229,230,231,232,233,234,235,236,237,238,239,240,241,242,243,244,245,246,247,248,249,250,251,252,253,254,255,256,257,258,259,260,261,262,263,264,265,266,267,268,269,270,271,272,273,274,275,276,277,278,279,280,281,282,283,284,285,286,287,288,289,290,291,292,293,294,295,296,297,298,299],\"temp\":{\"__ndarray__\":\"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\",\"dtype\":\"float64\",\"order\":\"little\",\"shape\":[300]}},\"selected\":{\"id\":\"1075\"},\"selection_policy\":{\"id\":\"1074\"}},\"id\":\"1070\",\"type\":\"ColumnDataSource\"},{\"attributes\":{},\"id\":\"1074\",\"type\":\"UnionRenderers\"},{\"attributes\":{\"client_comm_id\":\"0fa4d9dda05b467ea9f111b69dd5ea00\",\"comm_id\":\"dd1ba2abc3e349a08de3a971120629b8\",\"plot_id\":\"1069\"},\"id\":\"1080\",\"type\":\"panel.models.comm_manager.CommManager\"},{\"attributes\":{\"css_classes\":[\"markdown\"],\"margin\":[5,5,5,5],\"name\":\"ParamFunction00168\",\"text\":\"&lt;h2&gt;No selection&lt;/h2&gt;\"},\"id\":\"1073\",\"type\":\"panel.models.markup.HTML\"},{\"attributes\":{\"children\":[{\"id\":\"1073\"}],\"margin\":[0,0,0,0],\"name\":\"Row00172\"},\"id\":\"1072\",\"type\":\"Row\"},{\"attributes\":{\"children\":[{\"id\":\"1071\"},{\"id\":\"1072\"}],\"margin\":[0,0,0,0],\"name\":\"Row00175\"},\"id\":\"1069\",\"type\":\"Row\"},{\"attributes\":{\"data\":{\"$schema\":\"https://vega.github.io/schema/vega-lite/v5.15.1.json\",\"config\":{\"view\":{\"continuousHeight\":300,\"continuousWidth\":300}},\"data\":{\"name\":\"data-d6cec75f311b68426ab7ff42ca51cca7\"},\"datasets\":{},\"encoding\":{\"color\":{\"condition\":{\"param\":\"brush\",\"value\":\"coral\"},\"value\":\"lightgray\"},\"x\":{\"field\":\"date\",\"type\":\"temporal\"},\"y\":{\"field\":\"temp\",\"scale\":{\"zero\":false},\"type\":\"quantitative\"}},\"mark\":{\"type\":\"circle\"},\"params\":[{\"name\":\"brush\",\"select\":{\"type\":\"interval\"}}],\"width\":500},\"data_sources\":{\"data-d6cec75f311b68426ab7ff42ca51cca7\":{\"id\":\"1070\"}},\"events\":[\"brush\"],\"height\":322,\"margin\":[5,5,30,5],\"subscribed_events\":[\"vega_event\"],\"throttle\":{\"brush\":10},\"width\":322},\"id\":\"1071\",\"type\":\"panel.models.vega.VegaPlot\"}],\"root_ids\":[\"1069\",\"1080\"]},\"title\":\"Bokeh Application\",\"version\":\"2.4.3\"}};\n",
       "    var render_items = [{\"docid\":\"bf704363-952b-4382-947d-3489096ac608\",\"root_ids\":[\"1069\"],\"roots\":{\"1069\":\"d90712f3-0011-4fe5-b9d8-321475766e0f\"}}];\n",
       "    root.Bokeh.embed.embed_items_notebook(docs_json, render_items);\n",
       "    for (const render_item of render_items) {\n",
       "      for (const root_id of render_item.root_ids) {\n",
       "\tconst id_el = document.getElementById(root_id)\n",
       "\tif (id_el.children.length && (id_el.children[0].className === 'bk-root')) {\n",
       "\t  const root_el = id_el.children[0]\n",
       "\t  root_el.id = root_el.id + '-rendered'\n",
       "\t}\n",
       "      }\n",
       "    }\n",
       "  }\n",
       "  if (root.Bokeh !== undefined && root.Bokeh.Panel !== undefined && ( root['vega'] !== undefined)) {\n",
       "    embed_document(root);\n",
       "  } else {\n",
       "    var attempts = 0;\n",
       "    var timer = setInterval(function(root) {\n",
       "      if (root.Bokeh !== undefined && root.Bokeh.Panel !== undefined && (root['vega'] !== undefined)) {\n",
       "        clearInterval(timer);\n",
       "        embed_document(root);\n",
       "      } else if (document.readyState == \"complete\") {\n",
       "        attempts++;\n",
       "        if (attempts > 200) {\n",
       "          clearInterval(timer);\n",
       "          console.log(\"Bokeh: ERROR: Unable to run BokehJS code because BokehJS library is missing\");\n",
       "        }\n",
       "      }\n",
       "    }, 25, root)\n",
       "  }\n",
       "})(window);</script>"
      ],
      "text/plain": [
       "Row\n",
       "    [0] Vega(Chart, debounce=10, selection=Selection)\n",
       "    [1] ParamFunction(function, _pane=Markdown)"
      ]
     },
     "execution_count": 26,
     "metadata": {
      "application/vnd.holoviews_exec.v0+json": {
       "id": "1069"
      }
     },
     "output_type": "execute_result"
    }
   ],
   "source": [
    "temps = data.seattle_temps()[:300]\n",
    "\n",
    "brush = alt.selection_interval(name='brush')\n",
    "\n",
    "chart = alt.Chart(temps).mark_circle().encode(\n",
    "    x='date:T',\n",
    "    y=alt.Y('temp:Q', scale={'zero': False}),\n",
    "    color=alt.condition(brush, alt.value('coral'), alt.value('lightgray'))\n",
    ").properties(\n",
    "    width=500\n",
    ").add_params(\n",
    "    brush\n",
    ")\n",
    "\n",
    "def filtered_table(selection):\n",
    "    if not selection:\n",
    "        return '## No selection'\n",
    "    query = ' & '.join(\n",
    "        f'\"{pd.to_datetime(values[0], unit=\"ms\")}\" <= `{col}` <= \"{pd.to_datetime(values[1], unit=\"ms\")}\"'\n",
    "        if pd.api.types.is_datetime64_any_dtype(temps[col]) else f'{values[0]} <= `{col}` <= {values[1]}'\n",
    "        for col, values in selection.items()\n",
    "    )\n",
    "    return pn.Column(\n",
    "        f'Query: {query}',\n",
    "        pn.pane.DataFrame(temps.query(query), width=600, height=300)\n",
    "    )\n",
    "\n",
    "\n",
    "vega_pane = pn.pane.Vega(chart, debounce=10)\n",
    "pn.Row(vega_pane, pn.bind(filtered_table, vega_pane.selection.param.brush))"
   ]
  },
  {
   "cell_type": "code",
   "execution_count": 27,
   "id": "2a294854",
   "metadata": {
    "ExecuteTime": {
     "end_time": "2023-10-06T16:32:04.226460Z",
     "start_time": "2023-10-06T16:32:04.033914Z"
    }
   },
   "outputs": [
    {
     "data": {},
     "metadata": {},
     "output_type": "display_data"
    },
    {
     "data": {
      "application/vnd.holoviews_exec.v0+json": "",
      "text/html": [
       "<div id='1091'>\n",
       "  <div class=\"bk-root\" id=\"7c4a1c48-9d4c-4a43-8566-ab62d9098390\" data-root-id=\"1091\"></div>\n",
       "</div>\n",
       "<script type=\"application/javascript\">(function(root) {\n",
       "  function embed_document(root) {\n",
       "    var docs_json = {\"a71a5ff3-fa89-4165-a1c5-636e3a9f9f41\":{\"defs\":[{\"extends\":null,\"module\":null,\"name\":\"ReactiveHTML1\",\"overrides\":[],\"properties\":[]},{\"extends\":null,\"module\":null,\"name\":\"FlexBox1\",\"overrides\":[],\"properties\":[{\"default\":\"flex-start\",\"kind\":null,\"name\":\"align_content\"},{\"default\":\"flex-start\",\"kind\":null,\"name\":\"align_items\"},{\"default\":\"row\",\"kind\":null,\"name\":\"flex_direction\"},{\"default\":\"wrap\",\"kind\":null,\"name\":\"flex_wrap\"},{\"default\":\"flex-start\",\"kind\":null,\"name\":\"justify_content\"}]},{\"extends\":null,\"module\":null,\"name\":\"GridStack1\",\"overrides\":[],\"properties\":[{\"default\":\"warn\",\"kind\":null,\"name\":\"mode\"},{\"default\":null,\"kind\":null,\"name\":\"ncols\"},{\"default\":null,\"kind\":null,\"name\":\"nrows\"},{\"default\":true,\"kind\":null,\"name\":\"allow_resize\"},{\"default\":true,\"kind\":null,\"name\":\"allow_drag\"},{\"default\":[],\"kind\":null,\"name\":\"state\"}]},{\"extends\":null,\"module\":null,\"name\":\"click1\",\"overrides\":[],\"properties\":[{\"default\":\"\",\"kind\":null,\"name\":\"terminal_output\"},{\"default\":\"\",\"kind\":null,\"name\":\"debug_name\"},{\"default\":0,\"kind\":null,\"name\":\"clears\"}]},{\"extends\":null,\"module\":null,\"name\":\"NotificationAreaBase1\",\"overrides\":[],\"properties\":[{\"default\":\"bottom-right\",\"kind\":null,\"name\":\"position\"},{\"default\":0,\"kind\":null,\"name\":\"_clear\"}]},{\"extends\":null,\"module\":null,\"name\":\"NotificationArea1\",\"overrides\":[],\"properties\":[{\"default\":[],\"kind\":null,\"name\":\"notifications\"},{\"default\":\"bottom-right\",\"kind\":null,\"name\":\"position\"},{\"default\":0,\"kind\":null,\"name\":\"_clear\"},{\"default\":[{\"background\":\"#ffc107\",\"icon\":{\"className\":\"fas fa-exclamation-triangle\",\"color\":\"white\",\"tagName\":\"i\"},\"type\":\"warning\"},{\"background\":\"#007bff\",\"icon\":{\"className\":\"fas fa-info-circle\",\"color\":\"white\",\"tagName\":\"i\"},\"type\":\"info\"}],\"kind\":null,\"name\":\"types\"}]},{\"extends\":null,\"module\":null,\"name\":\"Notification\",\"overrides\":[],\"properties\":[{\"default\":null,\"kind\":null,\"name\":\"background\"},{\"default\":3000,\"kind\":null,\"name\":\"duration\"},{\"default\":null,\"kind\":null,\"name\":\"icon\"},{\"default\":\"\",\"kind\":null,\"name\":\"message\"},{\"default\":null,\"kind\":null,\"name\":\"notification_type\"},{\"default\":false,\"kind\":null,\"name\":\"_destroyed\"}]},{\"extends\":null,\"module\":null,\"name\":\"TemplateActions1\",\"overrides\":[],\"properties\":[{\"default\":0,\"kind\":null,\"name\":\"open_modal\"},{\"default\":0,\"kind\":null,\"name\":\"close_modal\"}]},{\"extends\":null,\"module\":null,\"name\":\"MaterialTemplateActions1\",\"overrides\":[],\"properties\":[{\"default\":0,\"kind\":null,\"name\":\"open_modal\"},{\"default\":0,\"kind\":null,\"name\":\"close_modal\"}]}],\"roots\":{\"references\":[{\"attributes\":{\"js_property_callbacks\":{\"change:active\":[{\"id\":\"1118\"}]},\"labels\":[\"Show actions\"],\"margin\":[5,10,5,10]},\"id\":\"1095\",\"type\":\"CheckboxGroup\"},{\"attributes\":{\"js_property_callbacks\":{\"change:value\":[{\"id\":\"1146\"}]},\"margin\":[5,10,5,10],\"options\":[[\"auto\",\"auto\"],[\"fixed\",\"fixed\"],[\"fit\",\"fit\"],[\"min\",\"min\"],[\"max\",\"max\"]],\"title\":\"Width policy\",\"value\":\"auto\"},\"id\":\"1112\",\"type\":\"panel.models.widgets.CustomSelect\"},{\"attributes\":{\"args\":{\"bidirectional\":true,\"properties\":{\"value\":\"theme\"},\"source\":{\"id\":\"1117\"},\"target\":{\"id\":\"1096\"}},\"code\":\"\\n    var value = source['theme'];\\n    value = value;\\n    value = value;\\n    try {\\n      var property = target.properties['value'];\\n      if (property !== undefined) { property.validate(value); }\\n    } catch(err) {\\n      console.log('WARNING: Could not set value on target, raised error: ' + err);\\n      return;\\n    }\\n    try {\\n      target['value'] = value;\\n    } catch(err) {\\n      console.log(err)\\n    }\\n    \",\"tags\":[[2206085982304,[null,\"value\"],[null,\"theme\"]]]},\"id\":\"1121\",\"type\":\"CustomJS\"},{\"attributes\":{\"args\":{\"bidirectional\":true,\"properties\":{\"value\":\"width\"},\"source\":{\"id\":\"1117\"},\"target\":{\"id\":\"1105\"}},\"code\":\"\\n    var value = source['width'];\\n    value = value;\\n    value = value;\\n    try {\\n      var property = target.properties['value'];\\n      if (property !== undefined) { property.validate(value); }\\n    } catch(err) {\\n      console.log('WARNING: Could not set value on target, raised error: ' + err);\\n      return;\\n    }\\n    try {\\n      target['value'] = value;\\n    } catch(err) {\\n      console.log(err)\\n    }\\n    \",\"tags\":[[2206085987584,[null,\"value\"],[null,\"width\"]]]},\"id\":\"1133\",\"type\":\"CustomJS\"},{\"attributes\":{\"js_property_callbacks\":{\"change:value\":[{\"id\":\"1120\"}]},\"margin\":[5,10,5,10],\"options\":[[\"excel\",\"excel\"],[\"ggplot2\",\"ggplot2\"],[\"quartz\",\"quartz\"],[\"vox\",\"vox\"],[\"fivethirtyeight\",\"fivethirtyeight\"],[\"dark\",\"dark\"],[\"latimes\",\"latimes\"],[\"urbaninstitute\",\"urbaninstitute\"],[\"googlecharts\",\"googlecharts\"]],\"title\":\"Theme\",\"value\":\"excel\"},\"id\":\"1096\",\"type\":\"panel.models.widgets.CustomSelect\"},{\"attributes\":{\"args\":{\"bidirectional\":true,\"properties\":{\"value\":\"sizing_mode\"},\"source\":{\"id\":\"1114\"},\"target\":{\"id\":\"1117\"}},\"code\":\"\\n    var value = source['value'];\\n    value = value;\\n    value = value;\\n    try {\\n      var property = target.properties['sizing_mode'];\\n      if (property !== undefined) { property.validate(value); }\\n    } catch(err) {\\n      console.log('WARNING: Could not set sizing_mode on target, raised error: ' + err);\\n      return;\\n    }\\n    try {\\n      target['sizing_mode'] = value;\\n    } catch(err) {\\n      console.log(err)\\n    }\\n    \",\"tags\":[[2206085984320,[null,\"value\"],[null,\"sizing_mode\"]]]},\"id\":\"1150\",\"type\":\"CustomJS\"},{\"attributes\":{\"js_property_callbacks\":{\"change:value\":[{\"id\":\"1138\"}]},\"low\":0,\"margin\":[5,10,5,10],\"mode\":\"int\",\"placeholder\":\"0\",\"title\":\"Min height\"},\"id\":\"1108\",\"type\":\"Spinner\"},{\"attributes\":{\"children\":[{\"id\":\"1094\"},{\"id\":\"1095\"},{\"id\":\"1096\"}],\"css_classes\":[\"panel-widget-box\"],\"margin\":[5,5,5,5],\"min_width\":300,\"name\":\"Controls\",\"width\":300},\"id\":\"1093\",\"type\":\"Column\"},{\"attributes\":{\"js_property_callbacks\":{\"change:value\":[{\"id\":\"1134\"}]},\"low\":0,\"margin\":[5,10,5,10],\"mode\":\"int\",\"placeholder\":\"0\",\"title\":\"Height\"},\"id\":\"1106\",\"type\":\"Spinner\"},{\"attributes\":{\"args\":{\"bidirectional\":true,\"properties\":{\"value\":\"margin\"},\"source\":{\"id\":\"1111\"},\"target\":{\"id\":\"1117\"}},\"code\":\"\\n    var value = source['value'];\\n    value = JSON.parse(value.replace(/'/g, '\\\"'));\\n    value = value;\\n    try {\\n      var property = target.properties['margin'];\\n      if (property !== undefined) { property.validate(value); }\\n    } catch(err) {\\n      console.log('WARNING: Could not set margin on target, raised error: ' + err);\\n      return;\\n    }\\n    try {\\n      target['margin'] = value;\\n    } catch(err) {\\n      console.log(err)\\n    }\\n    \",\"tags\":[[2206085978128,[null,\"value\"],[null,\"margin\"]]]},\"id\":\"1144\",\"type\":\"CustomJS\"},{\"attributes\":{\"args\":{\"bidirectional\":true,\"properties\":{\"value\":\"max_height\"},\"source\":{\"id\":\"1117\"},\"target\":{\"id\":\"1110\"}},\"code\":\"\\n    var value = source['max_height'];\\n    value = value;\\n    value = value;\\n    try {\\n      var property = target.properties['value'];\\n      if (property !== undefined) { property.validate(value); }\\n    } catch(err) {\\n      console.log('WARNING: Could not set value on target, raised error: ' + err);\\n      return;\\n    }\\n    try {\\n      target['value'] = value;\\n    } catch(err) {\\n      console.log(err)\\n    }\\n    \",\"tags\":[[2206085977600,[null,\"value\"],[null,\"max_height\"]]]},\"id\":\"1143\",\"type\":\"CustomJS\"},{\"attributes\":{\"js_property_callbacks\":{\"change:value\":[{\"id\":\"1148\"}]},\"margin\":[5,10,5,10],\"options\":[[\"auto\",\"auto\"],[\"fixed\",\"fixed\"],[\"fit\",\"fit\"],[\"min\",\"min\"],[\"max\",\"max\"]],\"title\":\"Height policy\",\"value\":\"auto\"},\"id\":\"1113\",\"type\":\"panel.models.widgets.CustomSelect\"},{\"attributes\":{\"children\":[{\"id\":\"1099\"},{\"id\":\"1100\"},{\"id\":\"1101\"},{\"id\":\"1102\"},{\"id\":\"1103\"},{\"id\":\"1104\"},{\"id\":\"1105\"},{\"id\":\"1106\"},{\"id\":\"1107\"},{\"id\":\"1108\"},{\"id\":\"1109\"},{\"id\":\"1110\"},{\"id\":\"1111\"},{\"id\":\"1112\"},{\"id\":\"1113\"},{\"id\":\"1114\"},{\"id\":\"1115\"}],\"css_classes\":[\"panel-widget-box\"],\"margin\":[5,5,5,5],\"min_width\":300,\"name\":\"Layout\",\"width\":300},\"id\":\"1098\",\"type\":\"Column\"},{\"attributes\":{\"args\":{\"bidirectional\":true,\"properties\":{\"value\":\"margin\"},\"source\":{\"id\":\"1117\"},\"target\":{\"id\":\"1111\"}},\"code\":\"\\n    var value = source['margin'];\\n    value = value;\\n    value = JSON.stringify(value).replace(/,/g, \\\",\\\").replace(/:/g, \\\": \\\");\\n    try {\\n      var property = target.properties['value'];\\n      if (property !== undefined) { property.validate(value); }\\n    } catch(err) {\\n      console.log('WARNING: Could not set value on target, raised error: ' + err);\\n      return;\\n    }\\n    try {\\n      target['value'] = value;\\n    } catch(err) {\\n      console.log(err)\\n    }\\n    \",\"tags\":[[2206085978128,[null,\"value\"],[null,\"margin\"]]]},\"id\":\"1145\",\"type\":\"CustomJS\"},{\"attributes\":{\"args\":{\"bidirectional\":true,\"properties\":{\"value\":\"width_policy\"},\"source\":{\"id\":\"1117\"},\"target\":{\"id\":\"1112\"}},\"code\":\"\\n    var value = source['width_policy'];\\n    value = value;\\n    value = value;\\n    try {\\n      var property = target.properties['value'];\\n      if (property !== undefined) { property.validate(value); }\\n    } catch(err) {\\n      console.log('WARNING: Could not set value on target, raised error: ' + err);\\n      return;\\n    }\\n    try {\\n      target['value'] = value;\\n    } catch(err) {\\n      console.log(err)\\n    }\\n    \",\"tags\":[[2206085978656,[null,\"value\"],[null,\"width_policy\"]]]},\"id\":\"1147\",\"type\":\"CustomJS\"},{\"attributes\":{\"args\":{\"bidirectional\":true,\"properties\":{\"value\":\"max_height\"},\"source\":{\"id\":\"1110\"},\"target\":{\"id\":\"1117\"}},\"code\":\"\\n    var value = source['value'];\\n    value = value;\\n    value = value;\\n    try {\\n      var property = target.properties['max_height'];\\n      if (property !== undefined) { property.validate(value); }\\n    } catch(err) {\\n      console.log('WARNING: Could not set max_height on target, raised error: ' + err);\\n      return;\\n    }\\n    try {\\n      target['max_height'] = value;\\n    } catch(err) {\\n      console.log(err)\\n    }\\n    \",\"tags\":[[2206085977600,[null,\"value\"],[null,\"max_height\"]]]},\"id\":\"1142\",\"type\":\"CustomJS\"},{\"attributes\":{\"margin\":[5,10,5,10],\"name\":\"\",\"text\":\"<b>Layout</b>\"},\"id\":\"1099\",\"type\":\"Div\"},{\"attributes\":{\"margin\":[5,10,5,10],\"name\":\"\",\"text\":\"<b>Controls</b>\"},\"id\":\"1094\",\"type\":\"Div\"},{\"attributes\":{\"args\":{\"bidirectional\":true,\"properties\":{\"value\":\"min_width\"},\"source\":{\"id\":\"1107\"},\"target\":{\"id\":\"1117\"}},\"code\":\"\\n    var value = source['value'];\\n    value = value;\\n    value = value;\\n    try {\\n      var property = target.properties['min_width'];\\n      if (property !== undefined) { property.validate(value); }\\n    } catch(err) {\\n      console.log('WARNING: Could not set min_width on target, raised error: ' + err);\\n      return;\\n    }\\n    try {\\n      target['min_width'] = value;\\n    } catch(err) {\\n      console.log(err)\\n    }\\n    \",\"tags\":[[2206085975296,[null,\"value\"],[null,\"min_width\"]]]},\"id\":\"1136\",\"type\":\"CustomJS\"},{\"attributes\":{\"active\":[0],\"js_property_callbacks\":{\"change:active\":[{\"id\":\"1152\"}]},\"labels\":[\"Visible\"],\"margin\":[5,10,5,10]},\"id\":\"1115\",\"type\":\"CheckboxGroup\"},{\"attributes\":{\"js_property_callbacks\":{\"change:value\":[{\"id\":\"1130\"}]},\"margin\":[5,10,5,10],\"title\":\"Css classes\"},\"id\":\"1104\",\"type\":\"TextInput\"},{\"attributes\":{\"args\":{\"bidirectional\":true,\"properties\":{\"value\":\"background\"},\"source\":{\"id\":\"1103\"},\"target\":{\"id\":\"1117\"}},\"code\":\"\\n    var value = source['value'];\\n    value = JSON.parse(value.replace(/'/g, '\\\"'));\\n    value = value;\\n    try {\\n      var property = target.properties['background'];\\n      if (property !== undefined) { property.validate(value); }\\n    } catch(err) {\\n      console.log('WARNING: Could not set background on target, raised error: ' + err);\\n      return;\\n    }\\n    try {\\n      target['background'] = value;\\n    } catch(err) {\\n      console.log(err)\\n    }\\n    \",\"tags\":[[2206085982064,[null,\"value\"],[null,\"background\"]]]},\"id\":\"1128\",\"type\":\"CustomJS\"},{\"attributes\":{\"args\":{\"bidirectional\":true,\"properties\":{\"value\":\"name\"},\"source\":{\"id\":\"1100\"},\"target\":{\"id\":\"1117\"}},\"code\":\"\\n    var value = source['value'];\\n    value = value;\\n    value = value;\\n    try {\\n      var property = target.properties['name'];\\n      if (property !== undefined) { property.validate(value); }\\n    } catch(err) {\\n      console.log('WARNING: Could not set name on target, raised error: ' + err);\\n      return;\\n    }\\n    try {\\n      target['name'] = value;\\n    } catch(err) {\\n      console.log(err)\\n    }\\n    \",\"tags\":[[2206085983984,[null,\"value\"],[null,\"name\"]]]},\"id\":\"1122\",\"type\":\"CustomJS\"},{\"attributes\":{\"args\":{\"bidirectional\":true,\"properties\":{\"value\":\"visible\"},\"source\":{\"id\":\"1117\"},\"target\":{\"id\":\"1115\"}},\"code\":\"\\n    var value = source['visible'];\\n    value = value;\\n    value = value ? [0] : [];\\n    try {\\n      var property = target.properties['active'];\\n      if (property !== undefined) { property.validate(value); }\\n    } catch(err) {\\n      console.log('WARNING: Could not set active on target, raised error: ' + err);\\n      return;\\n    }\\n    try {\\n      target['active'] = value;\\n    } catch(err) {\\n      console.log(err)\\n    }\\n    \",\"tags\":[[2206085976160,[null,\"active\"],[null,\"visible\"]]]},\"id\":\"1153\",\"type\":\"CustomJS\"},{\"attributes\":{\"args\":{\"bidirectional\":true,\"properties\":{\"value\":\"height_policy\"},\"source\":{\"id\":\"1113\"},\"target\":{\"id\":\"1117\"}},\"code\":\"\\n    var value = source['value'];\\n    value = value;\\n    value = value;\\n    try {\\n      var property = target.properties['height_policy'];\\n      if (property !== undefined) { property.validate(value); }\\n    } catch(err) {\\n      console.log('WARNING: Could not set height_policy on target, raised error: ' + err);\\n      return;\\n    }\\n    try {\\n      target['height_policy'] = value;\\n    } catch(err) {\\n      console.log(err)\\n    }\\n    \",\"tags\":[[2206085977504,[null,\"value\"],[null,\"height_policy\"]]]},\"id\":\"1148\",\"type\":\"CustomJS\"},{\"attributes\":{\"args\":{\"bidirectional\":true,\"properties\":{\"value\":\"theme\"},\"source\":{\"id\":\"1096\"},\"target\":{\"id\":\"1117\"}},\"code\":\"\\n    var value = source['value'];\\n    value = value;\\n    value = value;\\n    try {\\n      var property = target.properties['theme'];\\n      if (property !== undefined) { property.validate(value); }\\n    } catch(err) {\\n      console.log('WARNING: Could not set theme on target, raised error: ' + err);\\n      return;\\n    }\\n    try {\\n      target['theme'] = value;\\n    } catch(err) {\\n      console.log(err)\\n    }\\n    \",\"tags\":[[2206085982304,[null,\"value\"],[null,\"theme\"]]]},\"id\":\"1120\",\"type\":\"CustomJS\"},{\"attributes\":{\"js_property_callbacks\":{\"change:value\":[{\"id\":\"1144\"}]},\"margin\":[5,10,5,10],\"title\":\"Margin\",\"value\":\"[5, 5, 30, 5]\"},\"id\":\"1111\",\"type\":\"TextInput\"},{\"attributes\":{\"data\":{\"$schema\":\"https://vega.github.io/schema/vega-lite/v5.json\",\"data\":{\"url\":\"https://raw.githubusercontent.com/vega/vega/master/docs/data/disasters.csv\"},\"encoding\":{\"color\":{\"field\":\"Entity\",\"legend\":null,\"type\":\"nominal\"},\"size\":{\"field\":\"Deaths\",\"legend\":{\"clipHeight\":30,\"title\":\"Annual Global Deaths\"},\"scale\":{\"range\":[0,5000]},\"type\":\"quantitative\"},\"x\":{\"axis\":{\"labelAngle\":90},\"field\":\"Year\",\"scale\":{\"zero\":false},\"type\":\"quantitative\"},\"y\":{\"axis\":{\"title\":\"\"},\"field\":\"Entity\",\"type\":\"nominal\"}},\"height\":400,\"mark\":{\"opacity\":0.8,\"stroke\":\"black\",\"strokeWidth\":1,\"type\":\"circle\"},\"transform\":[{\"filter\":\"datum.Entity !== 'All natural disasters'\"}],\"width\":\"container\"},\"height\":422,\"js_property_callbacks\":{\"change:align\":[{\"id\":\"1125\"}],\"change:aspect_ratio\":[{\"id\":\"1127\"}],\"change:background\":[{\"id\":\"1129\"}],\"change:css_classes\":[{\"id\":\"1131\"}],\"change:height\":[{\"id\":\"1135\"}],\"change:height_policy\":[{\"id\":\"1149\"}],\"change:margin\":[{\"id\":\"1145\"}],\"change:max_height\":[{\"id\":\"1143\"}],\"change:max_width\":[{\"id\":\"1141\"}],\"change:min_height\":[{\"id\":\"1139\"}],\"change:min_width\":[{\"id\":\"1137\"}],\"change:name\":[{\"id\":\"1123\"}],\"change:show_actions\":[{\"id\":\"1119\"}],\"change:sizing_mode\":[{\"id\":\"1151\"}],\"change:theme\":[{\"id\":\"1121\"}],\"change:visible\":[{\"id\":\"1153\"}],\"change:width\":[{\"id\":\"1133\"}],\"change:width_policy\":[{\"id\":\"1147\"}]},\"margin\":[5,5,30,5],\"name\":\"Vega00107\",\"sizing_mode\":\"stretch_width\",\"subscribed_events\":[\"vega_event\"],\"theme\":\"excel\"},\"id\":\"1117\",\"type\":\"panel.models.vega.VegaPlot\"},{\"attributes\":{\"js_property_callbacks\":{\"change:value\":[{\"id\":\"1136\"}]},\"low\":0,\"margin\":[5,10,5,10],\"mode\":\"int\",\"placeholder\":\"0\",\"title\":\"Min width\"},\"id\":\"1107\",\"type\":\"Spinner\"},{\"attributes\":{\"child\":{\"id\":\"1098\"},\"name\":\"Layout\",\"title\":\"Layout\"},\"id\":\"1116\",\"type\":\"Panel\"},{\"attributes\":{\"js_property_callbacks\":{\"change:value\":[{\"id\":\"1124\"}]},\"margin\":[5,10,5,10],\"title\":\"Align\",\"value\":\"'start'\"},\"id\":\"1101\",\"type\":\"TextInput\"},{\"attributes\":{\"js_property_callbacks\":{\"change:value\":[{\"id\":\"1140\"}]},\"low\":0,\"margin\":[5,10,5,10],\"mode\":\"int\",\"placeholder\":\"0\",\"title\":\"Max width\"},\"id\":\"1109\",\"type\":\"Spinner\"},{\"attributes\":{\"args\":{\"bidirectional\":true,\"properties\":{\"value\":\"align\"},\"source\":{\"id\":\"1117\"},\"target\":{\"id\":\"1101\"}},\"code\":\"\\n    var value = source['align'];\\n    value = value;\\n    value = JSON.stringify(value).replace(/,/g, \\\",\\\").replace(/:/g, \\\": \\\");\\n    try {\\n      var property = target.properties['value'];\\n      if (property !== undefined) { property.validate(value); }\\n    } catch(err) {\\n      console.log('WARNING: Could not set value on target, raised error: ' + err);\\n      return;\\n    }\\n    try {\\n      target['value'] = value;\\n    } catch(err) {\\n      console.log(err)\\n    }\\n    \",\"tags\":[[2206085981728,[null,\"value\"],[null,\"align\"]]]},\"id\":\"1125\",\"type\":\"CustomJS\"},{\"attributes\":{\"children\":[{\"id\":\"1092\"},{\"id\":\"1117\"}],\"margin\":[0,0,0,0],\"name\":\"Row00243\",\"sizing_mode\":\"stretch_width\"},\"id\":\"1091\",\"type\":\"Row\"},{\"attributes\":{\"child\":{\"id\":\"1093\"},\"name\":\"Controls\",\"title\":\"Controls\"},\"id\":\"1097\",\"type\":\"Panel\"},{\"attributes\":{\"args\":{\"bidirectional\":true,\"properties\":{\"value\":\"aspect_ratio\"},\"source\":{\"id\":\"1117\"},\"target\":{\"id\":\"1102\"}},\"code\":\"\\n    var value = source['aspect_ratio'];\\n    value = value;\\n    value = JSON.stringify(value).replace(/,/g, \\\",\\\").replace(/:/g, \\\": \\\");\\n    try {\\n      var property = target.properties['value'];\\n      if (property !== undefined) { property.validate(value); }\\n    } catch(err) {\\n      console.log('WARNING: Could not set value on target, raised error: ' + err);\\n      return;\\n    }\\n    try {\\n      target['value'] = value;\\n    } catch(err) {\\n      console.log(err)\\n    }\\n    \",\"tags\":[[2206085983408,[null,\"value\"],[null,\"aspect_ratio\"]]]},\"id\":\"1127\",\"type\":\"CustomJS\"},{\"attributes\":{\"args\":{\"bidirectional\":true,\"properties\":{\"value\":\"height_policy\"},\"source\":{\"id\":\"1117\"},\"target\":{\"id\":\"1113\"}},\"code\":\"\\n    var value = source['height_policy'];\\n    value = value;\\n    value = value;\\n    try {\\n      var property = target.properties['value'];\\n      if (property !== undefined) { property.validate(value); }\\n    } catch(err) {\\n      console.log('WARNING: Could not set value on target, raised error: ' + err);\\n      return;\\n    }\\n    try {\\n      target['value'] = value;\\n    } catch(err) {\\n      console.log(err)\\n    }\\n    \",\"tags\":[[2206085977504,[null,\"value\"],[null,\"height_policy\"]]]},\"id\":\"1149\",\"type\":\"CustomJS\"},{\"attributes\":{\"js_property_callbacks\":{\"change:value\":[{\"id\":\"1128\"}]},\"margin\":[5,10,5,10],\"title\":\"Background\"},\"id\":\"1103\",\"type\":\"TextInput\"},{\"attributes\":{\"args\":{\"bidirectional\":true,\"properties\":{\"value\":\"max_width\"},\"source\":{\"id\":\"1117\"},\"target\":{\"id\":\"1109\"}},\"code\":\"\\n    var value = source['max_width'];\\n    value = value;\\n    value = value;\\n    try {\\n      var property = target.properties['value'];\\n      if (property !== undefined) { property.validate(value); }\\n    } catch(err) {\\n      console.log('WARNING: Could not set value on target, raised error: ' + err);\\n      return;\\n    }\\n    try {\\n      target['value'] = value;\\n    } catch(err) {\\n      console.log(err)\\n    }\\n    \",\"tags\":[[2206085975200,[null,\"value\"],[null,\"max_width\"]]]},\"id\":\"1141\",\"type\":\"CustomJS\"},{\"attributes\":{\"args\":{\"bidirectional\":true,\"properties\":{\"value\":\"align\"},\"source\":{\"id\":\"1101\"},\"target\":{\"id\":\"1117\"}},\"code\":\"\\n    var value = source['value'];\\n    value = JSON.parse(value.replace(/'/g, '\\\"'));\\n    value = value;\\n    try {\\n      var property = target.properties['align'];\\n      if (property !== undefined) { property.validate(value); }\\n    } catch(err) {\\n      console.log('WARNING: Could not set align on target, raised error: ' + err);\\n      return;\\n    }\\n    try {\\n      target['align'] = value;\\n    } catch(err) {\\n      console.log(err)\\n    }\\n    \",\"tags\":[[2206085981728,[null,\"value\"],[null,\"align\"]]]},\"id\":\"1124\",\"type\":\"CustomJS\"},{\"attributes\":{\"args\":{\"bidirectional\":true,\"properties\":{\"value\":\"aspect_ratio\"},\"source\":{\"id\":\"1102\"},\"target\":{\"id\":\"1117\"}},\"code\":\"\\n    var value = source['value'];\\n    value = JSON.parse(value.replace(/'/g, '\\\"'));\\n    value = value;\\n    try {\\n      var property = target.properties['aspect_ratio'];\\n      if (property !== undefined) { property.validate(value); }\\n    } catch(err) {\\n      console.log('WARNING: Could not set aspect_ratio on target, raised error: ' + err);\\n      return;\\n    }\\n    try {\\n      target['aspect_ratio'] = value;\\n    } catch(err) {\\n      console.log(err)\\n    }\\n    \",\"tags\":[[2206085983408,[null,\"value\"],[null,\"aspect_ratio\"]]]},\"id\":\"1126\",\"type\":\"CustomJS\"},{\"attributes\":{\"args\":{\"bidirectional\":true,\"properties\":{\"value\":\"min_height\"},\"source\":{\"id\":\"1117\"},\"target\":{\"id\":\"1108\"}},\"code\":\"\\n    var value = source['min_height'];\\n    value = value;\\n    value = value;\\n    try {\\n      var property = target.properties['value'];\\n      if (property !== undefined) { property.validate(value); }\\n    } catch(err) {\\n      console.log('WARNING: Could not set value on target, raised error: ' + err);\\n      return;\\n    }\\n    try {\\n      target['value'] = value;\\n    } catch(err) {\\n      console.log(err)\\n    }\\n    \",\"tags\":[[2206085983120,[null,\"value\"],[null,\"min_height\"]]]},\"id\":\"1139\",\"type\":\"CustomJS\"},{\"attributes\":{\"args\":{\"bidirectional\":true,\"properties\":{\"value\":\"min_height\"},\"source\":{\"id\":\"1108\"},\"target\":{\"id\":\"1117\"}},\"code\":\"\\n    var value = source['value'];\\n    value = value;\\n    value = value;\\n    try {\\n      var property = target.properties['min_height'];\\n      if (property !== undefined) { property.validate(value); }\\n    } catch(err) {\\n      console.log('WARNING: Could not set min_height on target, raised error: ' + err);\\n      return;\\n    }\\n    try {\\n      target['min_height'] = value;\\n    } catch(err) {\\n      console.log(err)\\n    }\\n    \",\"tags\":[[2206085983120,[null,\"value\"],[null,\"min_height\"]]]},\"id\":\"1138\",\"type\":\"CustomJS\"},{\"attributes\":{\"js_property_callbacks\":{\"change:value\":[{\"id\":\"1126\"}]},\"margin\":[5,10,5,10],\"title\":\"Aspect ratio\"},\"id\":\"1102\",\"type\":\"TextInput\"},{\"attributes\":{\"args\":{\"bidirectional\":true,\"properties\":{\"value\":\"background\"},\"source\":{\"id\":\"1117\"},\"target\":{\"id\":\"1103\"}},\"code\":\"\\n    var value = source['background'];\\n    value = value;\\n    value = JSON.stringify(value).replace(/,/g, \\\",\\\").replace(/:/g, \\\": \\\");\\n    try {\\n      var property = target.properties['value'];\\n      if (property !== undefined) { property.validate(value); }\\n    } catch(err) {\\n      console.log('WARNING: Could not set value on target, raised error: ' + err);\\n      return;\\n    }\\n    try {\\n      target['value'] = value;\\n    } catch(err) {\\n      console.log(err)\\n    }\\n    \",\"tags\":[[2206085982064,[null,\"value\"],[null,\"background\"]]]},\"id\":\"1129\",\"type\":\"CustomJS\"},{\"attributes\":{\"args\":{\"bidirectional\":true,\"properties\":{\"value\":\"max_width\"},\"source\":{\"id\":\"1109\"},\"target\":{\"id\":\"1117\"}},\"code\":\"\\n    var value = source['value'];\\n    value = value;\\n    value = value;\\n    try {\\n      var property = target.properties['max_width'];\\n      if (property !== undefined) { property.validate(value); }\\n    } catch(err) {\\n      console.log('WARNING: Could not set max_width on target, raised error: ' + err);\\n      return;\\n    }\\n    try {\\n      target['max_width'] = value;\\n    } catch(err) {\\n      console.log(err)\\n    }\\n    \",\"tags\":[[2206085975200,[null,\"value\"],[null,\"max_width\"]]]},\"id\":\"1140\",\"type\":\"CustomJS\"},{\"attributes\":{\"args\":{\"bidirectional\":true,\"properties\":{\"value\":\"css_classes\"},\"source\":{\"id\":\"1104\"},\"target\":{\"id\":\"1117\"}},\"code\":\"\\n    var value = source['value'];\\n    value = JSON.parse(value.replace(/'/g, '\\\"'));\\n    value = value;\\n    try {\\n      var property = target.properties['css_classes'];\\n      if (property !== undefined) { property.validate(value); }\\n    } catch(err) {\\n      console.log('WARNING: Could not set css_classes on target, raised error: ' + err);\\n      return;\\n    }\\n    try {\\n      target['css_classes'] = value;\\n    } catch(err) {\\n      console.log(err)\\n    }\\n    \",\"tags\":[[2206085979184,[null,\"value\"],[null,\"css_classes\"]]]},\"id\":\"1130\",\"type\":\"CustomJS\"},{\"attributes\":{\"args\":{\"bidirectional\":true,\"properties\":{\"value\":\"name\"},\"source\":{\"id\":\"1117\"},\"target\":{\"id\":\"1100\"}},\"code\":\"\\n    var value = source['name'];\\n    value = value;\\n    value = value;\\n    try {\\n      var property = target.properties['value'];\\n      if (property !== undefined) { property.validate(value); }\\n    } catch(err) {\\n      console.log('WARNING: Could not set value on target, raised error: ' + err);\\n      return;\\n    }\\n    try {\\n      target['value'] = value;\\n    } catch(err) {\\n      console.log(err)\\n    }\\n    \",\"tags\":[[2206085983984,[null,\"value\"],[null,\"name\"]]]},\"id\":\"1123\",\"type\":\"CustomJS\"},{\"attributes\":{\"args\":{\"bidirectional\":true,\"properties\":{\"value\":\"sizing_mode\"},\"source\":{\"id\":\"1117\"},\"target\":{\"id\":\"1114\"}},\"code\":\"\\n    var value = source['sizing_mode'];\\n    value = value;\\n    value = value;\\n    try {\\n      var property = target.properties['value'];\\n      if (property !== undefined) { property.validate(value); }\\n    } catch(err) {\\n      console.log('WARNING: Could not set value on target, raised error: ' + err);\\n      return;\\n    }\\n    try {\\n      target['value'] = value;\\n    } catch(err) {\\n      console.log(err)\\n    }\\n    \",\"tags\":[[2206085984320,[null,\"value\"],[null,\"sizing_mode\"]]]},\"id\":\"1151\",\"type\":\"CustomJS\"},{\"attributes\":{\"js_property_callbacks\":{\"change:value\":[{\"id\":\"1142\"}]},\"low\":0,\"margin\":[5,10,5,10],\"mode\":\"int\",\"placeholder\":\"0\",\"title\":\"Max height\"},\"id\":\"1110\",\"type\":\"Spinner\"},{\"attributes\":{\"args\":{\"bidirectional\":true,\"properties\":{\"value\":\"height\"},\"source\":{\"id\":\"1106\"},\"target\":{\"id\":\"1117\"}},\"code\":\"\\n    var value = source['value'];\\n    value = value;\\n    value = value;\\n    try {\\n      var property = target.properties['height'];\\n      if (property !== undefined) { property.validate(value); }\\n    } catch(err) {\\n      console.log('WARNING: Could not set height on target, raised error: ' + err);\\n      return;\\n    }\\n    try {\\n      target['height'] = value;\\n    } catch(err) {\\n      console.log(err)\\n    }\\n    \",\"tags\":[[2206085983648,[null,\"value\"],[null,\"height\"]]]},\"id\":\"1134\",\"type\":\"CustomJS\"},{\"attributes\":{\"js_property_callbacks\":{\"change:value\":[{\"id\":\"1150\"}]},\"margin\":[5,10,5,10],\"options\":[[\"fixed\",\"fixed\"],[\"stretch_width\",\"stretch_width\"],[\"stretch_height\",\"stretch_height\"],[\"stretch_both\",\"stretch_both\"],[\"scale_width\",\"scale_width\"],[\"scale_height\",\"scale_height\"],[\"scale_both\",\"scale_both\"],[\"None\",\"None\"]],\"title\":\"Sizing mode\"},\"id\":\"1114\",\"type\":\"panel.models.widgets.CustomSelect\"},{\"attributes\":{\"js_property_callbacks\":{\"change:value\":[{\"id\":\"1132\"}]},\"low\":0,\"margin\":[5,10,5,10],\"mode\":\"int\",\"placeholder\":\"0\",\"title\":\"Width\"},\"id\":\"1105\",\"type\":\"Spinner\"},{\"attributes\":{\"args\":{\"bidirectional\":true,\"properties\":{\"value\":\"width_policy\"},\"source\":{\"id\":\"1112\"},\"target\":{\"id\":\"1117\"}},\"code\":\"\\n    var value = source['value'];\\n    value = value;\\n    value = value;\\n    try {\\n      var property = target.properties['width_policy'];\\n      if (property !== undefined) { property.validate(value); }\\n    } catch(err) {\\n      console.log('WARNING: Could not set width_policy on target, raised error: ' + err);\\n      return;\\n    }\\n    try {\\n      target['width_policy'] = value;\\n    } catch(err) {\\n      console.log(err)\\n    }\\n    \",\"tags\":[[2206085978656,[null,\"value\"],[null,\"width_policy\"]]]},\"id\":\"1146\",\"type\":\"CustomJS\"},{\"attributes\":{\"disabled\":true,\"js_property_callbacks\":{\"change:value\":[{\"id\":\"1122\"}]},\"margin\":[5,10,5,10],\"max_length\":5000,\"title\":\"Name\",\"value\":\"Vega00107\"},\"id\":\"1100\",\"type\":\"TextInput\"},{\"attributes\":{\"margin\":[0,0,0,0],\"tabs\":[{\"id\":\"1097\"},{\"id\":\"1116\"}]},\"id\":\"1092\",\"type\":\"panel.models.tabs.Tabs\"},{\"attributes\":{\"args\":{\"bidirectional\":true,\"properties\":{\"value\":\"visible\"},\"source\":{\"id\":\"1115\"},\"target\":{\"id\":\"1117\"}},\"code\":\"\\n    var value = source['active'];\\n    value = value.indexOf(0) >= 0;\\n    value = value;\\n    try {\\n      var property = target.properties['visible'];\\n      if (property !== undefined) { property.validate(value); }\\n    } catch(err) {\\n      console.log('WARNING: Could not set visible on target, raised error: ' + err);\\n      return;\\n    }\\n    try {\\n      target['visible'] = value;\\n    } catch(err) {\\n      console.log(err)\\n    }\\n    \",\"tags\":[[2206085976160,[null,\"active\"],[null,\"visible\"]]]},\"id\":\"1152\",\"type\":\"CustomJS\"},{\"attributes\":{\"args\":{\"bidirectional\":true,\"properties\":{\"value\":\"min_width\"},\"source\":{\"id\":\"1117\"},\"target\":{\"id\":\"1107\"}},\"code\":\"\\n    var value = source['min_width'];\\n    value = value;\\n    value = value;\\n    try {\\n      var property = target.properties['value'];\\n      if (property !== undefined) { property.validate(value); }\\n    } catch(err) {\\n      console.log('WARNING: Could not set value on target, raised error: ' + err);\\n      return;\\n    }\\n    try {\\n      target['value'] = value;\\n    } catch(err) {\\n      console.log(err)\\n    }\\n    \",\"tags\":[[2206085975296,[null,\"value\"],[null,\"min_width\"]]]},\"id\":\"1137\",\"type\":\"CustomJS\"},{\"attributes\":{\"args\":{\"bidirectional\":true,\"properties\":{\"value\":\"show_actions\"},\"source\":{\"id\":\"1117\"},\"target\":{\"id\":\"1095\"}},\"code\":\"\\n    var value = source['show_actions'];\\n    value = value;\\n    value = value ? [0] : [];\\n    try {\\n      var property = target.properties['active'];\\n      if (property !== undefined) { property.validate(value); }\\n    } catch(err) {\\n      console.log('WARNING: Could not set active on target, raised error: ' + err);\\n      return;\\n    }\\n    try {\\n      target['active'] = value;\\n    } catch(err) {\\n      console.log(err)\\n    }\\n    \",\"tags\":[[2206085983744,[null,\"active\"],[null,\"show_actions\"]]]},\"id\":\"1119\",\"type\":\"CustomJS\"},{\"attributes\":{\"args\":{\"bidirectional\":true,\"properties\":{\"value\":\"show_actions\"},\"source\":{\"id\":\"1095\"},\"target\":{\"id\":\"1117\"}},\"code\":\"\\n    var value = source['active'];\\n    value = value.indexOf(0) >= 0;\\n    value = value;\\n    try {\\n      var property = target.properties['show_actions'];\\n      if (property !== undefined) { property.validate(value); }\\n    } catch(err) {\\n      console.log('WARNING: Could not set show_actions on target, raised error: ' + err);\\n      return;\\n    }\\n    try {\\n      target['show_actions'] = value;\\n    } catch(err) {\\n      console.log(err)\\n    }\\n    \",\"tags\":[[2206085983744,[null,\"active\"],[null,\"show_actions\"]]]},\"id\":\"1118\",\"type\":\"CustomJS\"},{\"attributes\":{\"client_comm_id\":\"54414a6bb9014e069fa8e552ab4c73fe\",\"comm_id\":\"c5fd43e6f1bb4f94abcc0c0c3f4bdb1a\",\"plot_id\":\"1091\"},\"id\":\"1154\",\"type\":\"panel.models.comm_manager.CommManager\"},{\"attributes\":{\"args\":{\"bidirectional\":true,\"properties\":{\"value\":\"css_classes\"},\"source\":{\"id\":\"1117\"},\"target\":{\"id\":\"1104\"}},\"code\":\"\\n    var value = source['css_classes'];\\n    value = value;\\n    value = JSON.stringify(value).replace(/,/g, \\\",\\\").replace(/:/g, \\\": \\\");\\n    try {\\n      var property = target.properties['value'];\\n      if (property !== undefined) { property.validate(value); }\\n    } catch(err) {\\n      console.log('WARNING: Could not set value on target, raised error: ' + err);\\n      return;\\n    }\\n    try {\\n      target['value'] = value;\\n    } catch(err) {\\n      console.log(err)\\n    }\\n    \",\"tags\":[[2206085979184,[null,\"value\"],[null,\"css_classes\"]]]},\"id\":\"1131\",\"type\":\"CustomJS\"},{\"attributes\":{\"args\":{\"bidirectional\":true,\"properties\":{\"value\":\"height\"},\"source\":{\"id\":\"1117\"},\"target\":{\"id\":\"1106\"}},\"code\":\"\\n    var value = source['height'];\\n    value = value;\\n    value = value;\\n    try {\\n      var property = target.properties['value'];\\n      if (property !== undefined) { property.validate(value); }\\n    } catch(err) {\\n      console.log('WARNING: Could not set value on target, raised error: ' + err);\\n      return;\\n    }\\n    try {\\n      target['value'] = value;\\n    } catch(err) {\\n      console.log(err)\\n    }\\n    \",\"tags\":[[2206085983648,[null,\"value\"],[null,\"height\"]]]},\"id\":\"1135\",\"type\":\"CustomJS\"},{\"attributes\":{\"args\":{\"bidirectional\":true,\"properties\":{\"value\":\"width\"},\"source\":{\"id\":\"1105\"},\"target\":{\"id\":\"1117\"}},\"code\":\"\\n    var value = source['value'];\\n    value = value;\\n    value = value;\\n    try {\\n      var property = target.properties['width'];\\n      if (property !== undefined) { property.validate(value); }\\n    } catch(err) {\\n      console.log('WARNING: Could not set width on target, raised error: ' + err);\\n      return;\\n    }\\n    try {\\n      target['width'] = value;\\n    } catch(err) {\\n      console.log(err)\\n    }\\n    \",\"tags\":[[2206085987584,[null,\"value\"],[null,\"width\"]]]},\"id\":\"1132\",\"type\":\"CustomJS\"}],\"root_ids\":[\"1091\",\"1154\"]},\"title\":\"Bokeh Application\",\"version\":\"2.4.3\"}};\n",
       "    var render_items = [{\"docid\":\"a71a5ff3-fa89-4165-a1c5-636e3a9f9f41\",\"root_ids\":[\"1091\"],\"roots\":{\"1091\":\"7c4a1c48-9d4c-4a43-8566-ab62d9098390\"}}];\n",
       "    root.Bokeh.embed.embed_items_notebook(docs_json, render_items);\n",
       "    for (const render_item of render_items) {\n",
       "      for (const root_id of render_item.root_ids) {\n",
       "\tconst id_el = document.getElementById(root_id)\n",
       "\tif (id_el.children.length && (id_el.children[0].className === 'bk-root')) {\n",
       "\t  const root_el = id_el.children[0]\n",
       "\t  root_el.id = root_el.id + '-rendered'\n",
       "\t}\n",
       "      }\n",
       "    }\n",
       "  }\n",
       "  if (root.Bokeh !== undefined && root.Bokeh.Panel !== undefined && ( root['vega'] !== undefined)) {\n",
       "    embed_document(root);\n",
       "  } else {\n",
       "    var attempts = 0;\n",
       "    var timer = setInterval(function(root) {\n",
       "      if (root.Bokeh !== undefined && root.Bokeh.Panel !== undefined && (root['vega'] !== undefined)) {\n",
       "        clearInterval(timer);\n",
       "        embed_document(root);\n",
       "      } else if (document.readyState == \"complete\") {\n",
       "        attempts++;\n",
       "        if (attempts > 200) {\n",
       "          clearInterval(timer);\n",
       "          console.log(\"Bokeh: ERROR: Unable to run BokehJS code because BokehJS library is missing\");\n",
       "        }\n",
       "      }\n",
       "    }, 25, root)\n",
       "  }\n",
       "})(window);</script>"
      ],
      "text/plain": [
       "Row(sizing_mode='stretch_width')\n",
       "    [0] Tabs\n",
       "        [0] WidgetBox(name='Controls', width=300)\n",
       "            [0] StaticText(value='<b>Controls</b>')\n",
       "            [1] Checkbox(name='Show actions')\n",
       "            [2] Select(name='Theme', options=OrderedDict([('excel', ...]), value='excel')\n",
       "        [1] WidgetBox(name='Layout', width=300)\n",
       "            [0] StaticText(value='<b>Layout</b>')\n",
       "            [1] TextInput(disabled=True, name='Name', value='Vega00107')\n",
       "            [2] LiteralInput(name='Align', serializer='json', value='start')\n",
       "            [3] LiteralInput(name='Aspect ratio', serializer='json')\n",
       "            [4] LiteralInput(name='Background', serializer='json')\n",
       "            [5] ListInput(name='Css classes', serializer='json', type=<class 'list'>)\n",
       "            [6] IntInput(name='Width', start=0)\n",
       "            [7] IntInput(name='Height', start=0)\n",
       "            [8] IntInput(name='Min width', start=0)\n",
       "            [9] IntInput(name='Min height', start=0)\n",
       "            [10] IntInput(name='Max width', start=0)\n",
       "            [11] IntInput(name='Max height', start=0)\n",
       "            [12] LiteralInput(name='Margin', serializer='json', value=(5, 5, 30, 5))\n",
       "            [13] Select(name='Width policy', options=OrderedDict([('auto', ...]), value='auto')\n",
       "            [14] Select(name='Height policy', options=OrderedDict([('auto', ...]), value='auto')\n",
       "            [15] Select(name='Sizing mode', options=OrderedDict([('fixed', ...]))\n",
       "            [16] Checkbox(name='Visible', value=True)\n",
       "    [1] Vega(dict, selection=Selection)"
      ]
     },
     "execution_count": 27,
     "metadata": {
      "application/vnd.holoviews_exec.v0+json": {
       "id": "1091"
      }
     },
     "output_type": "execute_result"
    }
   ],
   "source": [
    "pn.Row(vgl_responsive_pane.controls(jslink=True), vgl_responsive_pane, sizing_mode=\"stretch_width\")"
   ]
  },
  {
   "cell_type": "code",
   "execution_count": null,
   "id": "b7116263",
   "metadata": {},
   "outputs": [],
   "source": []
  }
 ],
 "metadata": {
  "kernelspec": {
   "display_name": "Python 3 (ipykernel)",
   "language": "python",
   "name": "python3"
  },
  "language_info": {
   "codemirror_mode": {
    "name": "ipython",
    "version": 3
   },
   "file_extension": ".py",
   "mimetype": "text/x-python",
   "name": "python",
   "nbconvert_exporter": "python",
   "pygments_lexer": "ipython3",
   "version": "3.9.13"
  },
  "toc": {
   "base_numbering": 1,
   "nav_menu": {},
   "number_sections": true,
   "sideBar": true,
   "skip_h1_title": false,
   "title_cell": "Table of Contents",
   "title_sidebar": "Contents",
   "toc_cell": false,
   "toc_position": {},
   "toc_section_display": true,
   "toc_window_display": false
  },
  "varInspector": {
   "cols": {
    "lenName": 16,
    "lenType": 16,
    "lenVar": 40
   },
   "kernels_config": {
    "python": {
     "delete_cmd_postfix": "",
     "delete_cmd_prefix": "del ",
     "library": "var_list.py",
     "varRefreshCmd": "print(var_dic_list())"
    },
    "r": {
     "delete_cmd_postfix": ") ",
     "delete_cmd_prefix": "rm(",
     "library": "var_list.r",
     "varRefreshCmd": "cat(var_dic_list()) "
    }
   },
   "types_to_exclude": [
    "module",
    "function",
    "builtin_function_or_method",
    "instance",
    "_Feature"
   ],
   "window_display": false
  }
 },
 "nbformat": 4,
 "nbformat_minor": 5
}

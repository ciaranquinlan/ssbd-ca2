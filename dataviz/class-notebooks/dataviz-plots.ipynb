{
 "cells": [
  {
   "cell_type": "code",
   "execution_count": null,
   "id": "a9c099d4",
   "metadata": {},
   "outputs": [],
   "source": [
    "# https://plotly.com/python/choropleth-maps/\n",
    "# To use the USA States geometry, set locationmode='USA-states' and provide locations as two-letter state abbreviations:\n",
    "\n",
    "import plotly.express as px\n",
    "\n",
    "# this is a basic example of a choropleth fig = px.choropleth(locations=[\"CA\", \"TX\", \"NY\"], locationmode=\"USA-states\", color=[1,2,3], scope=\"usa\")\n",
    "#fig.show()"
   ]
  },
  {
   "cell_type": "code",
   "execution_count": null,
   "id": "ac583db3",
   "metadata": {},
   "outputs": [],
   "source": [
    "import pandas as pd\n",
    "# import the  data file for Irish and USA names from 1964 to 2021\n",
    "df_names = pd.read_csv('./df_ca2_dataviz.csv')"
   ]
  },
  {
   "cell_type": "code",
   "execution_count": null,
   "id": "07870d10",
   "metadata": {},
   "outputs": [],
   "source": [
    "df_names.describe"
   ]
  },
  {
   "cell_type": "code",
   "execution_count": null,
   "id": "8aa4c827",
   "metadata": {},
   "outputs": [],
   "source": [
    "# Get the name you want to search for ie search_name ='Tom'\n",
    "import pandas as pd\n",
    "import re\n",
    "\n",
    "def to_sentence_case(text):\n",
    "    if not text:\n",
    "        return text\n",
    "    return text[0].upper() + text[1:].lower()\n",
    "\n",
    "# Input name to find\n",
    "nametofind = input(\"Please enter a Name: \")\n",
    "nametofind = to_sentence_case(nametofind)\n",
    "print(\"You entered:\", nametofind)\n",
    "\n",
    "# Escape any special characters in the user input\n",
    "nametofind = re.escape(nametofind)\n",
    "\n",
    "# Filter the DataFrame based on the name\n",
    "#df_name = df_names[df_names['Name'].str.contains(nametofind, case=False, regex=True)]\n",
    "# Filter the DataFrame based on the exact name\n",
    "df_name_all_years = df_names[df_names['Name'].str.lower() == nametofind.lower()]\n",
    "\n",
    "# Show the filtered DataFrame\n",
    "print(df_name_all_years)"
   ]
  },
  {
   "cell_type": "code",
   "execution_count": null,
   "id": "dc321e24",
   "metadata": {},
   "outputs": [],
   "source": [
    "# aggregrate count for all years for that name in each 'State' \n",
    "# Group by 'State' and sum the 'Count' values for each state\n",
    "df_name_aggregated = df_name_all_years.groupby('State')['Count'].sum().reset_index()\n",
    "# Show the filtered DataFrame\n",
    "print(df_name_aggregated )"
   ]
  },
  {
   "cell_type": "code",
   "execution_count": null,
   "id": "c51eb899",
   "metadata": {},
   "outputs": [],
   "source": [
    "# This plot will plot all the values bus Us state of a given name from 1964 to 2021plot_locations df_names\n",
    "\n",
    "import plotly.express as px\n",
    "\n",
    "# Assuming df_name has 'State' and 'Count' columns\n",
    "fig = px.choropleth(\n",
    "    df_name_aggregated,\n",
    "    locations='State',\n",
    "    color='Count',\n",
    "    locationmode=\"USA-states\",\n",
    "    scope=\"usa\",\n",
    "    title=f'Popularity of {nametofind} Across US States',\n",
    "    color_continuous_scale=\"Viridis\"\n",
    ")\n",
    "fig.show()\n"
   ]
  },
  {
   "cell_type": "code",
   "execution_count": null,
   "id": "6bb27480",
   "metadata": {},
   "outputs": [],
   "source": [
    "import dash\n",
    "from dash import dcc, html\n",
    "from dash.dependencies import Input, Output\n",
    "import plotly.express as px\n",
    "import pandas as pd\n",
    "\n",
    "# DataFrame = df_name_aggregated\n",
    "# df_name_aggregated\n",
    "# Create the Dash app\n",
    "app = dash.Dash(__name__)\n",
    "\n",
    "# Define the layout of the app\n",
    "app.layout = html.Div([\n",
    "    html.Label(\"Enter a Name:\"),\n",
    "    dcc.Input(id='name-input', type='text', value=''),\n",
    "    dcc.Graph(id='popularity-graph'),\n",
    "])\n",
    "\n",
    "# Define the callback to update the graph based on the input value\n",
    "@app.callback(\n",
    "    Output('popularity-graph', 'figure'),\n",
    "    [Input('name-input', 'value')]\n",
    ")\n",
    "def update_graph(name):\n",
    "    # Filter and aggregate the data based on the input name\n",
    "    filtered_df = df_names[df_names['Name'].str.lower() == name.lower()]\n",
    "    aggregated_df = filtered_df.groupby('State')['Count'].sum().reset_index()\n",
    "    \n",
    "    # Create the choropleth map\n",
    "    fig = px.choropleth(\n",
    "        aggregated_df,\n",
    "        locations='State',\n",
    "        color='Count',\n",
    "        locationmode=\"USA-states\",\n",
    "        scope=\"usa\",\n",
    "        title=f'Popularity of {name} Across US States',\n",
    "        color_continuous_scale=\"Viridis\"\n",
    "    )\n",
    "    return fig\n",
    "\n",
    "# Run the app\n",
    "if __name__ == '__main__':\n",
    "    app.run_server(debug=True)\n"
   ]
  },
  {
   "cell_type": "markdown",
   "id": "ce51c59b",
   "metadata": {},
   "source": [
    "Data Visualisation\n",
    "Create an interactive dashboard using your chosen dataset. \n",
    "Create a wireframe proposing your design before the implementation of the dashboard. \n",
    "The dashboard will include at least two rows and three columns of six sections in total. \n",
    "There should be at least four plots in the sections, and the remaining sections could be text, tables or any other relevant information you deem necessary to give critical insightsto the viewer of the dashboard. \n",
    "The dashboard will include a range of visualisations that effectively communicate the key insights derived from the exploratory data analysis.\n",
    "\n"
   ]
  },
  {
   "cell_type": "code",
   "execution_count": null,
   "id": "04b36abd",
   "metadata": {},
   "outputs": [],
   "source": [
    "The dashboard could include any of the following visualisations:\n",
    "A heatmap showing the correlation matrix between all continuous variables. A heatmap could help the\n",
    "viewers understand the strength and direction of the relationships between variables.\n",
    "\n",
    "A scatter plot matrix will show pairwise relationships between all continuous variables. A scatter plot matrix\n",
    "could enable the viewer to identify visually potential outliers or non-linear relationships between the\n",
    "variables visually.\n",
    "\n",
    "A bar chart showing the distribution of the target variable could help the viewers understand the range and\n",
    "distribution of the target variable.\n",
    "\n",
    "Histogram for each continuous variable could help the viewers understand the distribution of the\n",
    "continuous variables.\n",
    "\n",
    "A stacked bar chart showing the distribution of each categorical variable could help viewers understand the\n",
    "distribution of the categorical variables and how they relate to the target variable.\n",
    "\n",
    "A box plot showing the distribution of the target variable for each category of each categorical variable\n",
    "could enable viewers to understand how the target variable varies across the different categories of\n",
    "categorical variables.\n",
    "\n",
    "A line chart showing any patterns or trends that change over time across a continuous variable.\n",
    "\n",
    "A scatter plot showing the relationship or association between two continuous variables. Particularly useful\n",
    "for identifying patterns, trends, clusters or correlations in the data.\n",
    "\n",
    "The dashboard will be designed to be interactive, allowing the audience to filter and explore the data in\n",
    "more detail. For example, the audience can filter the categorical variables by category or select specific data\n",
    "points in the scatter plots to explore and understand the underlying data. \n",
    "The dashboard will also briefly describe the dataset, its provenance and domain, and a summary of the key insights \n",
    "derived from the exploratory data analysis. \n",
    "There will need to be at least four interactive plots in the dashboard. You can use\n",
    "any Python visualisation libraries such as Plotly Dash or Altair to create the interactive dashboard.\n",
    "\n",
    "\n"
   ]
  },
  {
   "cell_type": "code",
   "execution_count": null,
   "id": "1363771e",
   "metadata": {},
   "outputs": [],
   "source": []
  }
 ],
 "metadata": {
  "kernelspec": {
   "display_name": "Python 3 (ipykernel)",
   "language": "python",
   "name": "python3"
  },
  "language_info": {
   "codemirror_mode": {
    "name": "ipython",
    "version": 3
   },
   "file_extension": ".py",
   "mimetype": "text/x-python",
   "name": "python",
   "nbconvert_exporter": "python",
   "pygments_lexer": "ipython3",
   "version": "3.10.12"
  },
  "widgets": {
   "application/vnd.jupyter.widget-state+json": {
    "state": {},
    "version_major": 1,
    "version_minor": 0
   }
  }
 },
 "nbformat": 4,
 "nbformat_minor": 5
}
